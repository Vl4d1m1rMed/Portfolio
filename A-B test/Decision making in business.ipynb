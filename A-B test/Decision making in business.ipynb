{
 "cells": [
  {
   "cell_type": "markdown",
   "metadata": {},
   "source": [
    "# Проект: Принятие решений в бизнесе."
   ]
  },
  {
   "cell_type": "markdown",
   "metadata": {},
   "source": [
    "## Описание проекта\n",
    "\n",
    "\n",
    "Вы — аналитик крупного интернет-магазина. Вместе с отделом маркетинга вы подготовили список гипотез для увеличения выручки.\n",
    "Приоритизируйте гипотезы, запустите A/B-тест и проанализируйте результаты. \n",
    "\n",
    "**Часть 1.** Приоритизация гипотез.\n",
    "В файле /datasets/hypothesis.csv 9 гипотез по увеличению выручки интернет-магазина с указанными параметрами Reach, Impact, Confidence, Effort.\n",
    "Задача\n",
    "\n",
    "1.1 Примените фреймворк ICE для приоритизации гипотез. Отсортируйте их по убыванию приоритета.\n",
    "\n",
    "1.2 Примените фреймворк RICE для приоритизации гипотез. Отсортируйте их по убыванию приоритета.\n",
    "\n",
    "Укажите, как изменилась приоритизация гипотез при применении RICE вместо ICE. Объясните, почему так произошло."
   ]
  },
  {
   "cell_type": "markdown",
   "metadata": {},
   "source": [
    "**Часть 2.** Анализ A/B-теста\n",
    "Вы провели A/B-тест и получили результаты, которые описаны в файлах /datasets/orders.csv и /datasets/visitors.csv.\n",
    "Задача\n",
    "\n",
    "Проанализируйте A/B-тест:\n",
    "\n",
    "2.1 Постройте график кумулятивной выручки по группам. Сделайте выводы и предположения.\n",
    "\n",
    "2.2 Постройте график кумулятивного среднего чека по группам. Сделайте выводы и предположения.\n",
    "\n",
    "2.3 Постройте график относительного изменения кумулятивного среднего чека группы B к группе A. Сделайте выводы и предположения.\n",
    "\n",
    "2.4 Постройте график кумулятивного среднего количества заказов на посетителя по группам. Сделайте выводы и предположения.\n",
    "\n",
    "2.5 Постройте график относительного изменения кумулятивного среднего количества заказов на посетителя группы B к группе A. Сделайте выводы и предположения.\n",
    "\n",
    "2.6 Постройте точечный график количества заказов по пользователям. Сделайте выводы и предположения.\n",
    "\n",
    "2.7 Посчитайте 95-й и 99-й перцентили количества заказов на пользователя. Выберите границу для определения аномальных пользователей.\n",
    "\n",
    "2.8 Постройте точечный график стоимостей заказов. Сделайте выводы и предположения.\n",
    "\n",
    "2.9 Посчитайте 95-й и 99-й перцентили стоимости заказов. Выберите границу для определения аномальных заказов.\n",
    "\n",
    "2.10 Посчитайте статистическую значимость различий в среднем количестве заказов на посетителя между группами по «сырым» данным. Сделайте выводы и предположения.\n",
    "\n",
    "2.11 Посчитайте статистическую значимость различий в среднем чеке заказа между группами по «сырым» данным. Сделайте выводы и предположения.\n",
    "\n",
    "2.12 Посчитайте статистическую значимость различий в среднем количестве заказов на посетителя между группами по «очищенным» данным. Сделайте выводы и предположения.\n",
    "\n",
    "2.13 Посчитайте статистическую значимость различий в среднем чеке заказа между группами по «очищенным» данным. Сделайте выводы и предположения.\n",
    "\n",
    "2.14 Примите решение по результатам теста и объясните его. Варианты решений:\n",
    "1. Остановить тест, зафиксировать победу одной из групп.\n",
    "2. Остановить тест, зафиксировать отсутствие различий между группами.\n",
    "3. Продолжить тест."
   ]
  },
  {
   "cell_type": "markdown",
   "metadata": {},
   "source": [
    "### Загрузите данные и подготовьте их к анализу"
   ]
  },
  {
   "cell_type": "markdown",
   "metadata": {},
   "source": [
    "**Описание данных**\n",
    "\n",
    "**Данные для первой части**\n",
    "\n",
    "Файл /datasets/hypothesis.csv. Скачать датасет\n",
    "\n",
    "Hypothesis — краткое описание гипотезы;\n",
    "\n",
    "Reach — охват пользователей по 10-балльной шкале;\n",
    "\n",
    "Impact — влияние на пользователей по 10-балльной шкале;\n",
    "\n",
    "Confidence — уверенность в гипотезе по 10-балльной шкале;\n",
    "\n",
    "Efforts — затраты ресурсов на проверку гипотезы по 10-балльной шкале. Чем больше значение Efforts, тем дороже проверка гипотезы."
   ]
  },
  {
   "cell_type": "markdown",
   "metadata": {},
   "source": [
    "**Данные для второй части**\n",
    "\n",
    "*Файл /datasets/orders.csv. Скачать датасет*\n",
    "\n",
    "transactionId — идентификатор заказа;\n",
    "\n",
    "visitorId — идентификатор пользователя, совершившего заказ;\n",
    "\n",
    "date — дата, когда был совершён заказ;\n",
    "\n",
    "revenue — выручка заказа;\n",
    "\n",
    "group — группа A/B-теста, в которую попал заказ.\n",
    "\n",
    "\n",
    "*Файл /datasets/visitors.csv. Скачать датасет*\n",
    "\n",
    "date — дата;\n",
    "\n",
    "group — группа A/B-теста;\n",
    "\n",
    "visitors — количество пользователей в указанную дату в указанной группе A/B-теста"
   ]
  },
  {
   "cell_type": "markdown",
   "metadata": {},
   "source": [
    "Импортируем библиотеки"
   ]
  },
  {
   "cell_type": "code",
   "execution_count": 1,
   "metadata": {},
   "outputs": [],
   "source": [
    "import pandas as pd\n",
    "import numpy as np\n",
    "import seaborn as sns\n",
    "from matplotlib import pyplot as plt\n",
    "from IPython.display import display\n",
    "import scipy.stats as stats\n",
    "import datetime as dt"
   ]
  },
  {
   "cell_type": "markdown",
   "metadata": {},
   "source": [
    "Прочитаем файлы и сохраним их в переменные hypothesis, orders, visitors"
   ]
  },
  {
   "cell_type": "code",
   "execution_count": 2,
   "metadata": {},
   "outputs": [],
   "source": [
    "try:\n",
    "    hypothesis = pd.read_csv('hypothesis.csv')\n",
    "except:\n",
    "    hypothesis = pd.read_csv('https://code.s3.yandex.net/datasets/hypothesis.csv')\n"
   ]
  },
  {
   "cell_type": "code",
   "execution_count": 3,
   "metadata": {},
   "outputs": [],
   "source": [
    "try:\n",
    "    orders = pd.read_csv('orders.csv')\n",
    "except:\n",
    "    orders = pd.read_csv('https://code.s3.yandex.net/datasets/orders.csv')\n"
   ]
  },
  {
   "cell_type": "code",
   "execution_count": 4,
   "metadata": {},
   "outputs": [],
   "source": [
    "try:\n",
    "    visitors = pd.read_csv('visitors.csv')\n",
    "except:\n",
    "    visitors = pd.read_csv('https://code.s3.yandex.net/datasets/visitors.csv')\n"
   ]
  },
  {
   "cell_type": "markdown",
   "metadata": {},
   "source": [
    "Получим общую информацию о датафрейме hypothesis"
   ]
  },
  {
   "cell_type": "code",
   "execution_count": 5,
   "metadata": {},
   "outputs": [
    {
     "data": {
      "text/html": [
       "<div>\n",
       "<style scoped>\n",
       "    .dataframe tbody tr th:only-of-type {\n",
       "        vertical-align: middle;\n",
       "    }\n",
       "\n",
       "    .dataframe tbody tr th {\n",
       "        vertical-align: top;\n",
       "    }\n",
       "\n",
       "    .dataframe thead th {\n",
       "        text-align: right;\n",
       "    }\n",
       "</style>\n",
       "<table border=\"1\" class=\"dataframe\">\n",
       "  <thead>\n",
       "    <tr style=\"text-align: right;\">\n",
       "      <th></th>\n",
       "      <th>Hypothesis</th>\n",
       "      <th>Reach</th>\n",
       "      <th>Impact</th>\n",
       "      <th>Confidence</th>\n",
       "      <th>Efforts</th>\n",
       "    </tr>\n",
       "  </thead>\n",
       "  <tbody>\n",
       "    <tr>\n",
       "      <th>0</th>\n",
       "      <td>Добавить два новых канала привлечения трафика,...</td>\n",
       "      <td>3</td>\n",
       "      <td>10</td>\n",
       "      <td>8</td>\n",
       "      <td>6</td>\n",
       "    </tr>\n",
       "    <tr>\n",
       "      <th>1</th>\n",
       "      <td>Запустить собственную службу доставки, что сок...</td>\n",
       "      <td>2</td>\n",
       "      <td>5</td>\n",
       "      <td>4</td>\n",
       "      <td>10</td>\n",
       "    </tr>\n",
       "    <tr>\n",
       "      <th>2</th>\n",
       "      <td>Добавить блоки рекомендаций товаров на сайт ин...</td>\n",
       "      <td>8</td>\n",
       "      <td>3</td>\n",
       "      <td>7</td>\n",
       "      <td>3</td>\n",
       "    </tr>\n",
       "    <tr>\n",
       "      <th>3</th>\n",
       "      <td>Изменить структура категорий, что увеличит кон...</td>\n",
       "      <td>8</td>\n",
       "      <td>3</td>\n",
       "      <td>3</td>\n",
       "      <td>8</td>\n",
       "    </tr>\n",
       "    <tr>\n",
       "      <th>4</th>\n",
       "      <td>Изменить цвет фона главной страницы, чтобы уве...</td>\n",
       "      <td>3</td>\n",
       "      <td>1</td>\n",
       "      <td>1</td>\n",
       "      <td>1</td>\n",
       "    </tr>\n",
       "    <tr>\n",
       "      <th>5</th>\n",
       "      <td>Добавить страницу отзывов клиентов о магазине,...</td>\n",
       "      <td>3</td>\n",
       "      <td>2</td>\n",
       "      <td>2</td>\n",
       "      <td>3</td>\n",
       "    </tr>\n",
       "    <tr>\n",
       "      <th>6</th>\n",
       "      <td>Показать на главной странице баннеры с актуаль...</td>\n",
       "      <td>5</td>\n",
       "      <td>3</td>\n",
       "      <td>8</td>\n",
       "      <td>3</td>\n",
       "    </tr>\n",
       "    <tr>\n",
       "      <th>7</th>\n",
       "      <td>Добавить форму подписки на все основные страни...</td>\n",
       "      <td>10</td>\n",
       "      <td>7</td>\n",
       "      <td>8</td>\n",
       "      <td>5</td>\n",
       "    </tr>\n",
       "    <tr>\n",
       "      <th>8</th>\n",
       "      <td>Запустить акцию, дающую скидку на товар в день...</td>\n",
       "      <td>1</td>\n",
       "      <td>9</td>\n",
       "      <td>9</td>\n",
       "      <td>5</td>\n",
       "    </tr>\n",
       "  </tbody>\n",
       "</table>\n",
       "</div>"
      ],
      "text/plain": [
       "                                          Hypothesis  Reach  Impact  \\\n",
       "0  Добавить два новых канала привлечения трафика,...      3      10   \n",
       "1  Запустить собственную службу доставки, что сок...      2       5   \n",
       "2  Добавить блоки рекомендаций товаров на сайт ин...      8       3   \n",
       "3  Изменить структура категорий, что увеличит кон...      8       3   \n",
       "4  Изменить цвет фона главной страницы, чтобы уве...      3       1   \n",
       "5  Добавить страницу отзывов клиентов о магазине,...      3       2   \n",
       "6  Показать на главной странице баннеры с актуаль...      5       3   \n",
       "7  Добавить форму подписки на все основные страни...     10       7   \n",
       "8  Запустить акцию, дающую скидку на товар в день...      1       9   \n",
       "\n",
       "   Confidence  Efforts  \n",
       "0           8        6  \n",
       "1           4       10  \n",
       "2           7        3  \n",
       "3           3        8  \n",
       "4           1        1  \n",
       "5           2        3  \n",
       "6           8        3  \n",
       "7           8        5  \n",
       "8           9        5  "
      ]
     },
     "execution_count": 5,
     "metadata": {},
     "output_type": "execute_result"
    }
   ],
   "source": [
    "hypothesis"
   ]
  },
  {
   "cell_type": "code",
   "execution_count": 6,
   "metadata": {},
   "outputs": [
    {
     "name": "stdout",
     "output_type": "stream",
     "text": [
      "<class 'pandas.core.frame.DataFrame'>\n",
      "RangeIndex: 9 entries, 0 to 8\n",
      "Data columns (total 5 columns):\n",
      " #   Column      Non-Null Count  Dtype \n",
      "---  ------      --------------  ----- \n",
      " 0   Hypothesis  9 non-null      object\n",
      " 1   Reach       9 non-null      int64 \n",
      " 2   Impact      9 non-null      int64 \n",
      " 3   Confidence  9 non-null      int64 \n",
      " 4   Efforts     9 non-null      int64 \n",
      "dtypes: int64(4), object(1)\n",
      "memory usage: 488.0+ bytes\n"
     ]
    }
   ],
   "source": [
    "hypothesis.info()"
   ]
  },
  {
   "cell_type": "markdown",
   "metadata": {},
   "source": [
    "Проверим датафрейм  на наличие дубликатов"
   ]
  },
  {
   "cell_type": "code",
   "execution_count": 7,
   "metadata": {},
   "outputs": [
    {
     "data": {
      "text/plain": [
       "0"
      ]
     },
     "execution_count": 7,
     "metadata": {},
     "output_type": "execute_result"
    }
   ],
   "source": [
    "hypothesis.duplicated().sum()"
   ]
  },
  {
   "cell_type": "markdown",
   "metadata": {},
   "source": [
    "В датафрейме hypothesis отсутствуют пропуски, типы данных совпадают, дубликаты отсутствуют."
   ]
  },
  {
   "cell_type": "markdown",
   "metadata": {},
   "source": [
    "Получим общую информацию о датафрейме orders"
   ]
  },
  {
   "cell_type": "code",
   "execution_count": 8,
   "metadata": {},
   "outputs": [
    {
     "data": {
      "text/html": [
       "<div>\n",
       "<style scoped>\n",
       "    .dataframe tbody tr th:only-of-type {\n",
       "        vertical-align: middle;\n",
       "    }\n",
       "\n",
       "    .dataframe tbody tr th {\n",
       "        vertical-align: top;\n",
       "    }\n",
       "\n",
       "    .dataframe thead th {\n",
       "        text-align: right;\n",
       "    }\n",
       "</style>\n",
       "<table border=\"1\" class=\"dataframe\">\n",
       "  <thead>\n",
       "    <tr style=\"text-align: right;\">\n",
       "      <th></th>\n",
       "      <th>transactionId</th>\n",
       "      <th>visitorId</th>\n",
       "      <th>date</th>\n",
       "      <th>revenue</th>\n",
       "      <th>group</th>\n",
       "    </tr>\n",
       "  </thead>\n",
       "  <tbody>\n",
       "    <tr>\n",
       "      <th>0</th>\n",
       "      <td>3667963787</td>\n",
       "      <td>3312258926</td>\n",
       "      <td>2019-08-15</td>\n",
       "      <td>1650</td>\n",
       "      <td>B</td>\n",
       "    </tr>\n",
       "    <tr>\n",
       "      <th>1</th>\n",
       "      <td>2804400009</td>\n",
       "      <td>3642806036</td>\n",
       "      <td>2019-08-15</td>\n",
       "      <td>730</td>\n",
       "      <td>B</td>\n",
       "    </tr>\n",
       "    <tr>\n",
       "      <th>2</th>\n",
       "      <td>2961555356</td>\n",
       "      <td>4069496402</td>\n",
       "      <td>2019-08-15</td>\n",
       "      <td>400</td>\n",
       "      <td>A</td>\n",
       "    </tr>\n",
       "    <tr>\n",
       "      <th>3</th>\n",
       "      <td>3797467345</td>\n",
       "      <td>1196621759</td>\n",
       "      <td>2019-08-15</td>\n",
       "      <td>9759</td>\n",
       "      <td>B</td>\n",
       "    </tr>\n",
       "    <tr>\n",
       "      <th>4</th>\n",
       "      <td>2282983706</td>\n",
       "      <td>2322279887</td>\n",
       "      <td>2019-08-15</td>\n",
       "      <td>2308</td>\n",
       "      <td>B</td>\n",
       "    </tr>\n",
       "  </tbody>\n",
       "</table>\n",
       "</div>"
      ],
      "text/plain": [
       "   transactionId   visitorId        date  revenue group\n",
       "0     3667963787  3312258926  2019-08-15     1650     B\n",
       "1     2804400009  3642806036  2019-08-15      730     B\n",
       "2     2961555356  4069496402  2019-08-15      400     A\n",
       "3     3797467345  1196621759  2019-08-15     9759     B\n",
       "4     2282983706  2322279887  2019-08-15     2308     B"
      ]
     },
     "execution_count": 8,
     "metadata": {},
     "output_type": "execute_result"
    }
   ],
   "source": [
    "orders.head()"
   ]
  },
  {
   "cell_type": "code",
   "execution_count": 9,
   "metadata": {},
   "outputs": [
    {
     "name": "stdout",
     "output_type": "stream",
     "text": [
      "<class 'pandas.core.frame.DataFrame'>\n",
      "RangeIndex: 1197 entries, 0 to 1196\n",
      "Data columns (total 5 columns):\n",
      " #   Column         Non-Null Count  Dtype \n",
      "---  ------         --------------  ----- \n",
      " 0   transactionId  1197 non-null   int64 \n",
      " 1   visitorId      1197 non-null   int64 \n",
      " 2   date           1197 non-null   object\n",
      " 3   revenue        1197 non-null   int64 \n",
      " 4   group          1197 non-null   object\n",
      "dtypes: int64(3), object(2)\n",
      "memory usage: 46.9+ KB\n"
     ]
    }
   ],
   "source": [
    "orders.info()"
   ]
  },
  {
   "cell_type": "markdown",
   "metadata": {},
   "source": [
    "Пропуски отсутствуют. Столбец date следует привести к типу datetime."
   ]
  },
  {
   "cell_type": "markdown",
   "metadata": {},
   "source": [
    "Проверим датафрейм на наличие дубликатов"
   ]
  },
  {
   "cell_type": "code",
   "execution_count": 10,
   "metadata": {},
   "outputs": [
    {
     "data": {
      "text/plain": [
       "0"
      ]
     },
     "execution_count": 10,
     "metadata": {},
     "output_type": "execute_result"
    }
   ],
   "source": [
    "orders.duplicated().sum()"
   ]
  },
  {
   "cell_type": "markdown",
   "metadata": {},
   "source": [
    "Дубликаты отсутствуют. Приведем столбец date к типу datetime."
   ]
  },
  {
   "cell_type": "code",
   "execution_count": 11,
   "metadata": {},
   "outputs": [],
   "source": [
    "orders['date'] = pd.to_datetime(orders['date'])"
   ]
  },
  {
   "cell_type": "code",
   "execution_count": 12,
   "metadata": {},
   "outputs": [
    {
     "name": "stdout",
     "output_type": "stream",
     "text": [
      "<class 'pandas.core.frame.DataFrame'>\n",
      "RangeIndex: 1197 entries, 0 to 1196\n",
      "Data columns (total 5 columns):\n",
      " #   Column         Non-Null Count  Dtype         \n",
      "---  ------         --------------  -----         \n",
      " 0   transactionId  1197 non-null   int64         \n",
      " 1   visitorId      1197 non-null   int64         \n",
      " 2   date           1197 non-null   datetime64[ns]\n",
      " 3   revenue        1197 non-null   int64         \n",
      " 4   group          1197 non-null   object        \n",
      "dtypes: datetime64[ns](1), int64(3), object(1)\n",
      "memory usage: 46.9+ KB\n"
     ]
    }
   ],
   "source": [
    "orders.info()"
   ]
  },
  {
   "cell_type": "markdown",
   "metadata": {},
   "source": [
    "Тип данных в столбце date приведен к типу datetime. Пропуски отсутствуют. Дубликаты отсутствуют."
   ]
  },
  {
   "cell_type": "markdown",
   "metadata": {},
   "source": [
    "Получим общую информацию о датафрейме visitors"
   ]
  },
  {
   "cell_type": "code",
   "execution_count": 13,
   "metadata": {},
   "outputs": [
    {
     "data": {
      "text/html": [
       "<div>\n",
       "<style scoped>\n",
       "    .dataframe tbody tr th:only-of-type {\n",
       "        vertical-align: middle;\n",
       "    }\n",
       "\n",
       "    .dataframe tbody tr th {\n",
       "        vertical-align: top;\n",
       "    }\n",
       "\n",
       "    .dataframe thead th {\n",
       "        text-align: right;\n",
       "    }\n",
       "</style>\n",
       "<table border=\"1\" class=\"dataframe\">\n",
       "  <thead>\n",
       "    <tr style=\"text-align: right;\">\n",
       "      <th></th>\n",
       "      <th>date</th>\n",
       "      <th>group</th>\n",
       "      <th>visitors</th>\n",
       "    </tr>\n",
       "  </thead>\n",
       "  <tbody>\n",
       "    <tr>\n",
       "      <th>0</th>\n",
       "      <td>2019-08-01</td>\n",
       "      <td>A</td>\n",
       "      <td>719</td>\n",
       "    </tr>\n",
       "    <tr>\n",
       "      <th>1</th>\n",
       "      <td>2019-08-02</td>\n",
       "      <td>A</td>\n",
       "      <td>619</td>\n",
       "    </tr>\n",
       "    <tr>\n",
       "      <th>2</th>\n",
       "      <td>2019-08-03</td>\n",
       "      <td>A</td>\n",
       "      <td>507</td>\n",
       "    </tr>\n",
       "    <tr>\n",
       "      <th>3</th>\n",
       "      <td>2019-08-04</td>\n",
       "      <td>A</td>\n",
       "      <td>717</td>\n",
       "    </tr>\n",
       "    <tr>\n",
       "      <th>4</th>\n",
       "      <td>2019-08-05</td>\n",
       "      <td>A</td>\n",
       "      <td>756</td>\n",
       "    </tr>\n",
       "  </tbody>\n",
       "</table>\n",
       "</div>"
      ],
      "text/plain": [
       "         date group  visitors\n",
       "0  2019-08-01     A       719\n",
       "1  2019-08-02     A       619\n",
       "2  2019-08-03     A       507\n",
       "3  2019-08-04     A       717\n",
       "4  2019-08-05     A       756"
      ]
     },
     "execution_count": 13,
     "metadata": {},
     "output_type": "execute_result"
    }
   ],
   "source": [
    "visitors.head()"
   ]
  },
  {
   "cell_type": "code",
   "execution_count": 14,
   "metadata": {},
   "outputs": [
    {
     "name": "stdout",
     "output_type": "stream",
     "text": [
      "<class 'pandas.core.frame.DataFrame'>\n",
      "RangeIndex: 62 entries, 0 to 61\n",
      "Data columns (total 3 columns):\n",
      " #   Column    Non-Null Count  Dtype \n",
      "---  ------    --------------  ----- \n",
      " 0   date      62 non-null     object\n",
      " 1   group     62 non-null     object\n",
      " 2   visitors  62 non-null     int64 \n",
      "dtypes: int64(1), object(2)\n",
      "memory usage: 1.6+ KB\n"
     ]
    }
   ],
   "source": [
    "visitors.info()"
   ]
  },
  {
   "cell_type": "markdown",
   "metadata": {},
   "source": [
    "Пропуски отсутствуют. Столбец date следует привести к типу datetime."
   ]
  },
  {
   "cell_type": "markdown",
   "metadata": {},
   "source": [
    "Проверим датафрейм на наличие дубликатов"
   ]
  },
  {
   "cell_type": "code",
   "execution_count": 15,
   "metadata": {},
   "outputs": [
    {
     "data": {
      "text/plain": [
       "0"
      ]
     },
     "execution_count": 15,
     "metadata": {},
     "output_type": "execute_result"
    }
   ],
   "source": [
    "visitors.duplicated().sum()"
   ]
  },
  {
   "cell_type": "markdown",
   "metadata": {},
   "source": [
    "Дубликаты отсутствуют. Приведем столбец date к типу datetime "
   ]
  },
  {
   "cell_type": "code",
   "execution_count": 16,
   "metadata": {},
   "outputs": [],
   "source": [
    "visitors['date'] = pd.to_datetime(visitors['date'])"
   ]
  },
  {
   "cell_type": "code",
   "execution_count": 17,
   "metadata": {},
   "outputs": [
    {
     "name": "stdout",
     "output_type": "stream",
     "text": [
      "<class 'pandas.core.frame.DataFrame'>\n",
      "RangeIndex: 62 entries, 0 to 61\n",
      "Data columns (total 3 columns):\n",
      " #   Column    Non-Null Count  Dtype         \n",
      "---  ------    --------------  -----         \n",
      " 0   date      62 non-null     datetime64[ns]\n",
      " 1   group     62 non-null     object        \n",
      " 2   visitors  62 non-null     int64         \n",
      "dtypes: datetime64[ns](1), int64(1), object(1)\n",
      "memory usage: 1.6+ KB\n"
     ]
    }
   ],
   "source": [
    "visitors.info()"
   ]
  },
  {
   "cell_type": "markdown",
   "metadata": {},
   "source": [
    "Тип данных в столбце date приведен к типу datetime. Пропуски отсутствуют. Дубликаты отсутствуют."
   ]
  },
  {
   "cell_type": "markdown",
   "metadata": {},
   "source": [
    "**Вывод:** Мы изучили данные и выполнили предобработку. Определили, что в данных нет пропусков и дубликатов. Привели типы данных во всех колонках в соответствие с сохранёнными в них значениям. "
   ]
  },
  {
   "cell_type": "markdown",
   "metadata": {},
   "source": [
    "## 1.1 Применим фреймворк ICE для приоритизации гипотез. Отсортируем их по убыванию приоритета."
   ]
  },
  {
   "cell_type": "code",
   "execution_count": 18,
   "metadata": {},
   "outputs": [
    {
     "data": {
      "text/html": [
       "<div>\n",
       "<style scoped>\n",
       "    .dataframe tbody tr th:only-of-type {\n",
       "        vertical-align: middle;\n",
       "    }\n",
       "\n",
       "    .dataframe tbody tr th {\n",
       "        vertical-align: top;\n",
       "    }\n",
       "\n",
       "    .dataframe thead th {\n",
       "        text-align: right;\n",
       "    }\n",
       "</style>\n",
       "<table border=\"1\" class=\"dataframe\">\n",
       "  <thead>\n",
       "    <tr style=\"text-align: right;\">\n",
       "      <th></th>\n",
       "      <th>Hypothesis</th>\n",
       "      <th>Reach</th>\n",
       "      <th>Impact</th>\n",
       "      <th>Confidence</th>\n",
       "      <th>Efforts</th>\n",
       "    </tr>\n",
       "  </thead>\n",
       "  <tbody>\n",
       "    <tr>\n",
       "      <th>0</th>\n",
       "      <td>Добавить два новых канала привлечения трафика, что позволит привлекать на 30% больше пользователей</td>\n",
       "      <td>3</td>\n",
       "      <td>10</td>\n",
       "      <td>8</td>\n",
       "      <td>6</td>\n",
       "    </tr>\n",
       "    <tr>\n",
       "      <th>1</th>\n",
       "      <td>Запустить собственную службу доставки, что сократит срок доставки заказов</td>\n",
       "      <td>2</td>\n",
       "      <td>5</td>\n",
       "      <td>4</td>\n",
       "      <td>10</td>\n",
       "    </tr>\n",
       "    <tr>\n",
       "      <th>2</th>\n",
       "      <td>Добавить блоки рекомендаций товаров на сайт интернет магазина, чтобы повысить конверсию и средний чек заказа</td>\n",
       "      <td>8</td>\n",
       "      <td>3</td>\n",
       "      <td>7</td>\n",
       "      <td>3</td>\n",
       "    </tr>\n",
       "    <tr>\n",
       "      <th>3</th>\n",
       "      <td>Изменить структура категорий, что увеличит конверсию, т.к. пользователи быстрее найдут нужный товар</td>\n",
       "      <td>8</td>\n",
       "      <td>3</td>\n",
       "      <td>3</td>\n",
       "      <td>8</td>\n",
       "    </tr>\n",
       "    <tr>\n",
       "      <th>4</th>\n",
       "      <td>Изменить цвет фона главной страницы, чтобы увеличить вовлеченность пользователей</td>\n",
       "      <td>3</td>\n",
       "      <td>1</td>\n",
       "      <td>1</td>\n",
       "      <td>1</td>\n",
       "    </tr>\n",
       "    <tr>\n",
       "      <th>5</th>\n",
       "      <td>Добавить страницу отзывов клиентов о магазине, что позволит увеличить количество заказов</td>\n",
       "      <td>3</td>\n",
       "      <td>2</td>\n",
       "      <td>2</td>\n",
       "      <td>3</td>\n",
       "    </tr>\n",
       "    <tr>\n",
       "      <th>6</th>\n",
       "      <td>Показать на главной странице баннеры с актуальными акциями и распродажами, чтобы увеличить конверсию</td>\n",
       "      <td>5</td>\n",
       "      <td>3</td>\n",
       "      <td>8</td>\n",
       "      <td>3</td>\n",
       "    </tr>\n",
       "    <tr>\n",
       "      <th>7</th>\n",
       "      <td>Добавить форму подписки на все основные страницы, чтобы собрать базу клиентов для email-рассылок</td>\n",
       "      <td>10</td>\n",
       "      <td>7</td>\n",
       "      <td>8</td>\n",
       "      <td>5</td>\n",
       "    </tr>\n",
       "    <tr>\n",
       "      <th>8</th>\n",
       "      <td>Запустить акцию, дающую скидку на товар в день рождения</td>\n",
       "      <td>1</td>\n",
       "      <td>9</td>\n",
       "      <td>9</td>\n",
       "      <td>5</td>\n",
       "    </tr>\n",
       "  </tbody>\n",
       "</table>\n",
       "</div>"
      ],
      "text/plain": [
       "                                                                                                     Hypothesis  \\\n",
       "0            Добавить два новых канала привлечения трафика, что позволит привлекать на 30% больше пользователей   \n",
       "1                                     Запустить собственную службу доставки, что сократит срок доставки заказов   \n",
       "2  Добавить блоки рекомендаций товаров на сайт интернет магазина, чтобы повысить конверсию и средний чек заказа   \n",
       "3           Изменить структура категорий, что увеличит конверсию, т.к. пользователи быстрее найдут нужный товар   \n",
       "4                              Изменить цвет фона главной страницы, чтобы увеличить вовлеченность пользователей   \n",
       "5                      Добавить страницу отзывов клиентов о магазине, что позволит увеличить количество заказов   \n",
       "6          Показать на главной странице баннеры с актуальными акциями и распродажами, чтобы увеличить конверсию   \n",
       "7              Добавить форму подписки на все основные страницы, чтобы собрать базу клиентов для email-рассылок   \n",
       "8                                                       Запустить акцию, дающую скидку на товар в день рождения   \n",
       "\n",
       "   Reach  Impact  Confidence  Efforts  \n",
       "0      3      10           8        6  \n",
       "1      2       5           4       10  \n",
       "2      8       3           7        3  \n",
       "3      8       3           3        8  \n",
       "4      3       1           1        1  \n",
       "5      3       2           2        3  \n",
       "6      5       3           8        3  \n",
       "7     10       7           8        5  \n",
       "8      1       9           9        5  "
      ]
     },
     "execution_count": 18,
     "metadata": {},
     "output_type": "execute_result"
    }
   ],
   "source": [
    "pd.options.display.max_colwidth = 400\n",
    "hypothesis"
   ]
  },
  {
   "cell_type": "markdown",
   "metadata": {},
   "source": [
    "ICE (от англ. impact, confidence, effort / ease «влияние, уверенность, усилия / простота») — один из самых популярных способов приоритизации задач.\n",
    "\n",
    "Расчитывается по формуле ICE = (Impact * Confidence) / Efforts"
   ]
  },
  {
   "cell_type": "markdown",
   "metadata": {},
   "source": [
    "Рассчитаем ICE"
   ]
  },
  {
   "cell_type": "code",
   "execution_count": 19,
   "metadata": {},
   "outputs": [],
   "source": [
    "hypothesis['ICE'] = ((hypothesis['Impact'] * hypothesis['Confidence']) / hypothesis['Efforts']).round(1)"
   ]
  },
  {
   "cell_type": "code",
   "execution_count": 20,
   "metadata": {},
   "outputs": [
    {
     "data": {
      "text/html": [
       "<div>\n",
       "<style scoped>\n",
       "    .dataframe tbody tr th:only-of-type {\n",
       "        vertical-align: middle;\n",
       "    }\n",
       "\n",
       "    .dataframe tbody tr th {\n",
       "        vertical-align: top;\n",
       "    }\n",
       "\n",
       "    .dataframe thead th {\n",
       "        text-align: right;\n",
       "    }\n",
       "</style>\n",
       "<table border=\"1\" class=\"dataframe\">\n",
       "  <thead>\n",
       "    <tr style=\"text-align: right;\">\n",
       "      <th></th>\n",
       "      <th>Hypothesis</th>\n",
       "      <th>Reach</th>\n",
       "      <th>Impact</th>\n",
       "      <th>Confidence</th>\n",
       "      <th>Efforts</th>\n",
       "      <th>ICE</th>\n",
       "    </tr>\n",
       "  </thead>\n",
       "  <tbody>\n",
       "    <tr>\n",
       "      <th>0</th>\n",
       "      <td>Добавить два новых канала привлечения трафика, что позволит привлекать на 30% больше пользователей</td>\n",
       "      <td>3</td>\n",
       "      <td>10</td>\n",
       "      <td>8</td>\n",
       "      <td>6</td>\n",
       "      <td>13.3</td>\n",
       "    </tr>\n",
       "    <tr>\n",
       "      <th>1</th>\n",
       "      <td>Запустить собственную службу доставки, что сократит срок доставки заказов</td>\n",
       "      <td>2</td>\n",
       "      <td>5</td>\n",
       "      <td>4</td>\n",
       "      <td>10</td>\n",
       "      <td>2.0</td>\n",
       "    </tr>\n",
       "    <tr>\n",
       "      <th>2</th>\n",
       "      <td>Добавить блоки рекомендаций товаров на сайт интернет магазина, чтобы повысить конверсию и средний чек заказа</td>\n",
       "      <td>8</td>\n",
       "      <td>3</td>\n",
       "      <td>7</td>\n",
       "      <td>3</td>\n",
       "      <td>7.0</td>\n",
       "    </tr>\n",
       "    <tr>\n",
       "      <th>3</th>\n",
       "      <td>Изменить структура категорий, что увеличит конверсию, т.к. пользователи быстрее найдут нужный товар</td>\n",
       "      <td>8</td>\n",
       "      <td>3</td>\n",
       "      <td>3</td>\n",
       "      <td>8</td>\n",
       "      <td>1.1</td>\n",
       "    </tr>\n",
       "    <tr>\n",
       "      <th>4</th>\n",
       "      <td>Изменить цвет фона главной страницы, чтобы увеличить вовлеченность пользователей</td>\n",
       "      <td>3</td>\n",
       "      <td>1</td>\n",
       "      <td>1</td>\n",
       "      <td>1</td>\n",
       "      <td>1.0</td>\n",
       "    </tr>\n",
       "    <tr>\n",
       "      <th>5</th>\n",
       "      <td>Добавить страницу отзывов клиентов о магазине, что позволит увеличить количество заказов</td>\n",
       "      <td>3</td>\n",
       "      <td>2</td>\n",
       "      <td>2</td>\n",
       "      <td>3</td>\n",
       "      <td>1.3</td>\n",
       "    </tr>\n",
       "    <tr>\n",
       "      <th>6</th>\n",
       "      <td>Показать на главной странице баннеры с актуальными акциями и распродажами, чтобы увеличить конверсию</td>\n",
       "      <td>5</td>\n",
       "      <td>3</td>\n",
       "      <td>8</td>\n",
       "      <td>3</td>\n",
       "      <td>8.0</td>\n",
       "    </tr>\n",
       "    <tr>\n",
       "      <th>7</th>\n",
       "      <td>Добавить форму подписки на все основные страницы, чтобы собрать базу клиентов для email-рассылок</td>\n",
       "      <td>10</td>\n",
       "      <td>7</td>\n",
       "      <td>8</td>\n",
       "      <td>5</td>\n",
       "      <td>11.2</td>\n",
       "    </tr>\n",
       "    <tr>\n",
       "      <th>8</th>\n",
       "      <td>Запустить акцию, дающую скидку на товар в день рождения</td>\n",
       "      <td>1</td>\n",
       "      <td>9</td>\n",
       "      <td>9</td>\n",
       "      <td>5</td>\n",
       "      <td>16.2</td>\n",
       "    </tr>\n",
       "  </tbody>\n",
       "</table>\n",
       "</div>"
      ],
      "text/plain": [
       "                                                                                                     Hypothesis  \\\n",
       "0            Добавить два новых канала привлечения трафика, что позволит привлекать на 30% больше пользователей   \n",
       "1                                     Запустить собственную службу доставки, что сократит срок доставки заказов   \n",
       "2  Добавить блоки рекомендаций товаров на сайт интернет магазина, чтобы повысить конверсию и средний чек заказа   \n",
       "3           Изменить структура категорий, что увеличит конверсию, т.к. пользователи быстрее найдут нужный товар   \n",
       "4                              Изменить цвет фона главной страницы, чтобы увеличить вовлеченность пользователей   \n",
       "5                      Добавить страницу отзывов клиентов о магазине, что позволит увеличить количество заказов   \n",
       "6          Показать на главной странице баннеры с актуальными акциями и распродажами, чтобы увеличить конверсию   \n",
       "7              Добавить форму подписки на все основные страницы, чтобы собрать базу клиентов для email-рассылок   \n",
       "8                                                       Запустить акцию, дающую скидку на товар в день рождения   \n",
       "\n",
       "   Reach  Impact  Confidence  Efforts   ICE  \n",
       "0      3      10           8        6  13.3  \n",
       "1      2       5           4       10   2.0  \n",
       "2      8       3           7        3   7.0  \n",
       "3      8       3           3        8   1.1  \n",
       "4      3       1           1        1   1.0  \n",
       "5      3       2           2        3   1.3  \n",
       "6      5       3           8        3   8.0  \n",
       "7     10       7           8        5  11.2  \n",
       "8      1       9           9        5  16.2  "
      ]
     },
     "execution_count": 20,
     "metadata": {},
     "output_type": "execute_result"
    }
   ],
   "source": [
    "hypothesis"
   ]
  },
  {
   "cell_type": "markdown",
   "metadata": {},
   "source": [
    "Отсортируем по убыванию приоритета."
   ]
  },
  {
   "cell_type": "code",
   "execution_count": 21,
   "metadata": {},
   "outputs": [
    {
     "data": {
      "text/html": [
       "<div>\n",
       "<style scoped>\n",
       "    .dataframe tbody tr th:only-of-type {\n",
       "        vertical-align: middle;\n",
       "    }\n",
       "\n",
       "    .dataframe tbody tr th {\n",
       "        vertical-align: top;\n",
       "    }\n",
       "\n",
       "    .dataframe thead th {\n",
       "        text-align: right;\n",
       "    }\n",
       "</style>\n",
       "<table border=\"1\" class=\"dataframe\">\n",
       "  <thead>\n",
       "    <tr style=\"text-align: right;\">\n",
       "      <th></th>\n",
       "      <th>Hypothesis</th>\n",
       "      <th>Reach</th>\n",
       "      <th>Impact</th>\n",
       "      <th>Confidence</th>\n",
       "      <th>Efforts</th>\n",
       "      <th>ICE</th>\n",
       "    </tr>\n",
       "  </thead>\n",
       "  <tbody>\n",
       "    <tr>\n",
       "      <th>8</th>\n",
       "      <td>Запустить акцию, дающую скидку на товар в день рождения</td>\n",
       "      <td>1</td>\n",
       "      <td>9</td>\n",
       "      <td>9</td>\n",
       "      <td>5</td>\n",
       "      <td>16.2</td>\n",
       "    </tr>\n",
       "    <tr>\n",
       "      <th>0</th>\n",
       "      <td>Добавить два новых канала привлечения трафика, что позволит привлекать на 30% больше пользователей</td>\n",
       "      <td>3</td>\n",
       "      <td>10</td>\n",
       "      <td>8</td>\n",
       "      <td>6</td>\n",
       "      <td>13.3</td>\n",
       "    </tr>\n",
       "    <tr>\n",
       "      <th>7</th>\n",
       "      <td>Добавить форму подписки на все основные страницы, чтобы собрать базу клиентов для email-рассылок</td>\n",
       "      <td>10</td>\n",
       "      <td>7</td>\n",
       "      <td>8</td>\n",
       "      <td>5</td>\n",
       "      <td>11.2</td>\n",
       "    </tr>\n",
       "    <tr>\n",
       "      <th>6</th>\n",
       "      <td>Показать на главной странице баннеры с актуальными акциями и распродажами, чтобы увеличить конверсию</td>\n",
       "      <td>5</td>\n",
       "      <td>3</td>\n",
       "      <td>8</td>\n",
       "      <td>3</td>\n",
       "      <td>8.0</td>\n",
       "    </tr>\n",
       "    <tr>\n",
       "      <th>2</th>\n",
       "      <td>Добавить блоки рекомендаций товаров на сайт интернет магазина, чтобы повысить конверсию и средний чек заказа</td>\n",
       "      <td>8</td>\n",
       "      <td>3</td>\n",
       "      <td>7</td>\n",
       "      <td>3</td>\n",
       "      <td>7.0</td>\n",
       "    </tr>\n",
       "    <tr>\n",
       "      <th>1</th>\n",
       "      <td>Запустить собственную службу доставки, что сократит срок доставки заказов</td>\n",
       "      <td>2</td>\n",
       "      <td>5</td>\n",
       "      <td>4</td>\n",
       "      <td>10</td>\n",
       "      <td>2.0</td>\n",
       "    </tr>\n",
       "    <tr>\n",
       "      <th>5</th>\n",
       "      <td>Добавить страницу отзывов клиентов о магазине, что позволит увеличить количество заказов</td>\n",
       "      <td>3</td>\n",
       "      <td>2</td>\n",
       "      <td>2</td>\n",
       "      <td>3</td>\n",
       "      <td>1.3</td>\n",
       "    </tr>\n",
       "    <tr>\n",
       "      <th>3</th>\n",
       "      <td>Изменить структура категорий, что увеличит конверсию, т.к. пользователи быстрее найдут нужный товар</td>\n",
       "      <td>8</td>\n",
       "      <td>3</td>\n",
       "      <td>3</td>\n",
       "      <td>8</td>\n",
       "      <td>1.1</td>\n",
       "    </tr>\n",
       "    <tr>\n",
       "      <th>4</th>\n",
       "      <td>Изменить цвет фона главной страницы, чтобы увеличить вовлеченность пользователей</td>\n",
       "      <td>3</td>\n",
       "      <td>1</td>\n",
       "      <td>1</td>\n",
       "      <td>1</td>\n",
       "      <td>1.0</td>\n",
       "    </tr>\n",
       "  </tbody>\n",
       "</table>\n",
       "</div>"
      ],
      "text/plain": [
       "                                                                                                     Hypothesis  \\\n",
       "8                                                       Запустить акцию, дающую скидку на товар в день рождения   \n",
       "0            Добавить два новых канала привлечения трафика, что позволит привлекать на 30% больше пользователей   \n",
       "7              Добавить форму подписки на все основные страницы, чтобы собрать базу клиентов для email-рассылок   \n",
       "6          Показать на главной странице баннеры с актуальными акциями и распродажами, чтобы увеличить конверсию   \n",
       "2  Добавить блоки рекомендаций товаров на сайт интернет магазина, чтобы повысить конверсию и средний чек заказа   \n",
       "1                                     Запустить собственную службу доставки, что сократит срок доставки заказов   \n",
       "5                      Добавить страницу отзывов клиентов о магазине, что позволит увеличить количество заказов   \n",
       "3           Изменить структура категорий, что увеличит конверсию, т.к. пользователи быстрее найдут нужный товар   \n",
       "4                              Изменить цвет фона главной страницы, чтобы увеличить вовлеченность пользователей   \n",
       "\n",
       "   Reach  Impact  Confidence  Efforts   ICE  \n",
       "8      1       9           9        5  16.2  \n",
       "0      3      10           8        6  13.3  \n",
       "7     10       7           8        5  11.2  \n",
       "6      5       3           8        3   8.0  \n",
       "2      8       3           7        3   7.0  \n",
       "1      2       5           4       10   2.0  \n",
       "5      3       2           2        3   1.3  \n",
       "3      8       3           3        8   1.1  \n",
       "4      3       1           1        1   1.0  "
      ]
     },
     "execution_count": 21,
     "metadata": {},
     "output_type": "execute_result"
    }
   ],
   "source": [
    "hypothesis = hypothesis.sort_values(by='ICE', ascending = False)\n",
    "hypothesis"
   ]
  },
  {
   "cell_type": "markdown",
   "metadata": {},
   "source": [
    "## 1.2 Применим фреймворк RICE для приоритизации гипотез. Отсортируем их по убыванию приоритета."
   ]
  },
  {
   "cell_type": "markdown",
   "metadata": {},
   "source": [
    "Фреймворк RICE состоит из четырёх компонент:\n",
    "\n",
    "Reach — скольких пользователей затронет изменение, которое вы хотите внести;\n",
    "\n",
    "Impact — насколько сильно изменение повлияет на пользователей, их опыт и удовлетворение от продукта;\n",
    "\n",
    "Confidence — насколько вы уверены, что это изменение повлияет на пользователей именно так; \n",
    "\n",
    "Efforts — сколько стоит протестировать эту гипотезу. \n",
    "\n",
    "Расчитывается по формуле RICE = (Reach * Impact * Confidence) / Efforts"
   ]
  },
  {
   "cell_type": "markdown",
   "metadata": {},
   "source": [
    "Рассчитаем RICE"
   ]
  },
  {
   "cell_type": "code",
   "execution_count": 22,
   "metadata": {},
   "outputs": [],
   "source": [
    "hypothesis['RICE'] = (hypothesis['Reach'] * hypothesis['Impact'] * hypothesis['Confidence']) / hypothesis['Efforts']"
   ]
  },
  {
   "cell_type": "code",
   "execution_count": 23,
   "metadata": {},
   "outputs": [
    {
     "data": {
      "text/html": [
       "<div>\n",
       "<style scoped>\n",
       "    .dataframe tbody tr th:only-of-type {\n",
       "        vertical-align: middle;\n",
       "    }\n",
       "\n",
       "    .dataframe tbody tr th {\n",
       "        vertical-align: top;\n",
       "    }\n",
       "\n",
       "    .dataframe thead th {\n",
       "        text-align: right;\n",
       "    }\n",
       "</style>\n",
       "<table border=\"1\" class=\"dataframe\">\n",
       "  <thead>\n",
       "    <tr style=\"text-align: right;\">\n",
       "      <th></th>\n",
       "      <th>Hypothesis</th>\n",
       "      <th>Reach</th>\n",
       "      <th>Impact</th>\n",
       "      <th>Confidence</th>\n",
       "      <th>Efforts</th>\n",
       "      <th>ICE</th>\n",
       "      <th>RICE</th>\n",
       "    </tr>\n",
       "  </thead>\n",
       "  <tbody>\n",
       "    <tr>\n",
       "      <th>8</th>\n",
       "      <td>Запустить акцию, дающую скидку на товар в день рождения</td>\n",
       "      <td>1</td>\n",
       "      <td>9</td>\n",
       "      <td>9</td>\n",
       "      <td>5</td>\n",
       "      <td>16.2</td>\n",
       "      <td>16.2</td>\n",
       "    </tr>\n",
       "    <tr>\n",
       "      <th>0</th>\n",
       "      <td>Добавить два новых канала привлечения трафика, что позволит привлекать на 30% больше пользователей</td>\n",
       "      <td>3</td>\n",
       "      <td>10</td>\n",
       "      <td>8</td>\n",
       "      <td>6</td>\n",
       "      <td>13.3</td>\n",
       "      <td>40.0</td>\n",
       "    </tr>\n",
       "    <tr>\n",
       "      <th>7</th>\n",
       "      <td>Добавить форму подписки на все основные страницы, чтобы собрать базу клиентов для email-рассылок</td>\n",
       "      <td>10</td>\n",
       "      <td>7</td>\n",
       "      <td>8</td>\n",
       "      <td>5</td>\n",
       "      <td>11.2</td>\n",
       "      <td>112.0</td>\n",
       "    </tr>\n",
       "    <tr>\n",
       "      <th>6</th>\n",
       "      <td>Показать на главной странице баннеры с актуальными акциями и распродажами, чтобы увеличить конверсию</td>\n",
       "      <td>5</td>\n",
       "      <td>3</td>\n",
       "      <td>8</td>\n",
       "      <td>3</td>\n",
       "      <td>8.0</td>\n",
       "      <td>40.0</td>\n",
       "    </tr>\n",
       "    <tr>\n",
       "      <th>2</th>\n",
       "      <td>Добавить блоки рекомендаций товаров на сайт интернет магазина, чтобы повысить конверсию и средний чек заказа</td>\n",
       "      <td>8</td>\n",
       "      <td>3</td>\n",
       "      <td>7</td>\n",
       "      <td>3</td>\n",
       "      <td>7.0</td>\n",
       "      <td>56.0</td>\n",
       "    </tr>\n",
       "    <tr>\n",
       "      <th>1</th>\n",
       "      <td>Запустить собственную службу доставки, что сократит срок доставки заказов</td>\n",
       "      <td>2</td>\n",
       "      <td>5</td>\n",
       "      <td>4</td>\n",
       "      <td>10</td>\n",
       "      <td>2.0</td>\n",
       "      <td>4.0</td>\n",
       "    </tr>\n",
       "    <tr>\n",
       "      <th>5</th>\n",
       "      <td>Добавить страницу отзывов клиентов о магазине, что позволит увеличить количество заказов</td>\n",
       "      <td>3</td>\n",
       "      <td>2</td>\n",
       "      <td>2</td>\n",
       "      <td>3</td>\n",
       "      <td>1.3</td>\n",
       "      <td>4.0</td>\n",
       "    </tr>\n",
       "    <tr>\n",
       "      <th>3</th>\n",
       "      <td>Изменить структура категорий, что увеличит конверсию, т.к. пользователи быстрее найдут нужный товар</td>\n",
       "      <td>8</td>\n",
       "      <td>3</td>\n",
       "      <td>3</td>\n",
       "      <td>8</td>\n",
       "      <td>1.1</td>\n",
       "      <td>9.0</td>\n",
       "    </tr>\n",
       "    <tr>\n",
       "      <th>4</th>\n",
       "      <td>Изменить цвет фона главной страницы, чтобы увеличить вовлеченность пользователей</td>\n",
       "      <td>3</td>\n",
       "      <td>1</td>\n",
       "      <td>1</td>\n",
       "      <td>1</td>\n",
       "      <td>1.0</td>\n",
       "      <td>3.0</td>\n",
       "    </tr>\n",
       "  </tbody>\n",
       "</table>\n",
       "</div>"
      ],
      "text/plain": [
       "                                                                                                     Hypothesis  \\\n",
       "8                                                       Запустить акцию, дающую скидку на товар в день рождения   \n",
       "0            Добавить два новых канала привлечения трафика, что позволит привлекать на 30% больше пользователей   \n",
       "7              Добавить форму подписки на все основные страницы, чтобы собрать базу клиентов для email-рассылок   \n",
       "6          Показать на главной странице баннеры с актуальными акциями и распродажами, чтобы увеличить конверсию   \n",
       "2  Добавить блоки рекомендаций товаров на сайт интернет магазина, чтобы повысить конверсию и средний чек заказа   \n",
       "1                                     Запустить собственную службу доставки, что сократит срок доставки заказов   \n",
       "5                      Добавить страницу отзывов клиентов о магазине, что позволит увеличить количество заказов   \n",
       "3           Изменить структура категорий, что увеличит конверсию, т.к. пользователи быстрее найдут нужный товар   \n",
       "4                              Изменить цвет фона главной страницы, чтобы увеличить вовлеченность пользователей   \n",
       "\n",
       "   Reach  Impact  Confidence  Efforts   ICE   RICE  \n",
       "8      1       9           9        5  16.2   16.2  \n",
       "0      3      10           8        6  13.3   40.0  \n",
       "7     10       7           8        5  11.2  112.0  \n",
       "6      5       3           8        3   8.0   40.0  \n",
       "2      8       3           7        3   7.0   56.0  \n",
       "1      2       5           4       10   2.0    4.0  \n",
       "5      3       2           2        3   1.3    4.0  \n",
       "3      8       3           3        8   1.1    9.0  \n",
       "4      3       1           1        1   1.0    3.0  "
      ]
     },
     "execution_count": 23,
     "metadata": {},
     "output_type": "execute_result"
    }
   ],
   "source": [
    "hypothesis"
   ]
  },
  {
   "cell_type": "markdown",
   "metadata": {},
   "source": [
    "Отсортируем по убыванию приоритета."
   ]
  },
  {
   "cell_type": "code",
   "execution_count": 24,
   "metadata": {},
   "outputs": [
    {
     "data": {
      "text/html": [
       "<div>\n",
       "<style scoped>\n",
       "    .dataframe tbody tr th:only-of-type {\n",
       "        vertical-align: middle;\n",
       "    }\n",
       "\n",
       "    .dataframe tbody tr th {\n",
       "        vertical-align: top;\n",
       "    }\n",
       "\n",
       "    .dataframe thead th {\n",
       "        text-align: right;\n",
       "    }\n",
       "</style>\n",
       "<table border=\"1\" class=\"dataframe\">\n",
       "  <thead>\n",
       "    <tr style=\"text-align: right;\">\n",
       "      <th></th>\n",
       "      <th>Hypothesis</th>\n",
       "      <th>Reach</th>\n",
       "      <th>Impact</th>\n",
       "      <th>Confidence</th>\n",
       "      <th>Efforts</th>\n",
       "      <th>ICE</th>\n",
       "      <th>RICE</th>\n",
       "    </tr>\n",
       "  </thead>\n",
       "  <tbody>\n",
       "    <tr>\n",
       "      <th>7</th>\n",
       "      <td>Добавить форму подписки на все основные страницы, чтобы собрать базу клиентов для email-рассылок</td>\n",
       "      <td>10</td>\n",
       "      <td>7</td>\n",
       "      <td>8</td>\n",
       "      <td>5</td>\n",
       "      <td>11.2</td>\n",
       "      <td>112.0</td>\n",
       "    </tr>\n",
       "    <tr>\n",
       "      <th>2</th>\n",
       "      <td>Добавить блоки рекомендаций товаров на сайт интернет магазина, чтобы повысить конверсию и средний чек заказа</td>\n",
       "      <td>8</td>\n",
       "      <td>3</td>\n",
       "      <td>7</td>\n",
       "      <td>3</td>\n",
       "      <td>7.0</td>\n",
       "      <td>56.0</td>\n",
       "    </tr>\n",
       "    <tr>\n",
       "      <th>0</th>\n",
       "      <td>Добавить два новых канала привлечения трафика, что позволит привлекать на 30% больше пользователей</td>\n",
       "      <td>3</td>\n",
       "      <td>10</td>\n",
       "      <td>8</td>\n",
       "      <td>6</td>\n",
       "      <td>13.3</td>\n",
       "      <td>40.0</td>\n",
       "    </tr>\n",
       "    <tr>\n",
       "      <th>6</th>\n",
       "      <td>Показать на главной странице баннеры с актуальными акциями и распродажами, чтобы увеличить конверсию</td>\n",
       "      <td>5</td>\n",
       "      <td>3</td>\n",
       "      <td>8</td>\n",
       "      <td>3</td>\n",
       "      <td>8.0</td>\n",
       "      <td>40.0</td>\n",
       "    </tr>\n",
       "    <tr>\n",
       "      <th>8</th>\n",
       "      <td>Запустить акцию, дающую скидку на товар в день рождения</td>\n",
       "      <td>1</td>\n",
       "      <td>9</td>\n",
       "      <td>9</td>\n",
       "      <td>5</td>\n",
       "      <td>16.2</td>\n",
       "      <td>16.2</td>\n",
       "    </tr>\n",
       "    <tr>\n",
       "      <th>3</th>\n",
       "      <td>Изменить структура категорий, что увеличит конверсию, т.к. пользователи быстрее найдут нужный товар</td>\n",
       "      <td>8</td>\n",
       "      <td>3</td>\n",
       "      <td>3</td>\n",
       "      <td>8</td>\n",
       "      <td>1.1</td>\n",
       "      <td>9.0</td>\n",
       "    </tr>\n",
       "    <tr>\n",
       "      <th>1</th>\n",
       "      <td>Запустить собственную службу доставки, что сократит срок доставки заказов</td>\n",
       "      <td>2</td>\n",
       "      <td>5</td>\n",
       "      <td>4</td>\n",
       "      <td>10</td>\n",
       "      <td>2.0</td>\n",
       "      <td>4.0</td>\n",
       "    </tr>\n",
       "    <tr>\n",
       "      <th>5</th>\n",
       "      <td>Добавить страницу отзывов клиентов о магазине, что позволит увеличить количество заказов</td>\n",
       "      <td>3</td>\n",
       "      <td>2</td>\n",
       "      <td>2</td>\n",
       "      <td>3</td>\n",
       "      <td>1.3</td>\n",
       "      <td>4.0</td>\n",
       "    </tr>\n",
       "    <tr>\n",
       "      <th>4</th>\n",
       "      <td>Изменить цвет фона главной страницы, чтобы увеличить вовлеченность пользователей</td>\n",
       "      <td>3</td>\n",
       "      <td>1</td>\n",
       "      <td>1</td>\n",
       "      <td>1</td>\n",
       "      <td>1.0</td>\n",
       "      <td>3.0</td>\n",
       "    </tr>\n",
       "  </tbody>\n",
       "</table>\n",
       "</div>"
      ],
      "text/plain": [
       "                                                                                                     Hypothesis  \\\n",
       "7              Добавить форму подписки на все основные страницы, чтобы собрать базу клиентов для email-рассылок   \n",
       "2  Добавить блоки рекомендаций товаров на сайт интернет магазина, чтобы повысить конверсию и средний чек заказа   \n",
       "0            Добавить два новых канала привлечения трафика, что позволит привлекать на 30% больше пользователей   \n",
       "6          Показать на главной странице баннеры с актуальными акциями и распродажами, чтобы увеличить конверсию   \n",
       "8                                                       Запустить акцию, дающую скидку на товар в день рождения   \n",
       "3           Изменить структура категорий, что увеличит конверсию, т.к. пользователи быстрее найдут нужный товар   \n",
       "1                                     Запустить собственную службу доставки, что сократит срок доставки заказов   \n",
       "5                      Добавить страницу отзывов клиентов о магазине, что позволит увеличить количество заказов   \n",
       "4                              Изменить цвет фона главной страницы, чтобы увеличить вовлеченность пользователей   \n",
       "\n",
       "   Reach  Impact  Confidence  Efforts   ICE   RICE  \n",
       "7     10       7           8        5  11.2  112.0  \n",
       "2      8       3           7        3   7.0   56.0  \n",
       "0      3      10           8        6  13.3   40.0  \n",
       "6      5       3           8        3   8.0   40.0  \n",
       "8      1       9           9        5  16.2   16.2  \n",
       "3      8       3           3        8   1.1    9.0  \n",
       "1      2       5           4       10   2.0    4.0  \n",
       "5      3       2           2        3   1.3    4.0  \n",
       "4      3       1           1        1   1.0    3.0  "
      ]
     },
     "execution_count": 24,
     "metadata": {},
     "output_type": "execute_result"
    }
   ],
   "source": [
    "hypothesis.sort_values(by='RICE', ascending = False)"
   ]
  },
  {
   "cell_type": "markdown",
   "metadata": {},
   "source": [
    "**Вывод:** при применении фреймворка ICE, пятерка лидеров выглядит так hypothesis 8, 0, 7, 6, 2(с 1-го по 5 место соответственно).\n",
    "\n",
    "При примененеии фреймворка RICE hypothesis 8 сместился на 5 место, hypothesis 0 со 2-го на 3-е место, а hypothesis 7 с 3 места поднялась до лидера рейтинга, hypothesis 6 осталось на 4 месте, hypothesis 2 с 5-го поднялась на 2-е место.\n",
    "\n",
    "Такие изменения обусовлены тем, что в фреймворке RICE мы учитываем такой важный парметр как reach(скольких пользователей затронет изменение т.е. охват пользователей). Поэтому гипотеза 7 у которой охват максимальный(10) стала лидером рейтинга, гипотеза 2 где охват (8) тоже поднялась на 2 место в рейтинге, а гипотеза 8 с охватом(1) (лидер рейтинга ICE) снизился до 5 места. Высокий охват не гарантирует высокое место в рейтинге гипотез(например как с гипотезой 3, где охват 8, но все остальные параметры низкие), но при прочих равных является весомым доводом, для занятия лидирующих позиций в рейтинге гипотез."
   ]
  },
  {
   "cell_type": "markdown",
   "metadata": {},
   "source": [
    "## Часть 2."
   ]
  },
  {
   "cell_type": "markdown",
   "metadata": {},
   "source": [
    "Посчитаем количество заказов и посещений в каждой из групп."
   ]
  },
  {
   "cell_type": "code",
   "execution_count": 25,
   "metadata": {},
   "outputs": [
    {
     "name": "stdout",
     "output_type": "stream",
     "text": [
      "Количество посещений в группе А - 18736\n",
      "Количество посещений в группе B - 18916\n",
      "-----------------------------------\n",
      "Количество заказов в группе А - 557\n",
      "Количество заказов в группе B - 640\n"
     ]
    }
   ],
   "source": [
    "print ('Количество посещений в группе А -', visitors.query('group == \"A\"')['visitors'].sum())\n",
    "print ('Количество посещений в группе B -',visitors.query('group == \"B\"')['visitors'].sum())\n",
    "print('-----------------------------------')\n",
    "print ('Количество заказов в группе А -', orders.query('group == \"A\"').shape[0])\n",
    "print ('Количество заказов в группе B -',orders.query('group == \"B\"').shape[0])"
   ]
  },
  {
   "cell_type": "markdown",
   "metadata": {},
   "source": [
    "Разница в количестве посещений в группе В и А = 180.\n",
    "\n",
    "Разница в количестве заказов между группой В и А = 91"
   ]
  },
  {
   "cell_type": "markdown",
   "metadata": {},
   "source": [
    "В переменную visitorsA внесем пользователей сделавших заказы из группы А, а в переменную visitorsВ внесем пользователей сделавших заказы из группы В."
   ]
  },
  {
   "cell_type": "code",
   "execution_count": 26,
   "metadata": {},
   "outputs": [],
   "source": [
    "visitorsA = orders[orders['group']=='A']['visitorId']\n",
    "visitorsB = orders[orders['group']=='B']['visitorId']"
   ]
  },
  {
   "cell_type": "markdown",
   "metadata": {},
   "source": [
    "Проверим, есть ли совпадения по id пользователей в обоих группах."
   ]
  },
  {
   "cell_type": "code",
   "execution_count": 27,
   "metadata": {},
   "outputs": [],
   "source": [
    "visitors_AB = orders.loc[orders['visitorId'].isin(visitorsA)&orders['visitorId'].isin(visitorsB),'visitorId'].unique()"
   ]
  },
  {
   "cell_type": "code",
   "execution_count": 28,
   "metadata": {},
   "outputs": [
    {
     "data": {
      "text/plain": [
       "array([4069496402,  963407295,  351125977, 3234906277,  199603092,\n",
       "        237748145, 3803269165, 2038680547, 2378935119, 4256040402,\n",
       "       2712142231,    8300375,  276558944,  457167155, 3062433592,\n",
       "       1738359350, 2458001652, 2716752286, 3891541246, 1648269707,\n",
       "       3656415546, 2686716486, 2954449915, 2927087541, 2579882178,\n",
       "       3957174400, 2780786433, 3984495233,  818047933, 1668030113,\n",
       "       3717692402, 2044997962, 1959144690, 1294878855, 1404934699,\n",
       "       2587333274, 3202540741, 1333886533, 2600415354, 3951559397,\n",
       "        393266494, 3972127743, 4120364173, 4266935830, 1230306981,\n",
       "       1614305549,  477780734, 1602967004, 1801183820, 4186807279,\n",
       "       3766097110, 3941795274,  471551937, 1316129916,  232979603,\n",
       "       2654030115, 3963646447, 2949041841])"
      ]
     },
     "execution_count": 28,
     "metadata": {},
     "output_type": "execute_result"
    }
   ],
   "source": [
    "visitors_AB"
   ]
  },
  {
   "cell_type": "markdown",
   "metadata": {},
   "source": [
    "Посчитаем количество пользователей, входящих в обе группы"
   ]
  },
  {
   "cell_type": "code",
   "execution_count": 29,
   "metadata": {},
   "outputs": [
    {
     "data": {
      "text/plain": [
       "58"
      ]
     },
     "execution_count": 29,
     "metadata": {},
     "output_type": "execute_result"
    }
   ],
   "source": [
    "len(visitors_AB)"
   ]
  },
  {
   "cell_type": "markdown",
   "metadata": {},
   "source": [
    "Посчитаем общее количество уникальных пользователей в обоих группах"
   ]
  },
  {
   "cell_type": "code",
   "execution_count": 30,
   "metadata": {},
   "outputs": [
    {
     "data": {
      "text/plain": [
       "1031"
      ]
     },
     "execution_count": 30,
     "metadata": {},
     "output_type": "execute_result"
    }
   ],
   "source": [
    "len(orders.groupby('visitorId')['group'].unique())"
   ]
  },
  {
   "cell_type": "markdown",
   "metadata": {},
   "source": [
    "Посчитаем долю пользователей входящих в обе группы среди всех уникальных пользователей"
   ]
  },
  {
   "cell_type": "code",
   "execution_count": 31,
   "metadata": {},
   "outputs": [
    {
     "data": {
      "text/plain": [
       "5.625606207565471"
      ]
     },
     "execution_count": 31,
     "metadata": {},
     "output_type": "execute_result"
    }
   ],
   "source": [
    "len(visitors_AB) / len(orders.groupby('visitorId')['group'].unique()) * 100"
   ]
  },
  {
   "cell_type": "markdown",
   "metadata": {},
   "source": [
    "Доля пользователей входящих в обе группы составляет 5.62%, поскольку доля небольшая, уберем таких пользователей  из заказов."
   ]
  },
  {
   "cell_type": "code",
   "execution_count": 32,
   "metadata": {},
   "outputs": [],
   "source": [
    "orders = orders.loc[~orders['visitorId'].isin(visitors_AB)]"
   ]
  },
  {
   "cell_type": "markdown",
   "metadata": {},
   "source": [
    "Проверим сколько пользователей осталось"
   ]
  },
  {
   "cell_type": "code",
   "execution_count": 33,
   "metadata": {},
   "outputs": [
    {
     "data": {
      "text/plain": [
       "973"
      ]
     },
     "execution_count": 33,
     "metadata": {},
     "output_type": "execute_result"
    }
   ],
   "source": [
    "len(orders.groupby('visitorId')['group'].unique())"
   ]
  },
  {
   "cell_type": "code",
   "execution_count": 34,
   "metadata": {},
   "outputs": [
    {
     "name": "stdout",
     "output_type": "stream",
     "text": [
      "Количество заказов в группе А - 468\n",
      "Количество заказов в группе B - 548\n"
     ]
    }
   ],
   "source": [
    "print ('Количество заказов в группе А -', orders.query('group == \"A\"').shape[0])\n",
    "print ('Количество заказов в группе B -',orders.query('group == \"B\"').shape[0])"
   ]
  },
  {
   "cell_type": "markdown",
   "metadata": {},
   "source": [
    "Разница в количестве заказов между группами уменьшилась до 80. Данные теперь очищены от пересечений в группах и готовы к дальнейшим исследованиям."
   ]
  },
  {
   "cell_type": "markdown",
   "metadata": {},
   "source": [
    "**2.1 Построим график кумулятивной выручки по группам. Сделаем выводы и предположения.**"
   ]
  },
  {
   "cell_type": "markdown",
   "metadata": {},
   "source": [
    "Создадим массив уникальных пар значений дат и групп теста методом drop_duplicates(): "
   ]
  },
  {
   "cell_type": "code",
   "execution_count": 35,
   "metadata": {},
   "outputs": [],
   "source": [
    "datesGroups = orders[['date', 'group']].drop_duplicates()"
   ]
  },
  {
   "cell_type": "markdown",
   "metadata": {},
   "source": [
    "Получим агрегированные кумулятивные по дням данные о заказах "
   ]
  },
  {
   "cell_type": "code",
   "execution_count": 36,
   "metadata": {},
   "outputs": [],
   "source": [
    "ordersAggregated = datesGroups.apply(lambda x: orders[np.logical_and(orders['date']<=x['date'], orders['group']==x['group'])].\\\n",
    "                                     agg({'date' : 'max', \n",
    "                                          'group' : 'max', \n",
    "                                          'transactionId' : 'nunique', \n",
    "                                          'visitorId' : 'nunique', \n",
    "                                          'revenue' : 'sum'}), axis=1).sort_values(by=['date','group'])"
   ]
  },
  {
   "cell_type": "markdown",
   "metadata": {},
   "source": [
    "Получим агрегированные кумулятивные по дням данные о посетителях интернет-магазина"
   ]
  },
  {
   "cell_type": "code",
   "execution_count": 37,
   "metadata": {},
   "outputs": [],
   "source": [
    "visitorsAggregated = \\\n",
    "datesGroups.apply(lambda x:visitors[np.logical_and(visitors['date'] <=x['date'], visitors['group'] ==x['group'])].\\\n",
    "                                      agg({'date': 'max',\n",
    "                                           'group' : 'max',\n",
    "                                           'visitors' : 'sum'}), axis=1).sort_values(by=['date', 'group'])"
   ]
  },
  {
   "cell_type": "markdown",
   "metadata": {},
   "source": [
    "Объединим кумулятивные данные в одной таблице и присвоим ее столбцам понятные названия"
   ]
  },
  {
   "cell_type": "code",
   "execution_count": 38,
   "metadata": {},
   "outputs": [],
   "source": [
    "cumulativeData = ordersAggregated.merge(visitorsAggregated, left_on=['date', 'group'], right_on=['date', 'group'])\n",
    "cumulativeData.columns = ['date', 'group', 'orders', 'buyers', 'revenue', 'visitors']"
   ]
  },
  {
   "cell_type": "code",
   "execution_count": 39,
   "metadata": {},
   "outputs": [
    {
     "data": {
      "text/html": [
       "<div>\n",
       "<style scoped>\n",
       "    .dataframe tbody tr th:only-of-type {\n",
       "        vertical-align: middle;\n",
       "    }\n",
       "\n",
       "    .dataframe tbody tr th {\n",
       "        vertical-align: top;\n",
       "    }\n",
       "\n",
       "    .dataframe thead th {\n",
       "        text-align: right;\n",
       "    }\n",
       "</style>\n",
       "<table border=\"1\" class=\"dataframe\">\n",
       "  <thead>\n",
       "    <tr style=\"text-align: right;\">\n",
       "      <th></th>\n",
       "      <th>date</th>\n",
       "      <th>group</th>\n",
       "      <th>orders</th>\n",
       "      <th>buyers</th>\n",
       "      <th>revenue</th>\n",
       "      <th>visitors</th>\n",
       "    </tr>\n",
       "  </thead>\n",
       "  <tbody>\n",
       "    <tr>\n",
       "      <th>0</th>\n",
       "      <td>2019-08-01</td>\n",
       "      <td>A</td>\n",
       "      <td>23</td>\n",
       "      <td>19</td>\n",
       "      <td>142779</td>\n",
       "      <td>719</td>\n",
       "    </tr>\n",
       "    <tr>\n",
       "      <th>1</th>\n",
       "      <td>2019-08-01</td>\n",
       "      <td>B</td>\n",
       "      <td>17</td>\n",
       "      <td>17</td>\n",
       "      <td>59758</td>\n",
       "      <td>713</td>\n",
       "    </tr>\n",
       "    <tr>\n",
       "      <th>2</th>\n",
       "      <td>2019-08-02</td>\n",
       "      <td>A</td>\n",
       "      <td>42</td>\n",
       "      <td>36</td>\n",
       "      <td>234381</td>\n",
       "      <td>1338</td>\n",
       "    </tr>\n",
       "    <tr>\n",
       "      <th>3</th>\n",
       "      <td>2019-08-02</td>\n",
       "      <td>B</td>\n",
       "      <td>40</td>\n",
       "      <td>39</td>\n",
       "      <td>221801</td>\n",
       "      <td>1294</td>\n",
       "    </tr>\n",
       "    <tr>\n",
       "      <th>4</th>\n",
       "      <td>2019-08-03</td>\n",
       "      <td>A</td>\n",
       "      <td>66</td>\n",
       "      <td>60</td>\n",
       "      <td>346854</td>\n",
       "      <td>1845</td>\n",
       "    </tr>\n",
       "  </tbody>\n",
       "</table>\n",
       "</div>"
      ],
      "text/plain": [
       "        date group  orders  buyers  revenue  visitors\n",
       "0 2019-08-01     A      23      19   142779       719\n",
       "1 2019-08-01     B      17      17    59758       713\n",
       "2 2019-08-02     A      42      36   234381      1338\n",
       "3 2019-08-02     B      40      39   221801      1294\n",
       "4 2019-08-03     A      66      60   346854      1845"
      ]
     },
     "execution_count": 39,
     "metadata": {},
     "output_type": "execute_result"
    }
   ],
   "source": [
    "cumulativeData.head()"
   ]
  },
  {
   "cell_type": "code",
   "execution_count": 40,
   "metadata": {},
   "outputs": [
    {
     "data": {
      "image/png": "[encoded data removed]",
      "text/plain": [
       "<Figure size 1080x360 with 1 Axes>"
      ]
     },
     "metadata": {
      "needs_background": "light"
     },
     "output_type": "display_data"
    }
   ],
   "source": [
    "cumulativeRevenueA = cumulativeData[cumulativeData['group']=='A'][['date','revenue', 'orders']]\n",
    "cumulativeRevenueB = cumulativeData[cumulativeData['group']=='B'][['date','revenue', 'orders']]\n",
    "\n",
    "plt.figure(figsize=(15,5))\n",
    "plt.plot(cumulativeRevenueA['date'], cumulativeRevenueA['revenue'], label='Группа A')\n",
    "plt.plot(cumulativeRevenueB['date'], cumulativeRevenueB['revenue'], label='Группа B')\n",
    "plt.title('График кумулятивной выручки по группам')\n",
    "plt.xlabel('Дата')\n",
    "plt.ylabel('Выручка')\n",
    "plt.grid()\n",
    "plt.legend();"
   ]
  },
  {
   "cell_type": "markdown",
   "metadata": {},
   "source": [
    "Вывод: Выручка в обоих группах растет, но выручка в группе В стабильно выше чем в группе А, за исключением 13 августа, тогда выручка сравнялась с группой А.\n",
    "Так же стоит отметить, что 18-19 августа выручка в группе В сильно выросла и после этого продолжился рост. Возможно этот скачек связан с крупной выручкой произошедшей в группе В в эти даты. "
   ]
  },
  {
   "cell_type": "markdown",
   "metadata": {},
   "source": [
    "**2.2 Построим график кумулятивного среднего чека по группам. Сделаем выводы и предположения.**"
   ]
  },
  {
   "cell_type": "code",
   "execution_count": 41,
   "metadata": {},
   "outputs": [
    {
     "data": {
      "image/png": "[encoded data removed]",
      "text/plain": [
       "<Figure size 1080x360 with 1 Axes>"
      ]
     },
     "metadata": {
      "needs_background": "light"
     },
     "output_type": "display_data"
    }
   ],
   "source": [
    "plt.figure(figsize=(15,5))\n",
    "plt.grid()\n",
    "plt.plot(cumulativeRevenueA['date'], cumulativeRevenueA['revenue']/cumulativeRevenueA['orders'], label='группа A')\n",
    "plt.plot(cumulativeRevenueB['date'], cumulativeRevenueB['revenue']/cumulativeRevenueB['orders'], label='группа B')\n",
    "plt.title('График кумулятивного среднего чека по группам')\n",
    "plt.xlabel('Дата')\n",
    "plt.ylabel('Средний чек')\n",
    "plt.legend();"
   ]
  },
  {
   "cell_type": "markdown",
   "metadata": {},
   "source": [
    "Вывод: в целом средний чек группы В выше чем у группы А, за исключением 1 августа и периода с 12-14августа. Так же отмечается сильный скачек среднего чека в группе В от 19 августа, как и на предыдущем графике. После 21 августа средний чек группы В несколько снижается, тогда как начиная с 26 августа средний чек группы А понемногу возрастает, но разрыв между группами остается значительный и группа В остается однозначным лиедером."
   ]
  },
  {
   "cell_type": "markdown",
   "metadata": {},
   "source": [
    "**2.3 Построим график относительного изменения кумулятивного среднего чека группы B к группе A. Сделаем выводы и предположения.**"
   ]
  },
  {
   "cell_type": "markdown",
   "metadata": {},
   "source": [
    "Собираем даные в одном датафрейме"
   ]
  },
  {
   "cell_type": "code",
   "execution_count": 42,
   "metadata": {},
   "outputs": [],
   "source": [
    "mergedCumulativeRevenue = \\\n",
    "cumulativeRevenueA.merge(cumulativeRevenueB, left_on='date', right_on='date', how='left', suffixes=['A', 'B'])"
   ]
  },
  {
   "cell_type": "markdown",
   "metadata": {},
   "source": [
    "Выведем получившийся датафрейм"
   ]
  },
  {
   "cell_type": "code",
   "execution_count": 43,
   "metadata": {},
   "outputs": [
    {
     "data": {
      "text/html": [
       "<div>\n",
       "<style scoped>\n",
       "    .dataframe tbody tr th:only-of-type {\n",
       "        vertical-align: middle;\n",
       "    }\n",
       "\n",
       "    .dataframe tbody tr th {\n",
       "        vertical-align: top;\n",
       "    }\n",
       "\n",
       "    .dataframe thead th {\n",
       "        text-align: right;\n",
       "    }\n",
       "</style>\n",
       "<table border=\"1\" class=\"dataframe\">\n",
       "  <thead>\n",
       "    <tr style=\"text-align: right;\">\n",
       "      <th></th>\n",
       "      <th>date</th>\n",
       "      <th>revenueA</th>\n",
       "      <th>ordersA</th>\n",
       "      <th>revenueB</th>\n",
       "      <th>ordersB</th>\n",
       "    </tr>\n",
       "  </thead>\n",
       "  <tbody>\n",
       "    <tr>\n",
       "      <th>0</th>\n",
       "      <td>2019-08-01</td>\n",
       "      <td>142779</td>\n",
       "      <td>23</td>\n",
       "      <td>59758</td>\n",
       "      <td>17</td>\n",
       "    </tr>\n",
       "    <tr>\n",
       "      <th>1</th>\n",
       "      <td>2019-08-02</td>\n",
       "      <td>234381</td>\n",
       "      <td>42</td>\n",
       "      <td>221801</td>\n",
       "      <td>40</td>\n",
       "    </tr>\n",
       "    <tr>\n",
       "      <th>2</th>\n",
       "      <td>2019-08-03</td>\n",
       "      <td>346854</td>\n",
       "      <td>66</td>\n",
       "      <td>288850</td>\n",
       "      <td>54</td>\n",
       "    </tr>\n",
       "    <tr>\n",
       "      <th>3</th>\n",
       "      <td>2019-08-04</td>\n",
       "      <td>388030</td>\n",
       "      <td>77</td>\n",
       "      <td>385740</td>\n",
       "      <td>68</td>\n",
       "    </tr>\n",
       "    <tr>\n",
       "      <th>4</th>\n",
       "      <td>2019-08-05</td>\n",
       "      <td>474413</td>\n",
       "      <td>99</td>\n",
       "      <td>475648</td>\n",
       "      <td>89</td>\n",
       "    </tr>\n",
       "  </tbody>\n",
       "</table>\n",
       "</div>"
      ],
      "text/plain": [
       "        date  revenueA  ordersA  revenueB  ordersB\n",
       "0 2019-08-01    142779       23     59758       17\n",
       "1 2019-08-02    234381       42    221801       40\n",
       "2 2019-08-03    346854       66    288850       54\n",
       "3 2019-08-04    388030       77    385740       68\n",
       "4 2019-08-05    474413       99    475648       89"
      ]
     },
     "execution_count": 43,
     "metadata": {},
     "output_type": "execute_result"
    }
   ],
   "source": [
    "mergedCumulativeRevenue.head()"
   ]
  },
  {
   "cell_type": "markdown",
   "metadata": {},
   "source": [
    "Cтроим график отношения средних чеков"
   ]
  },
  {
   "cell_type": "code",
   "execution_count": 44,
   "metadata": {},
   "outputs": [
    {
     "data": {
      "image/png": "[encoded data removed]",
      "text/plain": [
       "<Figure size 1080x360 with 1 Axes>"
      ]
     },
     "metadata": {
      "needs_background": "light"
     },
     "output_type": "display_data"
    }
   ],
   "source": [
    "plt.figure(figsize=(15,5))\n",
    "plt.grid\n",
    "plt.title('График относительного изменения кумулятивного среднего чека группы B к группе A.')\n",
    "plt.xlabel('Дата')\n",
    "plt.ylabel('Средний чек')\n",
    "plt.plot(mergedCumulativeRevenue['date'], \\\n",
    "         (mergedCumulativeRevenue['revenueB']/mergedCumulativeRevenue['ordersB'])/(mergedCumulativeRevenue['revenueA']\\\n",
    "                                                                                   /mergedCumulativeRevenue['ordersA'])-1)\n",
    "\n",
    "plt.axhline(y=0, color='black', linestyle='--'); "
   ]
  },
  {
   "cell_type": "markdown",
   "metadata": {},
   "source": [
    "Вывод: на графике видно, что средний чек группы В рос начиная с 1 августа, 2-го августа уже превысил показатели группы А. После 7 августа средний чек устремился вниз, и в период с 12-14 августа опустился ниже показателей группы А. Начиная с 15 августа средний чек группы В опять превысил показатели группы А, начался постепенный рост. 19 августа хорошо заметен сильный рост среднего чека в группе В (что вызвано скорее всего большим заказом, с высокой выручкой). После 21 августа средний чек группы В несколько снижается, но разрыв между группами при этом остается значительным, и группа В остается однозначным лидером."
   ]
  },
  {
   "cell_type": "markdown",
   "metadata": {},
   "source": [
    "**2.4 Построим график кумулятивного среднего количества заказов на посетителя по группам. Сделаем выводы и предположения.**"
   ]
  },
  {
   "cell_type": "code",
   "execution_count": 45,
   "metadata": {},
   "outputs": [],
   "source": [
    "cumulativeOrdersAvgA = cumulativeData[cumulativeData['group'] == 'A'][['date', 'orders', 'visitors']]\n",
    "cumulativeOrdersAvgB = cumulativeData[cumulativeData['group'] == 'B'][['date', 'orders', 'visitors']]"
   ]
  },
  {
   "cell_type": "code",
   "execution_count": 46,
   "metadata": {},
   "outputs": [
    {
     "data": {
      "image/png": "[encoded data removed]",
      "text/plain": [
       "<Figure size 1080x360 with 1 Axes>"
      ]
     },
     "metadata": {
      "needs_background": "light"
     },
     "output_type": "display_data"
    }
   ],
   "source": [
    "plt.figure(figsize=(15,5))\n",
    "plt.plot(cumulativeOrdersAvgA['date'], \\\n",
    "        (cumulativeOrdersAvgA['orders'] / cumulativeOrdersAvgA['visitors']), label='Группа А')\n",
    "plt.plot(cumulativeOrdersAvgB['date'], \\\n",
    "        (cumulativeOrdersAvgB['orders'] / cumulativeOrdersAvgB['visitors']), label='Группа В')\n",
    "plt.title('График кумулятивного среднего количества заказов на посетителя по группам')\n",
    "plt.xlabel('Дата')\n",
    "plt.ylabel('Среднее количество заказов на посетителя')\n",
    "plt.legend();"
   ]
  },
  {
   "cell_type": "markdown",
   "metadata": {},
   "source": [
    "**Вывод:** на графике видно, что в с 3 по 6 августа группа А опережала группу В по кумулятивному показателю среднего количества заказов на посетителя. Начиная с 6 дня группа В становится лидером, и так продолжаеся до конца августа, резкие скачки в начале графика могли быть вызваны большим количеством заказов в группе А, но как только набралось достаточно данных для отображения реального среднего группа В стала безоговорчным лидером."
   ]
  },
  {
   "cell_type": "markdown",
   "metadata": {},
   "source": [
    "**2.5 Построим график относительного изменения кумулятивного среднего количества заказов на посетителя группы B к группе A. Сделаем выводы и предположения.**"
   ]
  },
  {
   "cell_type": "markdown",
   "metadata": {},
   "source": [
    "Собираем даные в одном датафрейме"
   ]
  },
  {
   "cell_type": "code",
   "execution_count": 47,
   "metadata": {},
   "outputs": [],
   "source": [
    "mergedCumulativeOrdersAvg = \\\n",
    "cumulativeOrdersAvgA.merge(cumulativeOrdersAvgB, left_on='date', right_on='date', how='left', suffixes=['A', 'B'])"
   ]
  },
  {
   "cell_type": "markdown",
   "metadata": {},
   "source": [
    "Выведем получившийся датафрейм"
   ]
  },
  {
   "cell_type": "code",
   "execution_count": 48,
   "metadata": {},
   "outputs": [
    {
     "data": {
      "text/html": [
       "<div>\n",
       "<style scoped>\n",
       "    .dataframe tbody tr th:only-of-type {\n",
       "        vertical-align: middle;\n",
       "    }\n",
       "\n",
       "    .dataframe tbody tr th {\n",
       "        vertical-align: top;\n",
       "    }\n",
       "\n",
       "    .dataframe thead th {\n",
       "        text-align: right;\n",
       "    }\n",
       "</style>\n",
       "<table border=\"1\" class=\"dataframe\">\n",
       "  <thead>\n",
       "    <tr style=\"text-align: right;\">\n",
       "      <th></th>\n",
       "      <th>date</th>\n",
       "      <th>ordersA</th>\n",
       "      <th>visitorsA</th>\n",
       "      <th>ordersB</th>\n",
       "      <th>visitorsB</th>\n",
       "    </tr>\n",
       "  </thead>\n",
       "  <tbody>\n",
       "    <tr>\n",
       "      <th>0</th>\n",
       "      <td>2019-08-01</td>\n",
       "      <td>23</td>\n",
       "      <td>719</td>\n",
       "      <td>17</td>\n",
       "      <td>713</td>\n",
       "    </tr>\n",
       "    <tr>\n",
       "      <th>1</th>\n",
       "      <td>2019-08-02</td>\n",
       "      <td>42</td>\n",
       "      <td>1338</td>\n",
       "      <td>40</td>\n",
       "      <td>1294</td>\n",
       "    </tr>\n",
       "    <tr>\n",
       "      <th>2</th>\n",
       "      <td>2019-08-03</td>\n",
       "      <td>66</td>\n",
       "      <td>1845</td>\n",
       "      <td>54</td>\n",
       "      <td>1803</td>\n",
       "    </tr>\n",
       "    <tr>\n",
       "      <th>3</th>\n",
       "      <td>2019-08-04</td>\n",
       "      <td>77</td>\n",
       "      <td>2562</td>\n",
       "      <td>68</td>\n",
       "      <td>2573</td>\n",
       "    </tr>\n",
       "    <tr>\n",
       "      <th>4</th>\n",
       "      <td>2019-08-05</td>\n",
       "      <td>99</td>\n",
       "      <td>3318</td>\n",
       "      <td>89</td>\n",
       "      <td>3280</td>\n",
       "    </tr>\n",
       "  </tbody>\n",
       "</table>\n",
       "</div>"
      ],
      "text/plain": [
       "        date  ordersA  visitorsA  ordersB  visitorsB\n",
       "0 2019-08-01       23        719       17        713\n",
       "1 2019-08-02       42       1338       40       1294\n",
       "2 2019-08-03       66       1845       54       1803\n",
       "3 2019-08-04       77       2562       68       2573\n",
       "4 2019-08-05       99       3318       89       3280"
      ]
     },
     "execution_count": 48,
     "metadata": {},
     "output_type": "execute_result"
    }
   ],
   "source": [
    "mergedCumulativeOrdersAvg.head()"
   ]
  },
  {
   "cell_type": "markdown",
   "metadata": {},
   "source": [
    "Строим график относительного изменения кумулятивного среднего количества заказов на посетителя"
   ]
  },
  {
   "cell_type": "code",
   "execution_count": 49,
   "metadata": {},
   "outputs": [
    {
     "data": {
      "image/png": "[encoded data removed]",
      "text/plain": [
       "<Figure size 1080x360 with 1 Axes>"
      ]
     },
     "metadata": {
      "needs_background": "light"
     },
     "output_type": "display_data"
    }
   ],
   "source": [
    "plt.figure(figsize=(15,5))\n",
    "plt.grid\n",
    "plt.title('График относительного изменения кумулятивного среднего количества заказов на посетителя группы B к группе A')\n",
    "plt.xlabel('Дата')\n",
    "plt.ylabel('Среднее количество заказов на посетителя')\n",
    "plt.plot(mergedCumulativeOrdersAvg['date'], \\\n",
    "         (mergedCumulativeOrdersAvg['ordersB']/mergedCumulativeOrdersAvg['visitorsB'])/(mergedCumulativeOrdersAvg['ordersA']\\\n",
    "                                                                                   /mergedCumulativeOrdersAvg['visitorsA'])-1)\n",
    "plt.axhline(y=0, color='black', linestyle='--'); "
   ]
  },
  {
   "cell_type": "markdown",
   "metadata": {},
   "source": [
    "**Вывод:** на графике более наглядно видно, что в с 3 по 6 августа группа А опережала группу В по кумулятивному показателю среднего количества заказов на посетителя. Начиная с 6 дня группа В становится лидером и так продолжаеся до конца августа. Показатели группы В стабильно выше группы А, тенденции к снижению разрыва между группами не наблюдается, а в последней трети эксперимента видна стабилизация результатов."
   ]
  },
  {
   "cell_type": "markdown",
   "metadata": {},
   "source": [
    "**2.6 Построим точечный график количества заказов по пользователям. Сделаем выводы и предположения.**"
   ]
  },
  {
   "cell_type": "code",
   "execution_count": 50,
   "metadata": {},
   "outputs": [
    {
     "data": {
      "text/html": [
       "<div>\n",
       "<style scoped>\n",
       "    .dataframe tbody tr th:only-of-type {\n",
       "        vertical-align: middle;\n",
       "    }\n",
       "\n",
       "    .dataframe tbody tr th {\n",
       "        vertical-align: top;\n",
       "    }\n",
       "\n",
       "    .dataframe thead th {\n",
       "        text-align: right;\n",
       "    }\n",
       "</style>\n",
       "<table border=\"1\" class=\"dataframe\">\n",
       "  <thead>\n",
       "    <tr style=\"text-align: right;\">\n",
       "      <th></th>\n",
       "      <th>user_id</th>\n",
       "      <th>orders</th>\n",
       "    </tr>\n",
       "  </thead>\n",
       "  <tbody>\n",
       "    <tr>\n",
       "      <th>908</th>\n",
       "      <td>3967698036</td>\n",
       "      <td>3</td>\n",
       "    </tr>\n",
       "    <tr>\n",
       "      <th>55</th>\n",
       "      <td>249864742</td>\n",
       "      <td>3</td>\n",
       "    </tr>\n",
       "    <tr>\n",
       "      <th>478</th>\n",
       "      <td>2108163459</td>\n",
       "      <td>3</td>\n",
       "    </tr>\n",
       "    <tr>\n",
       "      <th>687</th>\n",
       "      <td>2988190573</td>\n",
       "      <td>3</td>\n",
       "    </tr>\n",
       "    <tr>\n",
       "      <th>890</th>\n",
       "      <td>3908431265</td>\n",
       "      <td>3</td>\n",
       "    </tr>\n",
       "    <tr>\n",
       "      <th>138</th>\n",
       "      <td>611059232</td>\n",
       "      <td>3</td>\n",
       "    </tr>\n",
       "    <tr>\n",
       "      <th>632</th>\n",
       "      <td>2742574263</td>\n",
       "      <td>3</td>\n",
       "    </tr>\n",
       "    <tr>\n",
       "      <th>157</th>\n",
       "      <td>678354126</td>\n",
       "      <td>2</td>\n",
       "    </tr>\n",
       "    <tr>\n",
       "      <th>323</th>\n",
       "      <td>1404560065</td>\n",
       "      <td>2</td>\n",
       "    </tr>\n",
       "    <tr>\n",
       "      <th>452</th>\n",
       "      <td>1985475298</td>\n",
       "      <td>2</td>\n",
       "    </tr>\n",
       "  </tbody>\n",
       "</table>\n",
       "</div>"
      ],
      "text/plain": [
       "        user_id  orders\n",
       "908  3967698036       3\n",
       "55    249864742       3\n",
       "478  2108163459       3\n",
       "687  2988190573       3\n",
       "890  3908431265       3\n",
       "138   611059232       3\n",
       "632  2742574263       3\n",
       "157   678354126       2\n",
       "323  1404560065       2\n",
       "452  1985475298       2"
      ]
     },
     "execution_count": 50,
     "metadata": {},
     "output_type": "execute_result"
    }
   ],
   "source": [
    "ordersByUsers = orders.drop(['group', 'revenue', 'date'], axis=1).groupby('visitorId', as_index=False). \\\n",
    "                                                                        agg({'transactionId' : pd.Series.nunique})\n",
    "\n",
    "ordersByUsers.columns = ['user_id','orders']\n",
    "\n",
    "ordersByUsers.sort_values(by='orders',ascending=False).head(10)"
   ]
  },
  {
   "cell_type": "code",
   "execution_count": 51,
   "metadata": {},
   "outputs": [
    {
     "data": {
      "image/png": "[encoded data removed]",
      "text/plain": [
       "<Figure size 1080x360 with 1 Axes>"
      ]
     },
     "metadata": {
      "needs_background": "light"
     },
     "output_type": "display_data"
    }
   ],
   "source": [
    "x_values = pd.Series(range(0,len(ordersByUsers)))\n",
    "\n",
    "plt.figure(figsize=(15,5))\n",
    "plt.grid()\n",
    "plt.title('График количества заказов по пользователям')\n",
    "plt.scatter(x_values, ordersByUsers['orders'], alpha=0.5) ;"
   ]
  },
  {
   "cell_type": "markdown",
   "metadata": {},
   "source": [
    "**Вывод:** на графике видно, что больше всего пользователей совершивших 1 заказ, значительно меньше 2 заказа, а те 3 и более можно отнести к выбросам, но для более точных выводов нужно посчитать перцентили."
   ]
  },
  {
   "cell_type": "markdown",
   "metadata": {},
   "source": [
    "**2.7 Посчитаем 95-й и 99-й перцентили количества заказов на пользователя. Выберем границу для определения аномальных пользователей.**"
   ]
  },
  {
   "cell_type": "code",
   "execution_count": 52,
   "metadata": {},
   "outputs": [
    {
     "name": "stdout",
     "output_type": "stream",
     "text": [
      "[1. 2.]\n"
     ]
    }
   ],
   "source": [
    "print(np.percentile(ordersByUsers['orders'], [95, 99])) "
   ]
  },
  {
   "cell_type": "markdown",
   "metadata": {},
   "source": [
    "**Вывод:** расчитав перцентили мы выяснили, что все что выше 2 заказов на пользователя является аномалией."
   ]
  },
  {
   "cell_type": "markdown",
   "metadata": {},
   "source": [
    "**2.8 Построим точечный график стоимостей заказов. Сделаем выводы и предположения.**"
   ]
  },
  {
   "cell_type": "code",
   "execution_count": 53,
   "metadata": {},
   "outputs": [
    {
     "data": {
      "image/png": "[encoded data removed]",
      "text/plain": [
       "<Figure size 1080x360 with 1 Axes>"
      ]
     },
     "metadata": {
      "needs_background": "light"
     },
     "output_type": "display_data"
    }
   ],
   "source": [
    "x_values = pd.Series(range(0,len(orders['revenue'])))\n",
    "plt.figure(figsize=(15,5))\n",
    "plt.grid()\n",
    "plt.title('График стоимостей заказов')\n",
    "plt.scatter(x_values, orders['revenue'], alpha=0.5);\n"
   ]
  },
  {
   "cell_type": "markdown",
   "metadata": {},
   "source": [
    "Ограничим значения графика по поси у до 100000, чтобы лучше увидеть даипазон большинства значений."
   ]
  },
  {
   "cell_type": "code",
   "execution_count": 54,
   "metadata": {},
   "outputs": [
    {
     "data": {
      "image/png": "[encoded data removed]",
      "text/plain": [
       "<Figure size 1080x360 with 1 Axes>"
      ]
     },
     "metadata": {
      "needs_background": "light"
     },
     "output_type": "display_data"
    }
   ],
   "source": [
    "x_values = pd.Series(range(0,len(orders['revenue'])))\n",
    "plt.figure(figsize=(15,5))\n",
    "plt.grid()\n",
    "plt.title('График стоимостей заказов')\n",
    "plt.scatter(x_values, orders['revenue'], alpha=0.5)\n",
    "plt.ylim(0, 100000);"
   ]
  },
  {
   "cell_type": "markdown",
   "metadata": {},
   "source": [
    "**Вывод:** На графике видно, что большинство значений не превышают 100000, посчитаем перцентили для определения точной границы аномальных заказов"
   ]
  },
  {
   "cell_type": "markdown",
   "metadata": {},
   "source": [
    "**2.9 Посчитаем 95-й и 99-й перцентили стоимости заказов. Выберем границу для определения аномальных заказов.**"
   ]
  },
  {
   "cell_type": "code",
   "execution_count": 55,
   "metadata": {},
   "outputs": [
    {
     "name": "stdout",
     "output_type": "stream",
     "text": [
      "[26785. 53904.]\n"
     ]
    }
   ],
   "source": [
    "print(np.percentile(orders['revenue'], [95, 99])) "
   ]
  },
  {
   "cell_type": "markdown",
   "metadata": {},
   "source": [
    "**Вывод:** 99% заказов меньше суммы 53904, все что выше этой суммы аномалии."
   ]
  },
  {
   "cell_type": "markdown",
   "metadata": {},
   "source": [
    "**2.10 Посчитаем статистическую значимость различий в среднем количестве заказов на посетителя между группами по «сырым» данным. Сделаем выводы и предположения.**"
   ]
  },
  {
   "cell_type": "code",
   "execution_count": 56,
   "metadata": {},
   "outputs": [
    {
     "data": {
      "text/html": [
       "<div>\n",
       "<style scoped>\n",
       "    .dataframe tbody tr th:only-of-type {\n",
       "        vertical-align: middle;\n",
       "    }\n",
       "\n",
       "    .dataframe tbody tr th {\n",
       "        vertical-align: top;\n",
       "    }\n",
       "\n",
       "    .dataframe thead th {\n",
       "        text-align: right;\n",
       "    }\n",
       "</style>\n",
       "<table border=\"1\" class=\"dataframe\">\n",
       "  <thead>\n",
       "    <tr style=\"text-align: right;\">\n",
       "      <th></th>\n",
       "      <th>date</th>\n",
       "      <th>group</th>\n",
       "      <th>visitors</th>\n",
       "    </tr>\n",
       "  </thead>\n",
       "  <tbody>\n",
       "    <tr>\n",
       "      <th>0</th>\n",
       "      <td>2019-08-01</td>\n",
       "      <td>A</td>\n",
       "      <td>719</td>\n",
       "    </tr>\n",
       "    <tr>\n",
       "      <th>1</th>\n",
       "      <td>2019-08-02</td>\n",
       "      <td>A</td>\n",
       "      <td>619</td>\n",
       "    </tr>\n",
       "    <tr>\n",
       "      <th>2</th>\n",
       "      <td>2019-08-03</td>\n",
       "      <td>A</td>\n",
       "      <td>507</td>\n",
       "    </tr>\n",
       "    <tr>\n",
       "      <th>3</th>\n",
       "      <td>2019-08-04</td>\n",
       "      <td>A</td>\n",
       "      <td>717</td>\n",
       "    </tr>\n",
       "    <tr>\n",
       "      <th>4</th>\n",
       "      <td>2019-08-05</td>\n",
       "      <td>A</td>\n",
       "      <td>756</td>\n",
       "    </tr>\n",
       "  </tbody>\n",
       "</table>\n",
       "</div>"
      ],
      "text/plain": [
       "        date group  visitors\n",
       "0 2019-08-01     A       719\n",
       "1 2019-08-02     A       619\n",
       "2 2019-08-03     A       507\n",
       "3 2019-08-04     A       717\n",
       "4 2019-08-05     A       756"
      ]
     },
     "execution_count": 56,
     "metadata": {},
     "output_type": "execute_result"
    }
   ],
   "source": [
    "visitors.head()"
   ]
  },
  {
   "cell_type": "code",
   "execution_count": 57,
   "metadata": {},
   "outputs": [
    {
     "data": {
      "text/html": [
       "<div>\n",
       "<style scoped>\n",
       "    .dataframe tbody tr th:only-of-type {\n",
       "        vertical-align: middle;\n",
       "    }\n",
       "\n",
       "    .dataframe tbody tr th {\n",
       "        vertical-align: top;\n",
       "    }\n",
       "\n",
       "    .dataframe thead th {\n",
       "        text-align: right;\n",
       "    }\n",
       "</style>\n",
       "<table border=\"1\" class=\"dataframe\">\n",
       "  <thead>\n",
       "    <tr style=\"text-align: right;\">\n",
       "      <th></th>\n",
       "      <th>transactionId</th>\n",
       "      <th>visitorId</th>\n",
       "      <th>date</th>\n",
       "      <th>revenue</th>\n",
       "      <th>group</th>\n",
       "    </tr>\n",
       "  </thead>\n",
       "  <tbody>\n",
       "    <tr>\n",
       "      <th>0</th>\n",
       "      <td>3667963787</td>\n",
       "      <td>3312258926</td>\n",
       "      <td>2019-08-15</td>\n",
       "      <td>1650</td>\n",
       "      <td>B</td>\n",
       "    </tr>\n",
       "    <tr>\n",
       "      <th>1</th>\n",
       "      <td>2804400009</td>\n",
       "      <td>3642806036</td>\n",
       "      <td>2019-08-15</td>\n",
       "      <td>730</td>\n",
       "      <td>B</td>\n",
       "    </tr>\n",
       "    <tr>\n",
       "      <th>3</th>\n",
       "      <td>3797467345</td>\n",
       "      <td>1196621759</td>\n",
       "      <td>2019-08-15</td>\n",
       "      <td>9759</td>\n",
       "      <td>B</td>\n",
       "    </tr>\n",
       "    <tr>\n",
       "      <th>4</th>\n",
       "      <td>2282983706</td>\n",
       "      <td>2322279887</td>\n",
       "      <td>2019-08-15</td>\n",
       "      <td>2308</td>\n",
       "      <td>B</td>\n",
       "    </tr>\n",
       "    <tr>\n",
       "      <th>5</th>\n",
       "      <td>182168103</td>\n",
       "      <td>935554773</td>\n",
       "      <td>2019-08-15</td>\n",
       "      <td>2210</td>\n",
       "      <td>B</td>\n",
       "    </tr>\n",
       "  </tbody>\n",
       "</table>\n",
       "</div>"
      ],
      "text/plain": [
       "   transactionId   visitorId       date  revenue group\n",
       "0     3667963787  3312258926 2019-08-15     1650     B\n",
       "1     2804400009  3642806036 2019-08-15      730     B\n",
       "3     3797467345  1196621759 2019-08-15     9759     B\n",
       "4     2282983706  2322279887 2019-08-15     2308     B\n",
       "5      182168103   935554773 2019-08-15     2210     B"
      ]
     },
     "execution_count": 57,
     "metadata": {},
     "output_type": "execute_result"
    }
   ],
   "source": [
    "orders.head()"
   ]
  },
  {
   "cell_type": "code",
   "execution_count": 58,
   "metadata": {
    "scrolled": false
   },
   "outputs": [
    {
     "data": {
      "text/html": [
       "<div>\n",
       "<style scoped>\n",
       "    .dataframe tbody tr th:only-of-type {\n",
       "        vertical-align: middle;\n",
       "    }\n",
       "\n",
       "    .dataframe tbody tr th {\n",
       "        vertical-align: top;\n",
       "    }\n",
       "\n",
       "    .dataframe thead th {\n",
       "        text-align: right;\n",
       "    }\n",
       "</style>\n",
       "<table border=\"1\" class=\"dataframe\">\n",
       "  <thead>\n",
       "    <tr style=\"text-align: right;\">\n",
       "      <th></th>\n",
       "      <th>date</th>\n",
       "      <th>ordersPerDateA</th>\n",
       "      <th>revenuePerDateA</th>\n",
       "      <th>ordersPerDateB</th>\n",
       "      <th>revenuePerDateB</th>\n",
       "      <th>ordersCummulativeA</th>\n",
       "      <th>revenueCummulativeA</th>\n",
       "      <th>ordersCummulativeB</th>\n",
       "      <th>revenueCummulativeB</th>\n",
       "      <th>visitorsPerDateA</th>\n",
       "      <th>visitorsPerDateB</th>\n",
       "      <th>visitorsCummulativeA</th>\n",
       "      <th>visitorsCummulativeB</th>\n",
       "    </tr>\n",
       "  </thead>\n",
       "  <tbody>\n",
       "    <tr>\n",
       "      <th>0</th>\n",
       "      <td>2019-08-01</td>\n",
       "      <td>23</td>\n",
       "      <td>142779</td>\n",
       "      <td>17</td>\n",
       "      <td>59758</td>\n",
       "      <td>23</td>\n",
       "      <td>142779</td>\n",
       "      <td>17</td>\n",
       "      <td>59758</td>\n",
       "      <td>719</td>\n",
       "      <td>713</td>\n",
       "      <td>719</td>\n",
       "      <td>713</td>\n",
       "    </tr>\n",
       "    <tr>\n",
       "      <th>1</th>\n",
       "      <td>2019-08-02</td>\n",
       "      <td>19</td>\n",
       "      <td>91602</td>\n",
       "      <td>23</td>\n",
       "      <td>162043</td>\n",
       "      <td>42</td>\n",
       "      <td>234381</td>\n",
       "      <td>40</td>\n",
       "      <td>221801</td>\n",
       "      <td>619</td>\n",
       "      <td>581</td>\n",
       "      <td>1338</td>\n",
       "      <td>1294</td>\n",
       "    </tr>\n",
       "    <tr>\n",
       "      <th>2</th>\n",
       "      <td>2019-08-03</td>\n",
       "      <td>24</td>\n",
       "      <td>112473</td>\n",
       "      <td>14</td>\n",
       "      <td>67049</td>\n",
       "      <td>66</td>\n",
       "      <td>346854</td>\n",
       "      <td>54</td>\n",
       "      <td>288850</td>\n",
       "      <td>507</td>\n",
       "      <td>509</td>\n",
       "      <td>1845</td>\n",
       "      <td>1803</td>\n",
       "    </tr>\n",
       "    <tr>\n",
       "      <th>3</th>\n",
       "      <td>2019-08-04</td>\n",
       "      <td>11</td>\n",
       "      <td>41176</td>\n",
       "      <td>14</td>\n",
       "      <td>96890</td>\n",
       "      <td>77</td>\n",
       "      <td>388030</td>\n",
       "      <td>68</td>\n",
       "      <td>385740</td>\n",
       "      <td>717</td>\n",
       "      <td>770</td>\n",
       "      <td>2562</td>\n",
       "      <td>2573</td>\n",
       "    </tr>\n",
       "    <tr>\n",
       "      <th>4</th>\n",
       "      <td>2019-08-05</td>\n",
       "      <td>22</td>\n",
       "      <td>86383</td>\n",
       "      <td>21</td>\n",
       "      <td>89908</td>\n",
       "      <td>99</td>\n",
       "      <td>474413</td>\n",
       "      <td>89</td>\n",
       "      <td>475648</td>\n",
       "      <td>756</td>\n",
       "      <td>707</td>\n",
       "      <td>3318</td>\n",
       "      <td>3280</td>\n",
       "    </tr>\n",
       "  </tbody>\n",
       "</table>\n",
       "</div>"
      ],
      "text/plain": [
       "        date  ordersPerDateA  revenuePerDateA  ordersPerDateB  \\\n",
       "0 2019-08-01              23           142779              17   \n",
       "1 2019-08-02              19            91602              23   \n",
       "2 2019-08-03              24           112473              14   \n",
       "3 2019-08-04              11            41176              14   \n",
       "4 2019-08-05              22            86383              21   \n",
       "\n",
       "   revenuePerDateB  ordersCummulativeA  revenueCummulativeA  \\\n",
       "0            59758                  23               142779   \n",
       "1           162043                  42               234381   \n",
       "2            67049                  66               346854   \n",
       "3            96890                  77               388030   \n",
       "4            89908                  99               474413   \n",
       "\n",
       "   ordersCummulativeB  revenueCummulativeB  visitorsPerDateA  \\\n",
       "0                  17                59758               719   \n",
       "1                  40               221801               619   \n",
       "2                  54               288850               507   \n",
       "3                  68               385740               717   \n",
       "4                  89               475648               756   \n",
       "\n",
       "   visitorsPerDateB  visitorsCummulativeA  visitorsCummulativeB  \n",
       "0               713                   719                   713  \n",
       "1               581                  1338                  1294  \n",
       "2               509                  1845                  1803  \n",
       "3               770                  2562                  2573  \n",
       "4               707                  3318                  3280  "
      ]
     },
     "execution_count": 58,
     "metadata": {},
     "output_type": "execute_result"
    }
   ],
   "source": [
    "visitorsADaily = visitors[visitors['group'] == 'A'][['date', 'visitors']]\n",
    "visitorsADaily.columns = ['date', 'visitorsPerDateA']\n",
    "\n",
    "visitorsACummulative = visitorsADaily.apply(\n",
    "    lambda x: visitorsADaily[visitorsADaily['date'] <= x['date']].agg(\n",
    "        {'date': 'max', 'visitorsPerDateA': 'sum'}\n",
    "    ),\n",
    "    axis=1,\n",
    ")\n",
    "visitorsACummulative.columns = ['date', 'visitorsCummulativeA']\n",
    "\n",
    "visitorsBDaily = visitors[visitors['group'] == 'B'][['date', 'visitors']]\n",
    "visitorsBDaily.columns = ['date', 'visitorsPerDateB']\n",
    "\n",
    "visitorsBCummulative = visitorsBDaily.apply(\n",
    "    lambda x: visitorsBDaily[visitorsBDaily['date'] <= x['date']].agg(\n",
    "        {'date': 'max', 'visitorsPerDateB': 'sum'}\n",
    "    ),\n",
    "    axis=1,\n",
    ")\n",
    "visitorsBCummulative.columns = ['date', 'visitorsCummulativeB']\n",
    "\n",
    "ordersADaily = (\n",
    "    orders[orders['group'] == 'A'][['date', 'transactionId', 'visitorId', 'revenue']]\n",
    "    .groupby('date', as_index=False)\n",
    "    .agg({'transactionId': pd.Series.nunique, 'revenue': 'sum'})\n",
    ")\n",
    "ordersADaily.columns = ['date', 'ordersPerDateA', 'revenuePerDateA']\n",
    "\n",
    "ordersACummulative = ordersADaily.apply(\n",
    "    lambda x: ordersADaily[ordersADaily['date'] <= x['date']].agg(\n",
    "        {'date': 'max', 'ordersPerDateA': 'sum', 'revenuePerDateA': 'sum'}\n",
    "    ),\n",
    "    axis=1,\n",
    ").sort_values(by=['date'])\n",
    "ordersACummulative.columns = [\n",
    "    'date',\n",
    "    'ordersCummulativeA',\n",
    "    'revenueCummulativeA',\n",
    "]\n",
    "\n",
    "ordersBDaily = (\n",
    "    orders[orders['group'] == 'B'][['date', 'transactionId', 'visitorId', 'revenue']]\n",
    "    .groupby('date', as_index=False)\n",
    "    .agg({'transactionId': pd.Series.nunique, 'revenue': 'sum'})\n",
    ")\n",
    "ordersBDaily.columns = ['date', 'ordersPerDateB', 'revenuePerDateB']\n",
    "\n",
    "ordersBCummulative = ordersBDaily.apply(\n",
    "    lambda x: ordersBDaily[ordersBDaily['date'] <= x['date']].agg(\n",
    "        {'date': 'max', 'ordersPerDateB': 'sum', 'revenuePerDateB': 'sum'}\n",
    "    ),\n",
    "    axis=1,\n",
    ").sort_values(by=['date'])\n",
    "ordersBCummulative.columns = [\n",
    "    'date',\n",
    "    'ordersCummulativeB',\n",
    "    'revenueCummulativeB',\n",
    "]\n",
    "\n",
    "data = (\n",
    "    ordersADaily.merge(\n",
    "        ordersBDaily, left_on='date', right_on='date', how='left'\n",
    "    )\n",
    "    .merge(ordersACummulative, left_on='date', right_on='date', how='left')\n",
    "    .merge(ordersBCummulative, left_on='date', right_on='date', how='left')\n",
    "    .merge(visitorsADaily, left_on='date', right_on='date', how='left')\n",
    "    .merge(visitorsBDaily, left_on='date', right_on='date', how='left')\n",
    "    .merge(visitorsACummulative, left_on='date', right_on='date', how='left')\n",
    "    .merge(visitorsBCummulative, left_on='date', right_on='date', how='left')\n",
    ")\n",
    "\n",
    "data.head(5)"
   ]
  },
  {
   "cell_type": "markdown",
   "metadata": {},
   "source": [
    "Посчитаем статистическую значимость различия в среднем количестве заказов между группами."
   ]
  },
  {
   "cell_type": "code",
   "execution_count": 59,
   "metadata": {},
   "outputs": [],
   "source": [
    "ordersByUsersA = (\n",
    "    orders[orders['group'] == 'A']\n",
    "    .groupby('visitorId', as_index=False)\n",
    "    .agg({'transactionId': pd.Series.nunique})\n",
    ")\n",
    "ordersByUsersA.columns = ['visitorId', 'orders']\n",
    "\n",
    "ordersByUsersB = (\n",
    "    orders[orders['group'] == 'B']\n",
    "    .groupby('visitorId', as_index=False)\n",
    "    .agg({'transactionId': pd.Series.nunique})\n",
    ")\n",
    "ordersByUsersB.columns = ['visitorsId', 'orders']"
   ]
  },
  {
   "cell_type": "markdown",
   "metadata": {},
   "source": [
    "Объявим переменные sampleA и sampleB, в которых пользователям из разных групп будет соответствовать количество заказов. Тем, кто ничего не заказал, будут соответствовать нули."
   ]
  },
  {
   "cell_type": "code",
   "execution_count": 60,
   "metadata": {},
   "outputs": [],
   "source": [
    "sampleA = pd.concat(\n",
    "    [\n",
    "        ordersByUsersA['orders'],\n",
    "        pd.Series(\n",
    "            0,\n",
    "            index=np.arange(\n",
    "                data['visitorsPerDateA'].sum() - len(ordersByUsersA['orders'])\n",
    "            ),\n",
    "            name='orders',\n",
    "        ),\n",
    "    ],\n",
    "    axis=0,\n",
    ")\n",
    "\n",
    "sampleB = pd.concat(\n",
    "    [\n",
    "        ordersByUsersB['orders'],\n",
    "        pd.Series(\n",
    "            0,\n",
    "            index=np.arange(\n",
    "                data['visitorsPerDateB'].sum() - len(ordersByUsersB['orders'])\n",
    "            ),\n",
    "            name='orders',\n",
    "        ),\n",
    "    ],\n",
    "    axis=0,\n",
    ")"
   ]
  },
  {
   "cell_type": "markdown",
   "metadata": {},
   "source": [
    "В sampleA сохранили выборку, где каждый элемент — число заказов определённого пользователя, в том числе ноль. Значит, число элементов sampleA — это количество пользователей, сумма всех элементов — количество заказов. Чтобы получить среднее число заказов на пользователя, поделим сумму заказов на число пользователей — найдём среднее в выборке sampleA методом mean(). Аналогично найдём среднее группы B.\n",
    "Выведем относительный прирост среднего числа заказов группы B: среднее число заказов группы B / среднее число заказов группы A - 1.  Округлим до трёх знаков после запятой.(alpha возьмем равное 0.05).\n",
    "Нулевая гипотеза: статистически значимых различий в среднем количестве заказов на посетителя между группами А и В нет. \n",
    "Альтернативная гипотеза: различия есть."
   ]
  },
  {
   "cell_type": "code",
   "execution_count": 61,
   "metadata": {},
   "outputs": [
    {
     "name": "stdout",
     "output_type": "stream",
     "text": [
      "alpha = 0.05\n",
      "p-value = 0.011\n",
      "Относительный прирост среднего числа заказов группы B = 0.160\n"
     ]
    }
   ],
   "source": [
    "print(\"alpha =\", 0.05)\n",
    "\n",
    "print(\"p-value = {0:.3f}\".format(stats.mannwhitneyu(sampleA, sampleB)[1]))\n",
    "\n",
    "print(\"Относительный прирост среднего числа заказов группы B = {0:.3f}\".format(sampleB.mean() / sampleA.mean() - 1))\n"
   ]
  },
  {
   "cell_type": "markdown",
   "metadata": {},
   "source": [
    "Вывод: p-value = 1.7%, что меньше alpha = 5%. Значит нулевую гипотезу, что: \"статистически значимых различий в среднем количестве заказов на посетителя между группами нет\" отвергаем. Это значит, что по \"сырым данным\" различия в группах А и В есть. А относительный прирост среднего числа заказов группы B равен 13.8%."
   ]
  },
  {
   "cell_type": "markdown",
   "metadata": {},
   "source": [
    "**2.11 Посчитаем статистическую значимость различий в среднем чеке заказа между группами по «сырым» данным. Сделаем выводы и предположения.**"
   ]
  },
  {
   "cell_type": "markdown",
   "metadata": {},
   "source": [
    "Чтобы рассчитать статистическую значимость различий в среднем чеке между группами, передадим критерию mannwhitneyu() данные о выручке с заказов (пороговое значение возьмём равное 5%). И найдём относительные различия в среднем чеке между группами.\n",
    "\n",
    "За нулевую гипотезу возьмём что: \"статистически значимых различий в средних чеках между группами нет\"; тогда альтернативная гипотеза будет гласить - статистически значимые различия есть."
   ]
  },
  {
   "cell_type": "code",
   "execution_count": 62,
   "metadata": {},
   "outputs": [
    {
     "name": "stdout",
     "output_type": "stream",
     "text": [
      "alpha = 0.05\n",
      "p-value = 0.829\n",
      "Относительный показатель 'B' и 'A' = 0.287\n"
     ]
    }
   ],
   "source": [
    "print(\"alpha =\",0.05)\n",
    "print(\"p-value = {0:.3f}\".format(stats.mannwhitneyu(orders[orders['group']=='A']['revenue'], \\\n",
    "                                                    orders[orders['group']=='B']['revenue'], \\\n",
    "                                                    alternative = 'two-sided')[1]))\n",
    "print(\"Относительный показатель 'B' и 'A' = {0:.3f}\".\\\n",
    "      format(orders[orders['group']=='B']['revenue'].mean()/orders[orders['group']=='A']['revenue'].mean()-1)) "
   ]
  },
  {
   "cell_type": "markdown",
   "metadata": {},
   "source": [
    "**Вывод:** p-value больше 0.05. Значит, причин отвергать нулевую гипотезу и считать, что в среднем чеке есть различия, нет. То есть средние чеки по \"сырым\" данным схожи. Так же мы можем наблюдать различие в 25.9% между группой В и А, которое не является статистически значимым т.к. это относительный показатель среднего чека группы B к группе А."
   ]
  },
  {
   "cell_type": "markdown",
   "metadata": {},
   "source": [
    "**2.12 Посчитаем статистическую значимость различий в среднем количестве заказов на посетителя между группами по «очищенным» данным. Сделаем выводы и предположения.**"
   ]
  },
  {
   "cell_type": "markdown",
   "metadata": {},
   "source": [
    "Ранее мы приняли за аномальных пользователей тех, кто совершил 2 и больше заказов или совершил заказ дороже 53904 рублей. Сделаем срезы пользователей с числом заказов больше 2 — usersWithManyOrders и пользователей, совершивших заказы дороже 53904 — usersWithExpensiveOrders.\n",
    "Объединим их в таблице abnormalUsers. Узнаем, сколько всего аномальных пользователей методом shape()"
   ]
  },
  {
   "cell_type": "code",
   "execution_count": 63,
   "metadata": {},
   "outputs": [
    {
     "name": "stdout",
     "output_type": "stream",
     "text": [
      "1099    148427295\n",
      "33      249864742\n",
      "58      611059232\n",
      "949     887908475\n",
      "744     888512513\n",
      "dtype: int64\n",
      "16\n"
     ]
    }
   ],
   "source": [
    "usersWithManyOrders = pd.concat(\n",
    "    [\n",
    "        ordersByUsersA[ordersByUsersA['orders'] > 2]['visitorId'],\n",
    "        ordersByUsersB[ordersByUsersB['orders'] > 2]['visitorsId'],\n",
    "    ],\n",
    "    axis=0,\n",
    ")\n",
    "revenue_lim = 53904\n",
    "usersWithExpensiveOrders = orders[orders['revenue'] > revenue_lim]['visitorId']\n",
    "abnormalUsers = (\n",
    "    pd.concat([usersWithManyOrders, usersWithExpensiveOrders], axis=0)\n",
    "    .drop_duplicates()\n",
    "    .sort_values()\n",
    ")\n",
    "print(abnormalUsers.head(5))\n",
    "print(abnormalUsers.shape[0])"
   ]
  },
  {
   "cell_type": "markdown",
   "metadata": {},
   "source": [
    "Аномальных пользователей 16 человек."
   ]
  },
  {
   "cell_type": "markdown",
   "metadata": {},
   "source": [
    "Узнаем, как их действия повлияли на результаты теста. Посчитаем статистическую значимость различий в среднем количестве заказов на посетителя между группами теста по очищенным данным. Сначала подготовим выборки количества заказов по пользователям по группам теста:"
   ]
  },
  {
   "cell_type": "code",
   "execution_count": 64,
   "metadata": {},
   "outputs": [],
   "source": [
    "sampleAFiltered = pd.concat(\n",
    "    [\n",
    "        ordersByUsersA[\n",
    "            np.logical_not(ordersByUsersA['visitorId'].isin(abnormalUsers))\n",
    "        ]['orders'],\n",
    "        pd.Series(\n",
    "            0,\n",
    "            index=np.arange(\n",
    "                data['visitorsPerDateA'].sum() - len(ordersByUsersA['orders'])\n",
    "            ),\n",
    "            name='orders',\n",
    "        ),\n",
    "    ],\n",
    "    axis=0,\n",
    ")\n",
    "\n",
    "sampleBFiltered = pd.concat(\n",
    "    [\n",
    "        ordersByUsersB[\n",
    "            np.logical_not(ordersByUsersB['visitorsId'].isin(abnormalUsers))\n",
    "        ]['orders'],\n",
    "        pd.Series(\n",
    "            0,\n",
    "            index=np.arange(\n",
    "                data['visitorsPerDateB'].sum() - len(ordersByUsersB['orders'])\n",
    "            ),\n",
    "            name='orders',\n",
    "        ),\n",
    "    ],\n",
    "    axis=0,\n",
    ")"
   ]
  },
  {
   "cell_type": "markdown",
   "metadata": {},
   "source": [
    "Применим статистический критерий Манна-Уитни к полученным выборкам. \n",
    "За нулевую гипотезу возьмём что: \"статистически значимых различий в среднем количестве заказов на посетителя между группами теста по очищенным данным - нет \"; тогда альтернативная гипотеза будет гласить - статистически значимые различия есть. (alpha = 5%)"
   ]
  },
  {
   "cell_type": "code",
   "execution_count": 65,
   "metadata": {},
   "outputs": [
    {
     "name": "stdout",
     "output_type": "stream",
     "text": [
      "alpha = 0.05\n",
      "p-value = 0.007\n",
      "Относительная статистическая значимость различий в среднем количестве заказов на посетителя между группами = 0.189\n"
     ]
    }
   ],
   "source": [
    "print(\"alpha =\", 0.05)\n",
    "print(\"p-value = {0:.3f}\".format(stats.mannwhitneyu(sampleAFiltered, sampleBFiltered)[1]))\n",
    "print(\"Относительная статистическая значимость различий в среднем количестве заказов на посетителя между группами = {0:.3f}\"\\\n",
    "      .format(sampleBFiltered.mean()/sampleAFiltered.mean()-1))"
   ]
  },
  {
   "cell_type": "markdown",
   "metadata": {},
   "source": [
    "Вывод: p-value = 1%, что меньше alpha = 5%. Следовательно нулевую гипотезу о том, что \"статистически значимых различий в среднем количестве заказов на посетителя между группами теста по очищенным данным - нет\", отвергаем. Это означает, что \"очищенные\" данные повторяют \"сырые\" и различия в группах А и В есть. Относительные же различия между группой В и А равны 17.4%(что выше чем с \"сырыми\" данными 13.8%, на 3.6%)"
   ]
  },
  {
   "cell_type": "markdown",
   "metadata": {},
   "source": [
    "**2.13 Посчитаем статистическую значимость различий в среднем чеке заказа между группами по «очищенным» данным. Сделаем выводы и предположения.**"
   ]
  },
  {
   "cell_type": "markdown",
   "metadata": {},
   "source": [
    "За нулевую гипотезу возьмём что: \"статистически значимых различий в средних чеках между группами нет\"; тогда альтернативная гипотеза будет гласить - статистически значимые различия есть."
   ]
  },
  {
   "cell_type": "code",
   "execution_count": 66,
   "metadata": {},
   "outputs": [
    {
     "name": "stdout",
     "output_type": "stream",
     "text": [
      "alpha = 0.05\n",
      "p-value = 0.788\n",
      "Относительная статистическая значимость различий в среднем чеке заказа между группами = -0.032\n"
     ]
    }
   ],
   "source": [
    "print(\"alpha =\", 0.05)\n",
    "print(\n",
    "    \"p-value = {0:.3f}\".format(\n",
    "        stats.mannwhitneyu(\n",
    "            orders[\n",
    "                np.logical_and(\n",
    "                    orders['group'] == 'A',\n",
    "                    np.logical_not(orders['visitorId'].isin(abnormalUsers)),\n",
    "                )\n",
    "            ]['revenue'],\n",
    "            orders[\n",
    "                np.logical_and(\n",
    "                    orders['group'] == 'B',\n",
    "                    np.logical_not(orders['visitorId'].isin(abnormalUsers)),\n",
    "                )\n",
    "            ]['revenue'],\n",
    "        )[1]\n",
    "    )\n",
    ")\n",
    "\n",
    "print(\n",
    "    \"Относительная статистическая значимость различий в среднем чеке заказа между группами = {0:.3f}\".format(\n",
    "        orders[\n",
    "            np.logical_and(\n",
    "                orders['group'] == 'B',\n",
    "                np.logical_not(orders['visitorId'].isin(abnormalUsers)),\n",
    "            )\n",
    "        ]['revenue'].mean()\n",
    "        / orders[\n",
    "            np.logical_and(\n",
    "                orders['group'] == 'A',\n",
    "                np.logical_not(orders['visitorId'].isin(abnormalUsers)),\n",
    "            )\n",
    "        ]['revenue'].mean()\n",
    "        - 1\n",
    "    )\n",
    ")"
   ]
  },
  {
   "cell_type": "markdown",
   "metadata": {},
   "source": [
    "Вывод: Относительный показатель среднего чека группы В на 2% ниже группы А, в то время как по \"сырым\" данным он был больше на 25.9%, на столько сильно влияли аномальные заказы на статистические расчеты.\n",
    "\n",
    "Статистическая значимость различий в среднем чеке заказа между группами по «очищенным» данным показала, что p-value = 79.8%, что больше alpha = 5%. Следовательно нулевую гипотезу гласящую что: \"статистически значимых различий в средних чеках между группами нет\" не отвергаем.(то же самое, что и с \"сырыми\" данными).\n",
    "\n"
   ]
  },
  {
   "cell_type": "markdown",
   "metadata": {},
   "source": [
    "**2.14 Решение по результатам теста.**"
   ]
  },
  {
   "cell_type": "markdown",
   "metadata": {},
   "source": [
    "Тестирование показало, что статистическая значимость различий в среднем количестве заказов на посетителя между группами по «очищенным» и \"сырым\" данным есть. Лидером по относительным показателям является группа В которая превосходит на 17.4% группу А по \"очищенным\" данным (по \"сырыми\" данными на 13.8%) \n",
    "\n",
    "Так же тестирование выявило, что ни в \"очищенных\" ни в \"сырых\" данных статистически значимых различий в средних чеках между группами - нет. А вот относительный показатель среднего чека группы В на 2% ниже группы А, в то время как по \"сырым\" данным он был больше на 25.9%, такая разница это следствие влияния аномальных заказов на объективную картину данных.\n",
    "\n",
    "В итоге принимаем решение остановить тест, зафиксировать победу группы В. Группа В значительно лучше группы А по среднему количеству заказов на посетителя, при практически одинаковых показателях средних чеков."
   ]
  }
 ],
 "metadata": {
  "ExecuteTimeLog": [
   {
    "duration": 1529,
    "start_time": "2023-06-30T06:28:25.342Z"
   },
   {
    "duration": 103,
    "start_time": "2023-06-30T06:28:26.874Z"
   },
   {
    "duration": 155,
    "start_time": "2023-06-30T06:28:26.983Z"
   },
   {
    "duration": 137,
    "start_time": "2023-06-30T06:28:27.141Z"
   },
   {
    "duration": 15,
    "start_time": "2023-06-30T06:28:27.281Z"
   },
   {
    "duration": 16,
    "start_time": "2023-06-30T06:28:27.298Z"
   },
   {
    "duration": 9,
    "start_time": "2023-06-30T06:28:27.316Z"
   },
   {
    "duration": 26,
    "start_time": "2023-06-30T06:28:27.327Z"
   },
   {
    "duration": 15,
    "start_time": "2023-06-30T06:28:27.370Z"
   },
   {
    "duration": 16,
    "start_time": "2023-06-30T06:28:27.388Z"
   },
   {
    "duration": 15,
    "start_time": "2023-06-30T06:28:27.406Z"
   },
   {
    "duration": 23,
    "start_time": "2023-06-30T06:28:27.423Z"
   },
   {
    "duration": 19,
    "start_time": "2023-06-30T06:28:27.451Z"
   },
   {
    "duration": 13,
    "start_time": "2023-06-30T06:28:27.472Z"
   },
   {
    "duration": 10,
    "start_time": "2023-06-30T06:28:27.487Z"
   },
   {
    "duration": 4,
    "start_time": "2023-06-30T06:28:27.500Z"
   },
   {
    "duration": 18,
    "start_time": "2023-06-30T06:28:27.507Z"
   },
   {
    "duration": 41,
    "start_time": "2023-06-30T06:28:27.527Z"
   },
   {
    "duration": 8,
    "start_time": "2023-06-30T06:28:27.570Z"
   },
   {
    "duration": 17,
    "start_time": "2023-06-30T06:28:27.580Z"
   },
   {
    "duration": 12,
    "start_time": "2023-06-30T06:28:27.599Z"
   },
   {
    "duration": 7,
    "start_time": "2023-06-30T06:28:27.614Z"
   },
   {
    "duration": 12,
    "start_time": "2023-06-30T06:28:27.667Z"
   },
   {
    "duration": 22,
    "start_time": "2023-06-30T06:28:27.683Z"
   },
   {
    "duration": 8,
    "start_time": "2023-06-30T06:28:27.707Z"
   },
   {
    "duration": 259,
    "start_time": "2023-06-30T06:28:27.716Z"
   },
   {
    "duration": 156,
    "start_time": "2023-06-30T06:28:27.978Z"
   },
   {
    "duration": 12,
    "start_time": "2023-06-30T06:28:28.136Z"
   },
   {
    "duration": 23,
    "start_time": "2023-06-30T06:28:28.150Z"
   },
   {
    "duration": 349,
    "start_time": "2023-06-30T06:28:28.175Z"
   },
   {
    "duration": 245,
    "start_time": "2023-06-30T06:28:28.526Z"
   },
   {
    "duration": 8,
    "start_time": "2023-06-30T06:28:28.773Z"
   },
   {
    "duration": 14,
    "start_time": "2023-06-30T06:28:28.784Z"
   },
   {
    "duration": 470,
    "start_time": "2023-06-30T06:28:28.800Z"
   },
   {
    "duration": 7,
    "start_time": "2023-06-30T06:28:29.272Z"
   },
   {
    "duration": 321,
    "start_time": "2023-06-30T06:28:29.281Z"
   },
   {
    "duration": 7,
    "start_time": "2023-06-30T06:28:29.604Z"
   },
   {
    "duration": 18,
    "start_time": "2023-06-30T06:28:29.613Z"
   },
   {
    "duration": 358,
    "start_time": "2023-06-30T06:28:29.633Z"
   },
   {
    "duration": 233,
    "start_time": "2023-06-30T06:28:29.993Z"
   },
   {
    "duration": 209,
    "start_time": "2023-06-30T06:28:30.228Z"
   },
   {
    "duration": 6,
    "start_time": "2023-06-30T06:28:30.440Z"
   },
   {
    "duration": 244,
    "start_time": "2023-06-30T06:28:30.448Z"
   },
   {
    "duration": 206,
    "start_time": "2023-06-30T06:28:30.694Z"
   },
   {
    "duration": 6,
    "start_time": "2023-06-30T06:28:30.901Z"
   },
   {
    "duration": 51,
    "start_time": "2023-06-30T06:28:30.909Z"
   },
   {
    "duration": 51,
    "start_time": "2023-06-30T06:28:30.961Z"
   },
   {
    "duration": 369,
    "start_time": "2023-06-30T06:28:31.014Z"
   },
   {
    "duration": 158,
    "start_time": "2023-06-30T06:28:31.385Z"
   },
   {
    "duration": 7,
    "start_time": "2023-06-30T06:28:31.545Z"
   },
   {
    "duration": 48,
    "start_time": "2023-06-30T06:28:31.554Z"
   },
   {
    "duration": 75,
    "start_time": "2023-06-30T06:28:31.603Z"
   },
   {
    "duration": 20,
    "start_time": "2023-06-30T06:28:31.680Z"
   },
   {
    "duration": 34,
    "start_time": "2023-06-30T06:28:31.702Z"
   },
   {
    "duration": 70,
    "start_time": "2023-06-30T06:28:31.738Z"
   },
   {
    "duration": 36,
    "start_time": "2023-06-30T06:28:31.810Z"
   },
   {
    "duration": 50,
    "start_time": "2023-06-30T09:11:53.955Z"
   },
   {
    "duration": 1540,
    "start_time": "2023-06-30T09:12:03.571Z"
   },
   {
    "duration": 172,
    "start_time": "2023-06-30T09:12:05.113Z"
   },
   {
    "duration": 141,
    "start_time": "2023-06-30T09:12:05.287Z"
   },
   {
    "duration": 154,
    "start_time": "2023-06-30T09:12:05.430Z"
   },
   {
    "duration": 11,
    "start_time": "2023-06-30T09:12:05.587Z"
   },
   {
    "duration": 36,
    "start_time": "2023-06-30T09:12:05.600Z"
   },
   {
    "duration": 52,
    "start_time": "2023-06-30T09:12:05.638Z"
   },
   {
    "duration": 25,
    "start_time": "2023-06-30T09:12:05.691Z"
   },
   {
    "duration": 29,
    "start_time": "2023-06-30T09:12:05.718Z"
   },
   {
    "duration": 35,
    "start_time": "2023-06-30T09:12:05.749Z"
   },
   {
    "duration": 21,
    "start_time": "2023-06-30T09:12:05.786Z"
   },
   {
    "duration": 55,
    "start_time": "2023-06-30T09:12:05.809Z"
   },
   {
    "duration": 83,
    "start_time": "2023-06-30T09:12:05.867Z"
   },
   {
    "duration": 24,
    "start_time": "2023-06-30T09:12:05.955Z"
   },
   {
    "duration": 16,
    "start_time": "2023-06-30T09:12:05.981Z"
   },
   {
    "duration": 31,
    "start_time": "2023-06-30T09:12:05.998Z"
   },
   {
    "duration": 48,
    "start_time": "2023-06-30T09:12:06.030Z"
   },
   {
    "duration": 51,
    "start_time": "2023-06-30T09:12:06.080Z"
   },
   {
    "duration": 54,
    "start_time": "2023-06-30T09:12:06.133Z"
   },
   {
    "duration": 43,
    "start_time": "2023-06-30T09:12:06.190Z"
   },
   {
    "duration": 58,
    "start_time": "2023-06-30T09:12:06.235Z"
   },
   {
    "duration": 20,
    "start_time": "2023-06-30T09:12:06.294Z"
   },
   {
    "duration": 33,
    "start_time": "2023-06-30T09:12:06.317Z"
   },
   {
    "duration": 38,
    "start_time": "2023-06-30T09:12:06.353Z"
   },
   {
    "duration": 32,
    "start_time": "2023-06-30T09:12:06.394Z"
   },
   {
    "duration": 204,
    "start_time": "2023-06-30T09:12:06.428Z"
   },
   {
    "duration": 155,
    "start_time": "2023-06-30T09:12:06.634Z"
   },
   {
    "duration": 8,
    "start_time": "2023-06-30T09:12:06.791Z"
   },
   {
    "duration": 26,
    "start_time": "2023-06-30T09:12:06.801Z"
   },
   {
    "duration": 300,
    "start_time": "2023-06-30T09:12:06.828Z"
   },
   {
    "duration": 203,
    "start_time": "2023-06-30T09:12:07.130Z"
   },
   {
    "duration": 7,
    "start_time": "2023-06-30T09:12:07.334Z"
   },
   {
    "duration": 23,
    "start_time": "2023-06-30T09:12:07.342Z"
   },
   {
    "duration": 330,
    "start_time": "2023-06-30T09:12:07.366Z"
   },
   {
    "duration": 6,
    "start_time": "2023-06-30T09:12:07.698Z"
   },
   {
    "duration": 227,
    "start_time": "2023-06-30T09:12:07.705Z"
   },
   {
    "duration": 10,
    "start_time": "2023-06-30T09:12:07.934Z"
   },
   {
    "duration": 22,
    "start_time": "2023-06-30T09:12:07.946Z"
   },
   {
    "duration": 291,
    "start_time": "2023-06-30T09:12:07.971Z"
   },
   {
    "duration": 154,
    "start_time": "2023-06-30T09:12:08.264Z"
   },
   {
    "duration": 155,
    "start_time": "2023-06-30T09:12:08.421Z"
   },
   {
    "duration": 6,
    "start_time": "2023-06-30T09:12:08.578Z"
   },
   {
    "duration": 165,
    "start_time": "2023-06-30T09:12:08.586Z"
   },
   {
    "duration": 170,
    "start_time": "2023-06-30T09:12:08.753Z"
   },
   {
    "duration": 34,
    "start_time": "2023-06-30T09:12:08.925Z"
   },
   {
    "duration": 15,
    "start_time": "2023-06-30T09:12:08.962Z"
   },
   {
    "duration": 37,
    "start_time": "2023-06-30T09:12:08.979Z"
   },
   {
    "duration": 763,
    "start_time": "2023-06-30T09:12:09.019Z"
   },
   {
    "duration": 294,
    "start_time": "2023-06-30T09:12:09.783Z"
   },
   {
    "duration": 7,
    "start_time": "2023-06-30T09:12:10.079Z"
   },
   {
    "duration": 91,
    "start_time": "2023-06-30T09:12:10.088Z"
   },
   {
    "duration": 30,
    "start_time": "2023-06-30T09:12:10.182Z"
   },
   {
    "duration": 54,
    "start_time": "2023-06-30T09:12:10.213Z"
   },
   {
    "duration": 22,
    "start_time": "2023-06-30T09:12:10.269Z"
   },
   {
    "duration": 76,
    "start_time": "2023-06-30T09:12:10.293Z"
   },
   {
    "duration": 17,
    "start_time": "2023-06-30T09:12:10.371Z"
   },
   {
    "duration": 10,
    "start_time": "2023-06-30T09:12:34.789Z"
   },
   {
    "duration": 105,
    "start_time": "2023-06-30T09:14:13.650Z"
   },
   {
    "duration": 94,
    "start_time": "2023-06-30T09:14:28.340Z"
   },
   {
    "duration": 12,
    "start_time": "2023-06-30T09:19:56.449Z"
   },
   {
    "duration": 12,
    "start_time": "2023-06-30T09:19:59.352Z"
   },
   {
    "duration": 11,
    "start_time": "2023-06-30T09:20:23.894Z"
   },
   {
    "duration": 12,
    "start_time": "2023-06-30T09:20:57.318Z"
   },
   {
    "duration": 18,
    "start_time": "2023-06-30T09:25:00.477Z"
   },
   {
    "duration": 7,
    "start_time": "2023-06-30T09:25:28.536Z"
   },
   {
    "duration": 12,
    "start_time": "2023-06-30T09:25:39.512Z"
   },
   {
    "duration": 11,
    "start_time": "2023-06-30T09:29:41.061Z"
   },
   {
    "duration": 4,
    "start_time": "2023-06-30T09:35:18.054Z"
   },
   {
    "duration": 12,
    "start_time": "2023-06-30T09:35:19.064Z"
   },
   {
    "duration": 11,
    "start_time": "2023-06-30T09:35:23.130Z"
   },
   {
    "duration": 1299,
    "start_time": "2023-06-30T09:35:40.056Z"
   },
   {
    "duration": 131,
    "start_time": "2023-06-30T09:35:41.357Z"
   },
   {
    "duration": 110,
    "start_time": "2023-06-30T09:35:41.489Z"
   },
   {
    "duration": 99,
    "start_time": "2023-06-30T09:35:41.602Z"
   },
   {
    "duration": 13,
    "start_time": "2023-06-30T09:35:41.703Z"
   },
   {
    "duration": 25,
    "start_time": "2023-06-30T09:35:41.718Z"
   },
   {
    "duration": 35,
    "start_time": "2023-06-30T09:35:41.745Z"
   },
   {
    "duration": 49,
    "start_time": "2023-06-30T09:35:41.782Z"
   },
   {
    "duration": 53,
    "start_time": "2023-06-30T09:35:41.833Z"
   },
   {
    "duration": 13,
    "start_time": "2023-06-30T09:35:41.889Z"
   },
   {
    "duration": 27,
    "start_time": "2023-06-30T09:35:41.904Z"
   },
   {
    "duration": 30,
    "start_time": "2023-06-30T09:35:41.933Z"
   },
   {
    "duration": 17,
    "start_time": "2023-06-30T09:35:41.965Z"
   },
   {
    "duration": 24,
    "start_time": "2023-06-30T09:35:41.985Z"
   },
   {
    "duration": 20,
    "start_time": "2023-06-30T09:35:42.011Z"
   },
   {
    "duration": 6,
    "start_time": "2023-06-30T09:35:42.033Z"
   },
   {
    "duration": 12,
    "start_time": "2023-06-30T09:35:42.042Z"
   },
   {
    "duration": 17,
    "start_time": "2023-06-30T09:35:42.056Z"
   },
   {
    "duration": 8,
    "start_time": "2023-06-30T09:35:42.078Z"
   },
   {
    "duration": 11,
    "start_time": "2023-06-30T09:35:42.087Z"
   },
   {
    "duration": 31,
    "start_time": "2023-06-30T09:35:42.100Z"
   },
   {
    "duration": 14,
    "start_time": "2023-06-30T09:35:42.132Z"
   },
   {
    "duration": 21,
    "start_time": "2023-06-30T09:35:42.148Z"
   },
   {
    "duration": 18,
    "start_time": "2023-06-30T09:35:42.170Z"
   },
   {
    "duration": 12,
    "start_time": "2023-06-30T09:35:42.190Z"
   },
   {
    "duration": 177,
    "start_time": "2023-06-30T09:35:42.203Z"
   },
   {
    "duration": 137,
    "start_time": "2023-06-30T09:35:42.382Z"
   },
   {
    "duration": 11,
    "start_time": "2023-06-30T09:35:42.523Z"
   },
   {
    "duration": 15,
    "start_time": "2023-06-30T09:35:42.536Z"
   },
   {
    "duration": 314,
    "start_time": "2023-06-30T09:35:42.560Z"
   },
   {
    "duration": 211,
    "start_time": "2023-06-30T09:35:42.875Z"
   },
   {
    "duration": 6,
    "start_time": "2023-06-30T09:35:43.088Z"
   },
   {
    "duration": 17,
    "start_time": "2023-06-30T09:35:43.096Z"
   },
   {
    "duration": 328,
    "start_time": "2023-06-30T09:35:43.115Z"
   },
   {
    "duration": 20,
    "start_time": "2023-06-30T09:35:43.445Z"
   },
   {
    "duration": 242,
    "start_time": "2023-06-30T09:35:43.467Z"
   },
   {
    "duration": 8,
    "start_time": "2023-06-30T09:35:43.712Z"
   },
   {
    "duration": 55,
    "start_time": "2023-06-30T09:35:43.722Z"
   },
   {
    "duration": 349,
    "start_time": "2023-06-30T09:35:43.779Z"
   },
   {
    "duration": 237,
    "start_time": "2023-06-30T09:35:44.131Z"
   },
   {
    "duration": 306,
    "start_time": "2023-06-30T09:35:44.377Z"
   },
   {
    "duration": 6,
    "start_time": "2023-06-30T09:35:44.685Z"
   },
   {
    "duration": 386,
    "start_time": "2023-06-30T09:35:44.693Z"
   },
   {
    "duration": 389,
    "start_time": "2023-06-30T09:35:45.081Z"
   },
   {
    "duration": 10,
    "start_time": "2023-06-30T09:35:45.472Z"
   },
   {
    "duration": 36,
    "start_time": "2023-06-30T09:35:45.484Z"
   },
   {
    "duration": 46,
    "start_time": "2023-06-30T09:35:45.522Z"
   },
   {
    "duration": 695,
    "start_time": "2023-06-30T09:35:45.570Z"
   },
   {
    "duration": 225,
    "start_time": "2023-06-30T09:35:46.267Z"
   },
   {
    "duration": 7,
    "start_time": "2023-06-30T09:35:46.494Z"
   },
   {
    "duration": 35,
    "start_time": "2023-06-30T09:35:46.503Z"
   },
   {
    "duration": 24,
    "start_time": "2023-06-30T09:35:46.539Z"
   },
   {
    "duration": 11,
    "start_time": "2023-06-30T09:35:46.567Z"
   },
   {
    "duration": 14,
    "start_time": "2023-06-30T09:35:46.580Z"
   },
   {
    "duration": 33,
    "start_time": "2023-06-30T09:35:46.596Z"
   },
   {
    "duration": 14,
    "start_time": "2023-06-30T09:35:46.631Z"
   },
   {
    "duration": 11,
    "start_time": "2023-06-30T09:36:41.373Z"
   },
   {
    "duration": 5,
    "start_time": "2023-06-30T09:36:43.373Z"
   },
   {
    "duration": 11,
    "start_time": "2023-06-30T09:36:43.873Z"
   },
   {
    "duration": 26,
    "start_time": "2023-06-30T09:36:45.150Z"
   },
   {
    "duration": 1215,
    "start_time": "2023-06-30T09:36:51.902Z"
   },
   {
    "duration": 167,
    "start_time": "2023-06-30T09:36:53.119Z"
   },
   {
    "duration": 109,
    "start_time": "2023-06-30T09:36:53.287Z"
   },
   {
    "duration": 98,
    "start_time": "2023-06-30T09:36:53.397Z"
   },
   {
    "duration": 12,
    "start_time": "2023-06-30T09:36:53.496Z"
   },
   {
    "duration": 51,
    "start_time": "2023-06-30T09:36:53.510Z"
   },
   {
    "duration": 20,
    "start_time": "2023-06-30T09:36:53.563Z"
   },
   {
    "duration": 16,
    "start_time": "2023-06-30T09:36:53.585Z"
   },
   {
    "duration": 17,
    "start_time": "2023-06-30T09:36:53.603Z"
   },
   {
    "duration": 9,
    "start_time": "2023-06-30T09:36:53.623Z"
   },
   {
    "duration": 7,
    "start_time": "2023-06-30T09:36:53.633Z"
   },
   {
    "duration": 12,
    "start_time": "2023-06-30T09:36:53.641Z"
   },
   {
    "duration": 20,
    "start_time": "2023-06-30T09:36:53.655Z"
   },
   {
    "duration": 12,
    "start_time": "2023-06-30T09:36:53.676Z"
   },
   {
    "duration": 14,
    "start_time": "2023-06-30T09:36:53.689Z"
   },
   {
    "duration": 13,
    "start_time": "2023-06-30T09:36:53.704Z"
   },
   {
    "duration": 15,
    "start_time": "2023-06-30T09:36:53.719Z"
   },
   {
    "duration": 12,
    "start_time": "2023-06-30T09:36:53.735Z"
   },
   {
    "duration": 56,
    "start_time": "2023-06-30T09:36:53.748Z"
   },
   {
    "duration": 20,
    "start_time": "2023-06-30T09:36:53.806Z"
   },
   {
    "duration": 47,
    "start_time": "2023-06-30T09:36:53.828Z"
   },
   {
    "duration": 9,
    "start_time": "2023-06-30T09:36:53.877Z"
   },
   {
    "duration": 41,
    "start_time": "2023-06-30T09:36:53.888Z"
   },
   {
    "duration": 23,
    "start_time": "2023-06-30T09:36:53.931Z"
   },
   {
    "duration": 32,
    "start_time": "2023-06-30T09:36:53.956Z"
   },
   {
    "duration": 215,
    "start_time": "2023-06-30T09:36:53.990Z"
   },
   {
    "duration": 153,
    "start_time": "2023-06-30T09:36:54.207Z"
   },
   {
    "duration": 13,
    "start_time": "2023-06-30T09:36:54.367Z"
   },
   {
    "duration": 10,
    "start_time": "2023-06-30T09:36:54.382Z"
   },
   {
    "duration": 362,
    "start_time": "2023-06-30T09:36:54.394Z"
   },
   {
    "duration": 205,
    "start_time": "2023-06-30T09:36:54.757Z"
   },
   {
    "duration": 9,
    "start_time": "2023-06-30T09:36:54.969Z"
   },
   {
    "duration": 22,
    "start_time": "2023-06-30T09:36:54.979Z"
   },
   {
    "duration": 277,
    "start_time": "2023-06-30T09:36:55.003Z"
   },
   {
    "duration": 6,
    "start_time": "2023-06-30T09:36:55.282Z"
   },
   {
    "duration": 224,
    "start_time": "2023-06-30T09:36:55.290Z"
   },
   {
    "duration": 6,
    "start_time": "2023-06-30T09:36:55.516Z"
   },
   {
    "duration": 19,
    "start_time": "2023-06-30T09:36:55.524Z"
   },
   {
    "duration": 327,
    "start_time": "2023-06-30T09:36:55.544Z"
   },
   {
    "duration": 133,
    "start_time": "2023-06-30T09:36:55.873Z"
   },
   {
    "duration": 165,
    "start_time": "2023-06-30T09:36:56.008Z"
   },
   {
    "duration": 5,
    "start_time": "2023-06-30T09:36:56.174Z"
   },
   {
    "duration": 183,
    "start_time": "2023-06-30T09:36:56.181Z"
   },
   {
    "duration": 323,
    "start_time": "2023-06-30T09:36:56.369Z"
   },
   {
    "duration": 4,
    "start_time": "2023-06-30T09:36:56.694Z"
   },
   {
    "duration": 67,
    "start_time": "2023-06-30T09:36:56.701Z"
   },
   {
    "duration": 23,
    "start_time": "2023-06-30T09:36:56.770Z"
   },
   {
    "duration": 673,
    "start_time": "2023-06-30T09:36:56.794Z"
   },
   {
    "duration": 306,
    "start_time": "2023-06-30T09:36:57.469Z"
   },
   {
    "duration": 8,
    "start_time": "2023-06-30T09:36:57.779Z"
   },
   {
    "duration": 80,
    "start_time": "2023-06-30T09:36:57.789Z"
   },
   {
    "duration": 12,
    "start_time": "2023-06-30T09:36:57.874Z"
   },
   {
    "duration": 13,
    "start_time": "2023-06-30T09:36:57.888Z"
   },
   {
    "duration": 65,
    "start_time": "2023-06-30T09:36:57.903Z"
   },
   {
    "duration": 24,
    "start_time": "2023-06-30T09:36:57.975Z"
   },
   {
    "duration": 61,
    "start_time": "2023-06-30T09:36:58.001Z"
   },
   {
    "duration": 16,
    "start_time": "2023-06-30T11:30:58.332Z"
   },
   {
    "duration": 5,
    "start_time": "2023-06-30T11:31:39.344Z"
   },
   {
    "duration": 6,
    "start_time": "2023-06-30T11:31:50.618Z"
   },
   {
    "duration": 5,
    "start_time": "2023-06-30T11:32:57.131Z"
   },
   {
    "duration": 8,
    "start_time": "2023-06-30T11:33:29.085Z"
   },
   {
    "duration": 10,
    "start_time": "2023-06-30T11:33:37.039Z"
   },
   {
    "duration": 9,
    "start_time": "2023-06-30T11:34:09.434Z"
   },
   {
    "duration": 14,
    "start_time": "2023-06-30T11:34:25.106Z"
   },
   {
    "duration": 6,
    "start_time": "2023-06-30T11:34:27.017Z"
   },
   {
    "duration": 204,
    "start_time": "2023-06-30T11:34:28.317Z"
   },
   {
    "duration": 138,
    "start_time": "2023-06-30T11:34:31.712Z"
   },
   {
    "duration": 10,
    "start_time": "2023-06-30T11:34:32.703Z"
   },
   {
    "duration": 12,
    "start_time": "2023-06-30T11:34:33.150Z"
   },
   {
    "duration": 311,
    "start_time": "2023-06-30T11:34:34.525Z"
   },
   {
    "duration": 240,
    "start_time": "2023-06-30T11:34:40.715Z"
   },
   {
    "duration": 343,
    "start_time": "2023-06-30T11:34:43.295Z"
   },
   {
    "duration": 7,
    "start_time": "2023-06-30T11:34:46.093Z"
   },
   {
    "duration": 11,
    "start_time": "2023-06-30T11:34:46.847Z"
   },
   {
    "duration": 314,
    "start_time": "2023-06-30T11:34:49.621Z"
   },
   {
    "duration": 8,
    "start_time": "2023-06-30T11:34:50.688Z"
   },
   {
    "duration": 300,
    "start_time": "2023-06-30T11:34:50.896Z"
   },
   {
    "duration": 7,
    "start_time": "2023-06-30T11:35:01.536Z"
   },
   {
    "duration": 11,
    "start_time": "2023-06-30T11:35:03.414Z"
   },
   {
    "duration": 299,
    "start_time": "2023-06-30T11:35:05.944Z"
   },
   {
    "duration": 162,
    "start_time": "2023-06-30T11:35:10.189Z"
   },
   {
    "duration": 246,
    "start_time": "2023-06-30T11:35:11.649Z"
   },
   {
    "duration": 4,
    "start_time": "2023-06-30T11:35:26.552Z"
   },
   {
    "duration": 180,
    "start_time": "2023-06-30T11:35:29.093Z"
   },
   {
    "duration": 246,
    "start_time": "2023-06-30T11:35:31.381Z"
   },
   {
    "duration": 5,
    "start_time": "2023-06-30T11:35:32.909Z"
   },
   {
    "duration": 10,
    "start_time": "2023-06-30T11:35:34.535Z"
   },
   {
    "duration": 13,
    "start_time": "2023-06-30T11:35:34.707Z"
   },
   {
    "duration": 338,
    "start_time": "2023-06-30T11:35:34.905Z"
   },
   {
    "duration": 220,
    "start_time": "2023-06-30T11:35:36.185Z"
   },
   {
    "duration": 17,
    "start_time": "2023-06-30T11:35:36.551Z"
   },
   {
    "duration": 22,
    "start_time": "2023-06-30T11:35:37.322Z"
   },
   {
    "duration": 10,
    "start_time": "2023-06-30T11:35:38.540Z"
   },
   {
    "duration": 13,
    "start_time": "2023-06-30T11:35:39.797Z"
   },
   {
    "duration": 11,
    "start_time": "2023-06-30T11:35:40.829Z"
   },
   {
    "duration": 33,
    "start_time": "2023-06-30T11:35:41.302Z"
   },
   {
    "duration": 17,
    "start_time": "2023-06-30T11:35:42.331Z"
   },
   {
    "duration": 16,
    "start_time": "2023-06-30T11:41:44.103Z"
   },
   {
    "duration": 8,
    "start_time": "2023-06-30T11:43:28.121Z"
   },
   {
    "duration": 10,
    "start_time": "2023-06-30T11:43:28.873Z"
   },
   {
    "duration": 4,
    "start_time": "2023-06-30T11:45:57.602Z"
   },
   {
    "duration": 6,
    "start_time": "2023-06-30T11:47:24.498Z"
   },
   {
    "duration": 7,
    "start_time": "2023-06-30T11:47:30.705Z"
   },
   {
    "duration": 1810,
    "start_time": "2023-06-30T11:47:52.829Z"
   },
   {
    "duration": 272,
    "start_time": "2023-06-30T11:47:54.642Z"
   },
   {
    "duration": 311,
    "start_time": "2023-06-30T11:47:54.920Z"
   },
   {
    "duration": 135,
    "start_time": "2023-06-30T11:47:55.234Z"
   },
   {
    "duration": 26,
    "start_time": "2023-06-30T11:47:55.373Z"
   },
   {
    "duration": 23,
    "start_time": "2023-06-30T11:47:55.401Z"
   },
   {
    "duration": 7,
    "start_time": "2023-06-30T11:47:55.427Z"
   },
   {
    "duration": 16,
    "start_time": "2023-06-30T11:47:55.437Z"
   },
   {
    "duration": 19,
    "start_time": "2023-06-30T11:47:55.454Z"
   },
   {
    "duration": 15,
    "start_time": "2023-06-30T11:47:55.477Z"
   },
   {
    "duration": 13,
    "start_time": "2023-06-30T11:47:55.494Z"
   },
   {
    "duration": 20,
    "start_time": "2023-06-30T11:47:55.509Z"
   },
   {
    "duration": 12,
    "start_time": "2023-06-30T11:47:55.531Z"
   },
   {
    "duration": 29,
    "start_time": "2023-06-30T11:47:55.546Z"
   },
   {
    "duration": 20,
    "start_time": "2023-06-30T11:47:55.577Z"
   },
   {
    "duration": 4,
    "start_time": "2023-06-30T11:47:55.600Z"
   },
   {
    "duration": 39,
    "start_time": "2023-06-30T11:47:55.607Z"
   },
   {
    "duration": 9,
    "start_time": "2023-06-30T11:47:55.648Z"
   },
   {
    "duration": 20,
    "start_time": "2023-06-30T11:47:55.665Z"
   },
   {
    "duration": 32,
    "start_time": "2023-06-30T11:47:55.687Z"
   },
   {
    "duration": 21,
    "start_time": "2023-06-30T11:47:55.726Z"
   },
   {
    "duration": 18,
    "start_time": "2023-06-30T11:47:55.750Z"
   },
   {
    "duration": 35,
    "start_time": "2023-06-30T11:47:55.771Z"
   },
   {
    "duration": 25,
    "start_time": "2023-06-30T11:47:55.808Z"
   },
   {
    "duration": 97,
    "start_time": "2023-06-30T11:47:55.836Z"
   },
   {
    "duration": 10,
    "start_time": "2023-06-30T11:47:55.935Z"
   },
   {
    "duration": 23,
    "start_time": "2023-06-30T11:47:55.948Z"
   },
   {
    "duration": 11,
    "start_time": "2023-06-30T11:47:55.978Z"
   },
   {
    "duration": 16,
    "start_time": "2023-06-30T11:47:55.991Z"
   },
   {
    "duration": 18,
    "start_time": "2023-06-30T11:47:56.010Z"
   },
   {
    "duration": 22,
    "start_time": "2023-06-30T11:47:56.031Z"
   },
   {
    "duration": 318,
    "start_time": "2023-06-30T11:47:56.055Z"
   },
   {
    "duration": 181,
    "start_time": "2023-06-30T11:47:56.376Z"
   },
   {
    "duration": 15,
    "start_time": "2023-06-30T11:47:56.559Z"
   },
   {
    "duration": 14,
    "start_time": "2023-06-30T11:47:56.576Z"
   },
   {
    "duration": 443,
    "start_time": "2023-06-30T11:47:56.594Z"
   },
   {
    "duration": 299,
    "start_time": "2023-06-30T11:47:57.042Z"
   },
   {
    "duration": 15,
    "start_time": "2023-06-30T11:47:57.344Z"
   },
   {
    "duration": 26,
    "start_time": "2023-06-30T11:47:57.361Z"
   },
   {
    "duration": 415,
    "start_time": "2023-06-30T11:47:57.392Z"
   },
   {
    "duration": 8,
    "start_time": "2023-06-30T11:47:57.815Z"
   },
   {
    "duration": 352,
    "start_time": "2023-06-30T11:47:57.827Z"
   },
   {
    "duration": 22,
    "start_time": "2023-06-30T11:47:58.185Z"
   },
   {
    "duration": 16,
    "start_time": "2023-06-30T11:47:58.209Z"
   },
   {
    "duration": 390,
    "start_time": "2023-06-30T11:47:58.229Z"
   },
   {
    "duration": 220,
    "start_time": "2023-06-30T11:47:58.625Z"
   },
   {
    "duration": 342,
    "start_time": "2023-06-30T11:47:58.848Z"
   },
   {
    "duration": 5,
    "start_time": "2023-06-30T11:47:59.192Z"
   },
   {
    "duration": 488,
    "start_time": "2023-06-30T11:47:59.200Z"
   },
   {
    "duration": 491,
    "start_time": "2023-06-30T11:47:59.697Z"
   },
   {
    "duration": 13,
    "start_time": "2023-06-30T11:48:00.190Z"
   },
   {
    "duration": 108,
    "start_time": "2023-06-30T11:48:00.205Z"
   },
   {
    "duration": 43,
    "start_time": "2023-06-30T11:48:00.314Z"
   },
   {
    "duration": 721,
    "start_time": "2023-06-30T11:48:00.368Z"
   },
   {
    "duration": 412,
    "start_time": "2023-06-30T11:48:01.091Z"
   },
   {
    "duration": 22,
    "start_time": "2023-06-30T11:48:01.505Z"
   },
   {
    "duration": 102,
    "start_time": "2023-06-30T11:48:01.530Z"
   },
   {
    "duration": 69,
    "start_time": "2023-06-30T11:48:01.636Z"
   },
   {
    "duration": 68,
    "start_time": "2023-06-30T11:48:01.708Z"
   },
   {
    "duration": 45,
    "start_time": "2023-06-30T11:48:01.786Z"
   },
   {
    "duration": 80,
    "start_time": "2023-06-30T11:48:01.833Z"
   },
   {
    "duration": 20,
    "start_time": "2023-06-30T11:48:01.915Z"
   },
   {
    "duration": 13,
    "start_time": "2023-06-30T11:49:30.373Z"
   },
   {
    "duration": 1688,
    "start_time": "2023-06-30T11:49:40.852Z"
   },
   {
    "duration": 211,
    "start_time": "2023-06-30T11:49:42.542Z"
   },
   {
    "duration": 183,
    "start_time": "2023-06-30T11:49:42.754Z"
   },
   {
    "duration": 199,
    "start_time": "2023-06-30T11:49:42.939Z"
   },
   {
    "duration": 11,
    "start_time": "2023-06-30T11:49:43.141Z"
   },
   {
    "duration": 16,
    "start_time": "2023-06-30T11:49:43.154Z"
   },
   {
    "duration": 16,
    "start_time": "2023-06-30T11:49:43.173Z"
   },
   {
    "duration": 20,
    "start_time": "2023-06-30T11:49:43.190Z"
   },
   {
    "duration": 20,
    "start_time": "2023-06-30T11:49:43.212Z"
   },
   {
    "duration": 17,
    "start_time": "2023-06-30T11:49:43.235Z"
   },
   {
    "duration": 32,
    "start_time": "2023-06-30T11:49:43.254Z"
   },
   {
    "duration": 24,
    "start_time": "2023-06-30T11:49:43.289Z"
   },
   {
    "duration": 10,
    "start_time": "2023-06-30T11:49:43.315Z"
   },
   {
    "duration": 17,
    "start_time": "2023-06-30T11:49:43.326Z"
   },
   {
    "duration": 11,
    "start_time": "2023-06-30T11:49:43.345Z"
   },
   {
    "duration": 11,
    "start_time": "2023-06-30T11:49:43.358Z"
   },
   {
    "duration": 22,
    "start_time": "2023-06-30T11:49:43.372Z"
   },
   {
    "duration": 13,
    "start_time": "2023-06-30T11:49:43.396Z"
   },
   {
    "duration": 12,
    "start_time": "2023-06-30T11:49:43.411Z"
   },
   {
    "duration": 17,
    "start_time": "2023-06-30T11:49:43.425Z"
   },
   {
    "duration": 29,
    "start_time": "2023-06-30T11:49:43.444Z"
   },
   {
    "duration": 19,
    "start_time": "2023-06-30T11:49:43.477Z"
   },
   {
    "duration": 35,
    "start_time": "2023-06-30T11:49:43.501Z"
   },
   {
    "duration": 21,
    "start_time": "2023-06-30T11:49:43.544Z"
   },
   {
    "duration": 29,
    "start_time": "2023-06-30T11:49:43.572Z"
   },
   {
    "duration": 8,
    "start_time": "2023-06-30T11:49:43.608Z"
   },
   {
    "duration": 34,
    "start_time": "2023-06-30T11:49:43.621Z"
   },
   {
    "duration": 15,
    "start_time": "2023-06-30T11:49:43.666Z"
   },
   {
    "duration": 40,
    "start_time": "2023-06-30T11:49:43.683Z"
   },
   {
    "duration": 15,
    "start_time": "2023-06-30T11:49:43.737Z"
   },
   {
    "duration": 24,
    "start_time": "2023-06-30T11:49:43.754Z"
   },
   {
    "duration": 324,
    "start_time": "2023-06-30T11:49:43.781Z"
   },
   {
    "duration": 183,
    "start_time": "2023-06-30T11:49:44.115Z"
   },
   {
    "duration": 16,
    "start_time": "2023-06-30T11:49:44.303Z"
   },
   {
    "duration": 21,
    "start_time": "2023-06-30T11:49:44.324Z"
   },
   {
    "duration": 465,
    "start_time": "2023-06-30T11:49:44.347Z"
   },
   {
    "duration": 321,
    "start_time": "2023-06-30T11:49:44.814Z"
   },
   {
    "duration": 14,
    "start_time": "2023-06-30T11:49:45.139Z"
   },
   {
    "duration": 34,
    "start_time": "2023-06-30T11:49:45.156Z"
   },
   {
    "duration": 405,
    "start_time": "2023-06-30T11:49:45.192Z"
   },
   {
    "duration": 7,
    "start_time": "2023-06-30T11:49:45.598Z"
   },
   {
    "duration": 343,
    "start_time": "2023-06-30T11:49:45.606Z"
   },
   {
    "duration": 20,
    "start_time": "2023-06-30T11:49:45.951Z"
   },
   {
    "duration": 11,
    "start_time": "2023-06-30T11:49:45.973Z"
   },
   {
    "duration": 383,
    "start_time": "2023-06-30T11:49:45.986Z"
   },
   {
    "duration": 260,
    "start_time": "2023-06-30T11:49:46.371Z"
   },
   {
    "duration": 301,
    "start_time": "2023-06-30T11:49:46.635Z"
   },
   {
    "duration": 5,
    "start_time": "2023-06-30T11:49:46.939Z"
   },
   {
    "duration": 262,
    "start_time": "2023-06-30T11:49:46.946Z"
   },
   {
    "duration": 225,
    "start_time": "2023-06-30T11:49:47.209Z"
   },
   {
    "duration": 7,
    "start_time": "2023-06-30T11:49:47.436Z"
   },
   {
    "duration": 11,
    "start_time": "2023-06-30T11:49:47.445Z"
   },
   {
    "duration": 42,
    "start_time": "2023-06-30T11:49:47.457Z"
   },
   {
    "duration": 403,
    "start_time": "2023-06-30T11:49:47.502Z"
   },
   {
    "duration": 181,
    "start_time": "2023-06-30T11:49:47.907Z"
   },
   {
    "duration": 8,
    "start_time": "2023-06-30T11:49:48.090Z"
   },
   {
    "duration": 50,
    "start_time": "2023-06-30T11:49:48.099Z"
   },
   {
    "duration": 26,
    "start_time": "2023-06-30T11:49:48.151Z"
   },
   {
    "duration": 21,
    "start_time": "2023-06-30T11:49:48.179Z"
   },
   {
    "duration": 17,
    "start_time": "2023-06-30T11:49:48.202Z"
   },
   {
    "duration": 29,
    "start_time": "2023-06-30T11:49:48.225Z"
   },
   {
    "duration": 30,
    "start_time": "2023-06-30T11:49:48.256Z"
   },
   {
    "duration": 173,
    "start_time": "2023-06-30T12:06:32.457Z"
   },
   {
    "duration": 304,
    "start_time": "2023-06-30T12:06:48.611Z"
   },
   {
    "duration": 589,
    "start_time": "2023-06-30T12:09:04.246Z"
   },
   {
    "duration": 366,
    "start_time": "2023-06-30T12:09:10.199Z"
   },
   {
    "duration": 234,
    "start_time": "2023-06-30T12:11:56.896Z"
   },
   {
    "duration": 274,
    "start_time": "2023-06-30T12:12:37.937Z"
   },
   {
    "duration": 278,
    "start_time": "2023-06-30T12:12:48.375Z"
   },
   {
    "duration": 289,
    "start_time": "2023-06-30T12:13:38.603Z"
   },
   {
    "duration": 338,
    "start_time": "2023-06-30T12:17:13.404Z"
   },
   {
    "duration": 284,
    "start_time": "2023-06-30T12:17:44.191Z"
   },
   {
    "duration": 278,
    "start_time": "2023-06-30T12:18:03.754Z"
   },
   {
    "duration": 295,
    "start_time": "2023-06-30T12:18:39.276Z"
   },
   {
    "duration": 399,
    "start_time": "2023-06-30T12:21:59.814Z"
   },
   {
    "duration": 400,
    "start_time": "2023-06-30T12:23:15.132Z"
   },
   {
    "duration": 322,
    "start_time": "2023-06-30T12:23:38.011Z"
   },
   {
    "duration": 360,
    "start_time": "2023-06-30T12:24:44.011Z"
   },
   {
    "duration": 361,
    "start_time": "2023-06-30T12:25:17.018Z"
   },
   {
    "duration": 5,
    "start_time": "2023-06-30T12:30:32.451Z"
   },
   {
    "duration": 5,
    "start_time": "2023-06-30T12:37:35.905Z"
   },
   {
    "duration": 176,
    "start_time": "2023-06-30T13:26:03.763Z"
   },
   {
    "duration": 15,
    "start_time": "2023-06-30T13:26:08.631Z"
   },
   {
    "duration": 22,
    "start_time": "2023-06-30T13:26:45.377Z"
   },
   {
    "duration": 16,
    "start_time": "2023-06-30T13:26:51.996Z"
   },
   {
    "duration": 36,
    "start_time": "2023-06-30T13:52:15.076Z"
   },
   {
    "duration": 7,
    "start_time": "2023-06-30T13:52:51.910Z"
   },
   {
    "duration": 5,
    "start_time": "2023-06-30T13:54:58.820Z"
   },
   {
    "duration": 13,
    "start_time": "2023-06-30T14:06:02.590Z"
   },
   {
    "duration": 8,
    "start_time": "2023-06-30T14:06:03.709Z"
   },
   {
    "duration": 4,
    "start_time": "2023-06-30T14:06:05.942Z"
   },
   {
    "duration": 13,
    "start_time": "2023-06-30T14:06:09.556Z"
   },
   {
    "duration": 5,
    "start_time": "2023-06-30T14:06:10.011Z"
   },
   {
    "duration": 1411,
    "start_time": "2023-06-30T14:06:18.616Z"
   },
   {
    "duration": 197,
    "start_time": "2023-06-30T14:06:20.029Z"
   },
   {
    "duration": 963,
    "start_time": "2023-06-30T14:06:20.228Z"
   },
   {
    "duration": 195,
    "start_time": "2023-06-30T14:06:21.196Z"
   },
   {
    "duration": 24,
    "start_time": "2023-06-30T14:06:21.397Z"
   },
   {
    "duration": 10,
    "start_time": "2023-06-30T14:06:21.423Z"
   },
   {
    "duration": 10,
    "start_time": "2023-06-30T14:06:21.435Z"
   },
   {
    "duration": 37,
    "start_time": "2023-06-30T14:06:21.446Z"
   },
   {
    "duration": 17,
    "start_time": "2023-06-30T14:06:21.488Z"
   },
   {
    "duration": 16,
    "start_time": "2023-06-30T14:06:21.509Z"
   },
   {
    "duration": 9,
    "start_time": "2023-06-30T14:06:21.528Z"
   },
   {
    "duration": 26,
    "start_time": "2023-06-30T14:06:21.539Z"
   },
   {
    "duration": 14,
    "start_time": "2023-06-30T14:06:21.567Z"
   },
   {
    "duration": 34,
    "start_time": "2023-06-30T14:06:21.583Z"
   },
   {
    "duration": 15,
    "start_time": "2023-06-30T14:06:21.619Z"
   },
   {
    "duration": 32,
    "start_time": "2023-06-30T14:06:21.635Z"
   },
   {
    "duration": 25,
    "start_time": "2023-06-30T14:06:21.669Z"
   },
   {
    "duration": 11,
    "start_time": "2023-06-30T14:06:21.696Z"
   },
   {
    "duration": 5,
    "start_time": "2023-06-30T14:06:21.709Z"
   },
   {
    "duration": 16,
    "start_time": "2023-06-30T14:06:21.716Z"
   },
   {
    "duration": 32,
    "start_time": "2023-06-30T14:06:21.733Z"
   },
   {
    "duration": 19,
    "start_time": "2023-06-30T14:06:21.766Z"
   },
   {
    "duration": 25,
    "start_time": "2023-06-30T14:06:21.787Z"
   },
   {
    "duration": 21,
    "start_time": "2023-06-30T14:06:21.815Z"
   },
   {
    "duration": 14,
    "start_time": "2023-06-30T14:06:21.839Z"
   },
   {
    "duration": 41,
    "start_time": "2023-06-30T14:06:21.855Z"
   },
   {
    "duration": 5,
    "start_time": "2023-06-30T14:06:21.901Z"
   },
   {
    "duration": 10,
    "start_time": "2023-06-30T14:06:21.913Z"
   },
   {
    "duration": 13,
    "start_time": "2023-06-30T14:06:21.925Z"
   },
   {
    "duration": 11,
    "start_time": "2023-06-30T14:06:21.940Z"
   },
   {
    "duration": 34,
    "start_time": "2023-06-30T14:06:21.952Z"
   },
   {
    "duration": 185,
    "start_time": "2023-06-30T14:06:21.988Z"
   },
   {
    "duration": 141,
    "start_time": "2023-06-30T14:06:22.179Z"
   },
   {
    "duration": 8,
    "start_time": "2023-06-30T14:06:22.322Z"
   },
   {
    "duration": 22,
    "start_time": "2023-06-30T14:06:22.332Z"
   },
   {
    "duration": 379,
    "start_time": "2023-06-30T14:06:22.356Z"
   },
   {
    "duration": 301,
    "start_time": "2023-06-30T14:06:22.737Z"
   },
   {
    "duration": 7,
    "start_time": "2023-06-30T14:06:23.040Z"
   },
   {
    "duration": 46,
    "start_time": "2023-06-30T14:06:23.048Z"
   },
   {
    "duration": 287,
    "start_time": "2023-06-30T14:06:23.096Z"
   },
   {
    "duration": 9,
    "start_time": "2023-06-30T14:06:23.384Z"
   },
   {
    "duration": 270,
    "start_time": "2023-06-30T14:06:23.397Z"
   },
   {
    "duration": 9,
    "start_time": "2023-06-30T14:06:23.669Z"
   },
   {
    "duration": 14,
    "start_time": "2023-06-30T14:06:23.682Z"
   },
   {
    "duration": 374,
    "start_time": "2023-06-30T14:06:23.698Z"
   },
   {
    "duration": 173,
    "start_time": "2023-06-30T14:06:24.076Z"
   },
   {
    "duration": 222,
    "start_time": "2023-06-30T14:06:24.252Z"
   },
   {
    "duration": 6,
    "start_time": "2023-06-30T14:06:24.476Z"
   },
   {
    "duration": 211,
    "start_time": "2023-06-30T14:06:24.484Z"
   },
   {
    "duration": 204,
    "start_time": "2023-06-30T14:06:24.697Z"
   },
   {
    "duration": 7,
    "start_time": "2023-06-30T14:06:24.907Z"
   },
   {
    "duration": 22,
    "start_time": "2023-06-30T14:06:24.920Z"
   },
   {
    "duration": 30,
    "start_time": "2023-06-30T14:06:24.944Z"
   },
   {
    "duration": 421,
    "start_time": "2023-06-30T14:06:24.976Z"
   },
   {
    "duration": 143,
    "start_time": "2023-06-30T14:06:25.399Z"
   },
   {
    "duration": 6,
    "start_time": "2023-06-30T14:06:25.544Z"
   },
   {
    "duration": 53,
    "start_time": "2023-06-30T14:06:25.552Z"
   },
   {
    "duration": 13,
    "start_time": "2023-06-30T14:06:25.606Z"
   },
   {
    "duration": 11,
    "start_time": "2023-06-30T14:06:25.621Z"
   },
   {
    "duration": 24,
    "start_time": "2023-06-30T14:06:25.633Z"
   },
   {
    "duration": 88,
    "start_time": "2023-06-30T14:06:25.658Z"
   },
   {
    "duration": 21,
    "start_time": "2023-06-30T14:06:25.748Z"
   },
   {
    "duration": 5,
    "start_time": "2023-06-30T14:08:01.832Z"
   },
   {
    "duration": 6,
    "start_time": "2023-06-30T14:08:30.518Z"
   },
   {
    "duration": 5,
    "start_time": "2023-06-30T14:10:58.648Z"
   },
   {
    "duration": 65,
    "start_time": "2023-06-30T14:11:05.757Z"
   },
   {
    "duration": 55,
    "start_time": "2023-06-30T14:11:15.800Z"
   },
   {
    "duration": 1374,
    "start_time": "2023-06-30T14:12:04.845Z"
   },
   {
    "duration": 124,
    "start_time": "2023-06-30T14:12:06.221Z"
   },
   {
    "duration": 174,
    "start_time": "2023-06-30T14:12:06.347Z"
   },
   {
    "duration": 113,
    "start_time": "2023-06-30T14:12:06.524Z"
   },
   {
    "duration": 14,
    "start_time": "2023-06-30T14:12:06.639Z"
   },
   {
    "duration": 46,
    "start_time": "2023-06-30T14:12:06.655Z"
   },
   {
    "duration": 22,
    "start_time": "2023-06-30T14:12:06.702Z"
   },
   {
    "duration": 66,
    "start_time": "2023-06-30T14:12:06.726Z"
   },
   {
    "duration": 18,
    "start_time": "2023-06-30T14:12:06.794Z"
   },
   {
    "duration": 78,
    "start_time": "2023-06-30T14:12:06.815Z"
   },
   {
    "duration": 79,
    "start_time": "2023-06-30T14:12:06.896Z"
   },
   {
    "duration": 43,
    "start_time": "2023-06-30T14:12:06.977Z"
   },
   {
    "duration": 56,
    "start_time": "2023-06-30T14:12:07.023Z"
   },
   {
    "duration": 16,
    "start_time": "2023-06-30T14:12:07.088Z"
   },
   {
    "duration": 26,
    "start_time": "2023-06-30T14:12:07.106Z"
   },
   {
    "duration": 12,
    "start_time": "2023-06-30T14:12:07.134Z"
   },
   {
    "duration": 145,
    "start_time": "2023-06-30T14:12:07.148Z"
   },
   {
    "duration": 23,
    "start_time": "2023-06-30T14:12:07.294Z"
   },
   {
    "duration": 25,
    "start_time": "2023-06-30T14:12:07.319Z"
   },
   {
    "duration": 48,
    "start_time": "2023-06-30T14:12:07.346Z"
   },
   {
    "duration": 19,
    "start_time": "2023-06-30T14:12:07.395Z"
   },
   {
    "duration": 19,
    "start_time": "2023-06-30T14:12:07.415Z"
   },
   {
    "duration": 71,
    "start_time": "2023-06-30T14:12:07.436Z"
   },
   {
    "duration": 13,
    "start_time": "2023-06-30T14:12:07.509Z"
   },
   {
    "duration": 12,
    "start_time": "2023-06-30T14:12:07.524Z"
   },
   {
    "duration": 20,
    "start_time": "2023-06-30T14:12:07.537Z"
   },
   {
    "duration": 43,
    "start_time": "2023-06-30T14:12:07.558Z"
   },
   {
    "duration": 26,
    "start_time": "2023-06-30T14:12:07.606Z"
   },
   {
    "duration": 99,
    "start_time": "2023-06-30T14:12:07.634Z"
   },
   {
    "duration": 8,
    "start_time": "2023-06-30T14:12:07.734Z"
   },
   {
    "duration": 40,
    "start_time": "2023-06-30T14:12:07.744Z"
   },
   {
    "duration": 27,
    "start_time": "2023-06-30T14:12:07.787Z"
   },
   {
    "duration": 23,
    "start_time": "2023-06-30T14:12:07.816Z"
   },
   {
    "duration": 189,
    "start_time": "2023-06-30T14:12:07.841Z"
   },
   {
    "duration": 166,
    "start_time": "2023-06-30T14:12:08.032Z"
   },
   {
    "duration": 7,
    "start_time": "2023-06-30T14:12:08.200Z"
   },
   {
    "duration": 18,
    "start_time": "2023-06-30T14:12:08.208Z"
   },
   {
    "duration": 321,
    "start_time": "2023-06-30T14:12:08.228Z"
   },
   {
    "duration": 249,
    "start_time": "2023-06-30T14:12:08.552Z"
   },
   {
    "duration": 7,
    "start_time": "2023-06-30T14:12:08.803Z"
   },
   {
    "duration": 18,
    "start_time": "2023-06-30T14:12:08.812Z"
   },
   {
    "duration": 375,
    "start_time": "2023-06-30T14:12:08.832Z"
   },
   {
    "duration": 10,
    "start_time": "2023-06-30T14:12:09.209Z"
   },
   {
    "duration": 316,
    "start_time": "2023-06-30T14:12:09.229Z"
   },
   {
    "duration": 16,
    "start_time": "2023-06-30T14:12:09.546Z"
   },
   {
    "duration": 10,
    "start_time": "2023-06-30T14:12:09.568Z"
   },
   {
    "duration": 314,
    "start_time": "2023-06-30T14:12:09.581Z"
   },
   {
    "duration": 141,
    "start_time": "2023-06-30T14:12:09.900Z"
   },
   {
    "duration": 208,
    "start_time": "2023-06-30T14:12:10.043Z"
   },
   {
    "duration": 16,
    "start_time": "2023-06-30T14:12:10.253Z"
   },
   {
    "duration": 168,
    "start_time": "2023-06-30T14:12:10.275Z"
   },
   {
    "duration": 190,
    "start_time": "2023-06-30T14:12:10.444Z"
   },
   {
    "duration": 8,
    "start_time": "2023-06-30T14:12:10.636Z"
   },
   {
    "duration": 23,
    "start_time": "2023-06-30T14:12:10.645Z"
   },
   {
    "duration": 18,
    "start_time": "2023-06-30T14:12:10.670Z"
   },
   {
    "duration": 346,
    "start_time": "2023-06-30T14:12:10.704Z"
   },
   {
    "duration": 151,
    "start_time": "2023-06-30T14:12:11.052Z"
   },
   {
    "duration": 10,
    "start_time": "2023-06-30T14:12:11.205Z"
   },
   {
    "duration": 35,
    "start_time": "2023-06-30T14:12:11.217Z"
   },
   {
    "duration": 14,
    "start_time": "2023-06-30T14:12:11.255Z"
   },
   {
    "duration": 32,
    "start_time": "2023-06-30T14:12:11.271Z"
   },
   {
    "duration": 10,
    "start_time": "2023-06-30T14:12:11.305Z"
   },
   {
    "duration": 33,
    "start_time": "2023-06-30T14:12:11.317Z"
   },
   {
    "duration": 25,
    "start_time": "2023-06-30T14:12:11.352Z"
   },
   {
    "duration": 74,
    "start_time": "2023-06-30T14:15:00.112Z"
   },
   {
    "duration": 1249,
    "start_time": "2023-06-30T14:15:25.913Z"
   },
   {
    "duration": 155,
    "start_time": "2023-06-30T14:15:27.164Z"
   },
   {
    "duration": 98,
    "start_time": "2023-06-30T14:15:27.321Z"
   },
   {
    "duration": 118,
    "start_time": "2023-06-30T14:15:27.421Z"
   },
   {
    "duration": 13,
    "start_time": "2023-06-30T14:15:27.540Z"
   },
   {
    "duration": 42,
    "start_time": "2023-06-30T14:15:27.555Z"
   },
   {
    "duration": 12,
    "start_time": "2023-06-30T14:15:27.599Z"
   },
   {
    "duration": 21,
    "start_time": "2023-06-30T14:15:27.614Z"
   },
   {
    "duration": 18,
    "start_time": "2023-06-30T14:15:27.636Z"
   },
   {
    "duration": 22,
    "start_time": "2023-06-30T14:15:27.657Z"
   },
   {
    "duration": 9,
    "start_time": "2023-06-30T14:15:27.684Z"
   },
   {
    "duration": 26,
    "start_time": "2023-06-30T14:15:27.695Z"
   },
   {
    "duration": 31,
    "start_time": "2023-06-30T14:15:27.723Z"
   },
   {
    "duration": 23,
    "start_time": "2023-06-30T14:15:27.756Z"
   },
   {
    "duration": 20,
    "start_time": "2023-06-30T14:15:27.781Z"
   },
   {
    "duration": 26,
    "start_time": "2023-06-30T14:15:27.804Z"
   },
   {
    "duration": 18,
    "start_time": "2023-06-30T14:15:27.832Z"
   },
   {
    "duration": 40,
    "start_time": "2023-06-30T14:15:27.852Z"
   },
   {
    "duration": 7,
    "start_time": "2023-06-30T14:15:27.894Z"
   },
   {
    "duration": 16,
    "start_time": "2023-06-30T14:15:27.903Z"
   },
   {
    "duration": 65,
    "start_time": "2023-06-30T14:15:27.921Z"
   },
   {
    "duration": 28,
    "start_time": "2023-06-30T14:15:27.988Z"
   },
   {
    "duration": 24,
    "start_time": "2023-06-30T14:15:28.018Z"
   },
   {
    "duration": 54,
    "start_time": "2023-06-30T14:15:28.044Z"
   },
   {
    "duration": 10,
    "start_time": "2023-06-30T14:15:28.100Z"
   },
   {
    "duration": 25,
    "start_time": "2023-06-30T14:15:28.112Z"
   },
   {
    "duration": 54,
    "start_time": "2023-06-30T14:15:28.139Z"
   },
   {
    "duration": 40,
    "start_time": "2023-06-30T14:15:28.197Z"
   },
   {
    "duration": 77,
    "start_time": "2023-06-30T14:15:28.239Z"
   },
   {
    "duration": 65,
    "start_time": "2023-06-30T14:15:28.318Z"
   },
   {
    "duration": 15,
    "start_time": "2023-06-30T14:15:28.384Z"
   },
   {
    "duration": 22,
    "start_time": "2023-06-30T14:15:28.401Z"
   },
   {
    "duration": 20,
    "start_time": "2023-06-30T14:15:28.424Z"
   },
   {
    "duration": 180,
    "start_time": "2023-06-30T14:15:28.446Z"
   },
   {
    "duration": 144,
    "start_time": "2023-06-30T14:15:28.628Z"
   },
   {
    "duration": 17,
    "start_time": "2023-06-30T14:15:28.774Z"
   },
   {
    "duration": 24,
    "start_time": "2023-06-30T14:15:28.793Z"
   },
   {
    "duration": 361,
    "start_time": "2023-06-30T14:15:28.819Z"
   },
   {
    "duration": 253,
    "start_time": "2023-06-30T14:15:29.181Z"
   },
   {
    "duration": 7,
    "start_time": "2023-06-30T14:15:29.435Z"
   },
   {
    "duration": 37,
    "start_time": "2023-06-30T14:15:29.444Z"
   },
   {
    "duration": 329,
    "start_time": "2023-06-30T14:15:29.486Z"
   },
   {
    "duration": 6,
    "start_time": "2023-06-30T14:15:29.817Z"
   },
   {
    "duration": 269,
    "start_time": "2023-06-30T14:15:29.825Z"
   },
   {
    "duration": 7,
    "start_time": "2023-06-30T14:15:30.101Z"
   },
   {
    "duration": 35,
    "start_time": "2023-06-30T14:15:30.110Z"
   },
   {
    "duration": 355,
    "start_time": "2023-06-30T14:15:30.147Z"
   },
   {
    "duration": 134,
    "start_time": "2023-06-30T14:15:30.504Z"
   },
   {
    "duration": 261,
    "start_time": "2023-06-30T14:15:30.640Z"
   },
   {
    "duration": 4,
    "start_time": "2023-06-30T14:15:30.903Z"
   },
   {
    "duration": 231,
    "start_time": "2023-06-30T14:15:30.909Z"
   },
   {
    "duration": 206,
    "start_time": "2023-06-30T14:15:31.141Z"
   },
   {
    "duration": 9,
    "start_time": "2023-06-30T14:15:31.358Z"
   },
   {
    "duration": 113,
    "start_time": "2023-06-30T14:15:31.376Z"
   },
   {
    "duration": 96,
    "start_time": "2023-06-30T14:15:31.493Z"
   },
   {
    "duration": 360,
    "start_time": "2023-06-30T14:15:31.595Z"
   },
   {
    "duration": 178,
    "start_time": "2023-06-30T14:15:31.968Z"
   },
   {
    "duration": 7,
    "start_time": "2023-06-30T14:15:32.148Z"
   },
   {
    "duration": 48,
    "start_time": "2023-06-30T14:15:32.161Z"
   },
   {
    "duration": 31,
    "start_time": "2023-06-30T14:15:32.211Z"
   },
   {
    "duration": 44,
    "start_time": "2023-06-30T14:15:32.244Z"
   },
   {
    "duration": 28,
    "start_time": "2023-06-30T14:15:32.291Z"
   },
   {
    "duration": 47,
    "start_time": "2023-06-30T14:15:32.321Z"
   },
   {
    "duration": 23,
    "start_time": "2023-06-30T14:15:32.371Z"
   },
   {
    "duration": 12,
    "start_time": "2023-06-30T14:19:11.863Z"
   },
   {
    "duration": 5,
    "start_time": "2023-06-30T14:19:57.111Z"
   },
   {
    "duration": 136,
    "start_time": "2023-06-30T14:20:19.203Z"
   },
   {
    "duration": 5,
    "start_time": "2023-06-30T14:20:23.009Z"
   },
   {
    "duration": 1399,
    "start_time": "2023-06-30T14:20:33.205Z"
   },
   {
    "duration": 114,
    "start_time": "2023-06-30T14:20:34.606Z"
   },
   {
    "duration": 413,
    "start_time": "2023-06-30T14:20:34.722Z"
   },
   {
    "duration": 114,
    "start_time": "2023-06-30T14:20:35.138Z"
   },
   {
    "duration": 19,
    "start_time": "2023-06-30T14:20:35.254Z"
   },
   {
    "duration": 23,
    "start_time": "2023-06-30T14:20:35.278Z"
   },
   {
    "duration": 30,
    "start_time": "2023-06-30T14:20:35.302Z"
   },
   {
    "duration": 168,
    "start_time": "2023-06-30T14:20:35.333Z"
   },
   {
    "duration": 37,
    "start_time": "2023-06-30T14:20:35.503Z"
   },
   {
    "duration": 50,
    "start_time": "2023-06-30T14:20:35.543Z"
   },
   {
    "duration": 11,
    "start_time": "2023-06-30T14:20:35.595Z"
   },
   {
    "duration": 47,
    "start_time": "2023-06-30T14:20:35.608Z"
   },
   {
    "duration": 46,
    "start_time": "2023-06-30T14:20:35.658Z"
   },
   {
    "duration": 63,
    "start_time": "2023-06-30T14:20:35.706Z"
   },
   {
    "duration": 30,
    "start_time": "2023-06-30T14:20:35.771Z"
   },
   {
    "duration": 39,
    "start_time": "2023-06-30T14:20:35.802Z"
   },
   {
    "duration": 45,
    "start_time": "2023-06-30T14:20:35.843Z"
   },
   {
    "duration": 27,
    "start_time": "2023-06-30T14:20:35.892Z"
   },
   {
    "duration": 23,
    "start_time": "2023-06-30T14:20:35.921Z"
   },
   {
    "duration": 45,
    "start_time": "2023-06-30T14:20:35.946Z"
   },
   {
    "duration": 26,
    "start_time": "2023-06-30T14:20:35.992Z"
   },
   {
    "duration": 17,
    "start_time": "2023-06-30T14:20:36.020Z"
   },
   {
    "duration": 45,
    "start_time": "2023-06-30T14:20:36.039Z"
   },
   {
    "duration": 21,
    "start_time": "2023-06-30T14:20:36.087Z"
   },
   {
    "duration": 24,
    "start_time": "2023-06-30T14:20:36.110Z"
   },
   {
    "duration": 37,
    "start_time": "2023-06-30T14:20:36.136Z"
   },
   {
    "duration": 16,
    "start_time": "2023-06-30T14:20:36.182Z"
   },
   {
    "duration": 19,
    "start_time": "2023-06-30T14:20:36.202Z"
   },
   {
    "duration": 130,
    "start_time": "2023-06-30T14:20:36.222Z"
   },
   {
    "duration": 63,
    "start_time": "2023-06-30T14:20:36.354Z"
   },
   {
    "duration": 4,
    "start_time": "2023-06-30T14:20:36.419Z"
   },
   {
    "duration": 8,
    "start_time": "2023-06-30T14:20:36.425Z"
   },
   {
    "duration": 30,
    "start_time": "2023-06-30T14:20:36.435Z"
   },
   {
    "duration": 10,
    "start_time": "2023-06-30T14:20:36.466Z"
   },
   {
    "duration": 173,
    "start_time": "2023-06-30T14:20:36.481Z"
   },
   {
    "duration": 141,
    "start_time": "2023-06-30T14:20:36.656Z"
   },
   {
    "duration": 7,
    "start_time": "2023-06-30T14:20:36.798Z"
   },
   {
    "duration": 31,
    "start_time": "2023-06-30T14:20:36.807Z"
   },
   {
    "duration": 339,
    "start_time": "2023-06-30T14:20:36.840Z"
   },
   {
    "duration": 241,
    "start_time": "2023-06-30T14:20:37.183Z"
   },
   {
    "duration": 7,
    "start_time": "2023-06-30T14:20:37.425Z"
   },
   {
    "duration": 22,
    "start_time": "2023-06-30T14:20:37.434Z"
   },
   {
    "duration": 344,
    "start_time": "2023-06-30T14:20:37.458Z"
   },
   {
    "duration": 7,
    "start_time": "2023-06-30T14:20:37.804Z"
   },
   {
    "duration": 421,
    "start_time": "2023-06-30T14:20:37.813Z"
   },
   {
    "duration": 7,
    "start_time": "2023-06-30T14:20:38.236Z"
   },
   {
    "duration": 47,
    "start_time": "2023-06-30T14:20:38.261Z"
   },
   {
    "duration": 376,
    "start_time": "2023-06-30T14:20:38.311Z"
   },
   {
    "duration": 151,
    "start_time": "2023-06-30T14:20:38.689Z"
   },
   {
    "duration": 268,
    "start_time": "2023-06-30T14:20:38.843Z"
   },
   {
    "duration": 5,
    "start_time": "2023-06-30T14:20:39.113Z"
   },
   {
    "duration": 230,
    "start_time": "2023-06-30T14:20:39.119Z"
   },
   {
    "duration": 206,
    "start_time": "2023-06-30T14:20:39.351Z"
   },
   {
    "duration": 7,
    "start_time": "2023-06-30T14:20:39.566Z"
   },
   {
    "duration": 16,
    "start_time": "2023-06-30T14:20:39.580Z"
   },
   {
    "duration": 9,
    "start_time": "2023-06-30T14:20:39.601Z"
   },
   {
    "duration": 358,
    "start_time": "2023-06-30T14:20:39.612Z"
   },
   {
    "duration": 138,
    "start_time": "2023-06-30T14:20:39.972Z"
   },
   {
    "duration": 6,
    "start_time": "2023-06-30T14:20:40.112Z"
   },
   {
    "duration": 137,
    "start_time": "2023-06-30T14:20:40.120Z"
   },
   {
    "duration": 50,
    "start_time": "2023-06-30T14:20:40.261Z"
   },
   {
    "duration": 219,
    "start_time": "2023-06-30T14:20:40.312Z"
   },
   {
    "duration": 19,
    "start_time": "2023-06-30T14:20:40.533Z"
   },
   {
    "duration": 42,
    "start_time": "2023-06-30T14:20:40.554Z"
   },
   {
    "duration": 60,
    "start_time": "2023-06-30T14:20:40.598Z"
   },
   {
    "duration": 81,
    "start_time": "2023-06-30T14:21:07.232Z"
   },
   {
    "duration": 1295,
    "start_time": "2023-06-30T14:21:57.796Z"
   },
   {
    "duration": 122,
    "start_time": "2023-06-30T14:21:59.094Z"
   },
   {
    "duration": 124,
    "start_time": "2023-06-30T14:21:59.218Z"
   },
   {
    "duration": 123,
    "start_time": "2023-06-30T14:21:59.345Z"
   },
   {
    "duration": 18,
    "start_time": "2023-06-30T14:21:59.473Z"
   },
   {
    "duration": 44,
    "start_time": "2023-06-30T14:21:59.493Z"
   },
   {
    "duration": 121,
    "start_time": "2023-06-30T14:21:59.539Z"
   },
   {
    "duration": 50,
    "start_time": "2023-06-30T14:21:59.669Z"
   },
   {
    "duration": 19,
    "start_time": "2023-06-30T14:21:59.721Z"
   },
   {
    "duration": 37,
    "start_time": "2023-06-30T14:21:59.743Z"
   },
   {
    "duration": 25,
    "start_time": "2023-06-30T14:21:59.784Z"
   },
   {
    "duration": 41,
    "start_time": "2023-06-30T14:21:59.811Z"
   },
   {
    "duration": 36,
    "start_time": "2023-06-30T14:21:59.853Z"
   },
   {
    "duration": 41,
    "start_time": "2023-06-30T14:21:59.891Z"
   },
   {
    "duration": 16,
    "start_time": "2023-06-30T14:21:59.933Z"
   },
   {
    "duration": 11,
    "start_time": "2023-06-30T14:21:59.951Z"
   },
   {
    "duration": 19,
    "start_time": "2023-06-30T14:21:59.972Z"
   },
   {
    "duration": 63,
    "start_time": "2023-06-30T14:21:59.993Z"
   },
   {
    "duration": 59,
    "start_time": "2023-06-30T14:22:00.058Z"
   },
   {
    "duration": 50,
    "start_time": "2023-06-30T14:22:00.119Z"
   },
   {
    "duration": 127,
    "start_time": "2023-06-30T14:22:00.171Z"
   },
   {
    "duration": 100,
    "start_time": "2023-06-30T14:22:00.299Z"
   },
   {
    "duration": 139,
    "start_time": "2023-06-30T14:22:00.401Z"
   },
   {
    "duration": 335,
    "start_time": "2023-06-30T14:22:00.542Z"
   },
   {
    "duration": 54,
    "start_time": "2023-06-30T14:22:00.881Z"
   },
   {
    "duration": 42,
    "start_time": "2023-06-30T14:22:00.937Z"
   },
   {
    "duration": 69,
    "start_time": "2023-06-30T14:22:00.981Z"
   },
   {
    "duration": 216,
    "start_time": "2023-06-30T14:22:01.054Z"
   },
   {
    "duration": 123,
    "start_time": "2023-06-30T14:22:01.273Z"
   },
   {
    "duration": 83,
    "start_time": "2023-06-30T14:22:01.397Z"
   },
   {
    "duration": 147,
    "start_time": "2023-06-30T14:22:01.489Z"
   },
   {
    "duration": 285,
    "start_time": "2023-06-30T14:22:01.638Z"
   },
   {
    "duration": 79,
    "start_time": "2023-06-30T14:22:01.925Z"
   },
   {
    "duration": 290,
    "start_time": "2023-06-30T14:22:02.006Z"
   },
   {
    "duration": 157,
    "start_time": "2023-06-30T14:22:02.298Z"
   },
   {
    "duration": 10,
    "start_time": "2023-06-30T14:22:02.457Z"
   },
   {
    "duration": 22,
    "start_time": "2023-06-30T14:22:02.469Z"
   },
   {
    "duration": 373,
    "start_time": "2023-06-30T14:22:02.497Z"
   },
   {
    "duration": 245,
    "start_time": "2023-06-30T14:22:02.880Z"
   },
   {
    "duration": 6,
    "start_time": "2023-06-30T14:22:03.127Z"
   },
   {
    "duration": 30,
    "start_time": "2023-06-30T14:22:03.135Z"
   },
   {
    "duration": 335,
    "start_time": "2023-06-30T14:22:03.172Z"
   },
   {
    "duration": 7,
    "start_time": "2023-06-30T14:22:03.509Z"
   },
   {
    "duration": 315,
    "start_time": "2023-06-30T14:22:03.518Z"
   },
   {
    "duration": 6,
    "start_time": "2023-06-30T14:22:03.835Z"
   },
   {
    "duration": 46,
    "start_time": "2023-06-30T14:22:03.843Z"
   },
   {
    "duration": 339,
    "start_time": "2023-06-30T14:22:03.891Z"
   },
   {
    "duration": 208,
    "start_time": "2023-06-30T14:22:04.233Z"
   },
   {
    "duration": 206,
    "start_time": "2023-06-30T14:22:04.443Z"
   },
   {
    "duration": 13,
    "start_time": "2023-06-30T14:22:04.650Z"
   },
   {
    "duration": 309,
    "start_time": "2023-06-30T14:22:04.671Z"
   },
   {
    "duration": 189,
    "start_time": "2023-06-30T14:22:04.991Z"
   },
   {
    "duration": 6,
    "start_time": "2023-06-30T14:22:05.190Z"
   },
   {
    "duration": 74,
    "start_time": "2023-06-30T14:22:05.197Z"
   },
   {
    "duration": 38,
    "start_time": "2023-06-30T14:22:05.275Z"
   },
   {
    "duration": 377,
    "start_time": "2023-06-30T14:22:05.316Z"
   },
   {
    "duration": 158,
    "start_time": "2023-06-30T14:22:05.695Z"
   },
   {
    "duration": 11,
    "start_time": "2023-06-30T14:22:05.855Z"
   },
   {
    "duration": 42,
    "start_time": "2023-06-30T14:22:05.872Z"
   },
   {
    "duration": 12,
    "start_time": "2023-06-30T14:22:05.915Z"
   },
   {
    "duration": 27,
    "start_time": "2023-06-30T14:22:05.929Z"
   },
   {
    "duration": 62,
    "start_time": "2023-06-30T14:22:05.958Z"
   },
   {
    "duration": 60,
    "start_time": "2023-06-30T14:22:06.022Z"
   },
   {
    "duration": 50,
    "start_time": "2023-06-30T14:22:06.084Z"
   },
   {
    "duration": 15,
    "start_time": "2023-06-30T14:23:51.219Z"
   },
   {
    "duration": 20,
    "start_time": "2023-06-30T14:25:16.864Z"
   },
   {
    "duration": 1297,
    "start_time": "2023-06-30T14:25:52.227Z"
   },
   {
    "duration": 120,
    "start_time": "2023-06-30T14:25:53.527Z"
   },
   {
    "duration": 150,
    "start_time": "2023-06-30T14:25:53.649Z"
   },
   {
    "duration": 310,
    "start_time": "2023-06-30T14:25:53.801Z"
   },
   {
    "duration": 182,
    "start_time": "2023-06-30T14:25:54.114Z"
   },
   {
    "duration": 80,
    "start_time": "2023-06-30T14:25:54.298Z"
   },
   {
    "duration": 43,
    "start_time": "2023-06-30T14:25:54.384Z"
   },
   {
    "duration": 43,
    "start_time": "2023-06-30T14:25:54.430Z"
   },
   {
    "duration": 36,
    "start_time": "2023-06-30T14:25:54.476Z"
   },
   {
    "duration": 32,
    "start_time": "2023-06-30T14:25:54.513Z"
   },
   {
    "duration": 66,
    "start_time": "2023-06-30T14:25:54.547Z"
   },
   {
    "duration": 37,
    "start_time": "2023-06-30T14:25:54.615Z"
   },
   {
    "duration": 66,
    "start_time": "2023-06-30T14:25:54.653Z"
   },
   {
    "duration": 50,
    "start_time": "2023-06-30T14:25:54.722Z"
   },
   {
    "duration": 38,
    "start_time": "2023-06-30T14:25:54.773Z"
   },
   {
    "duration": 22,
    "start_time": "2023-06-30T14:25:54.813Z"
   },
   {
    "duration": 16,
    "start_time": "2023-06-30T14:25:54.837Z"
   },
   {
    "duration": 34,
    "start_time": "2023-06-30T14:25:54.855Z"
   },
   {
    "duration": 13,
    "start_time": "2023-06-30T14:25:54.891Z"
   },
   {
    "duration": 30,
    "start_time": "2023-06-30T14:25:54.905Z"
   },
   {
    "duration": 46,
    "start_time": "2023-06-30T14:25:54.937Z"
   },
   {
    "duration": 7,
    "start_time": "2023-06-30T14:25:54.984Z"
   },
   {
    "duration": 40,
    "start_time": "2023-06-30T14:25:54.993Z"
   },
   {
    "duration": 41,
    "start_time": "2023-06-30T14:25:55.034Z"
   },
   {
    "duration": 19,
    "start_time": "2023-06-30T14:25:55.077Z"
   },
   {
    "duration": 16,
    "start_time": "2023-06-30T14:25:55.097Z"
   },
   {
    "duration": 15,
    "start_time": "2023-06-30T14:25:55.114Z"
   },
   {
    "duration": 21,
    "start_time": "2023-06-30T14:25:55.131Z"
   },
   {
    "duration": 13,
    "start_time": "2023-06-30T14:25:55.153Z"
   },
   {
    "duration": 109,
    "start_time": "2023-06-30T14:25:55.168Z"
   },
   {
    "duration": 70,
    "start_time": "2023-06-30T14:25:55.282Z"
   },
   {
    "duration": 14,
    "start_time": "2023-06-30T14:25:55.353Z"
   },
   {
    "duration": 74,
    "start_time": "2023-06-30T14:25:55.371Z"
   },
   {
    "duration": 115,
    "start_time": "2023-06-30T14:25:55.447Z"
   },
   {
    "duration": 84,
    "start_time": "2023-06-30T14:25:55.566Z"
   },
   {
    "duration": 426,
    "start_time": "2023-06-30T14:25:55.652Z"
   },
   {
    "duration": 134,
    "start_time": "2023-06-30T14:25:56.089Z"
   },
   {
    "duration": 63,
    "start_time": "2023-06-30T14:25:56.225Z"
   },
   {
    "duration": 28,
    "start_time": "2023-06-30T14:25:56.290Z"
   },
   {
    "duration": 356,
    "start_time": "2023-06-30T14:25:56.319Z"
   },
   {
    "duration": 246,
    "start_time": "2023-06-30T14:25:56.684Z"
   },
   {
    "duration": 6,
    "start_time": "2023-06-30T14:25:56.932Z"
   },
   {
    "duration": 43,
    "start_time": "2023-06-30T14:25:56.940Z"
   },
   {
    "duration": 318,
    "start_time": "2023-06-30T14:25:56.986Z"
   },
   {
    "duration": 6,
    "start_time": "2023-06-30T14:25:57.306Z"
   },
   {
    "duration": 299,
    "start_time": "2023-06-30T14:25:57.313Z"
   },
   {
    "duration": 6,
    "start_time": "2023-06-30T14:25:57.614Z"
   },
   {
    "duration": 34,
    "start_time": "2023-06-30T14:25:57.622Z"
   },
   {
    "duration": 354,
    "start_time": "2023-06-30T14:25:57.660Z"
   },
   {
    "duration": 281,
    "start_time": "2023-06-30T14:25:58.017Z"
   },
   {
    "duration": 567,
    "start_time": "2023-06-30T14:25:58.301Z"
   },
   {
    "duration": 6,
    "start_time": "2023-06-30T14:25:58.874Z"
   },
   {
    "duration": 407,
    "start_time": "2023-06-30T14:25:58.882Z"
   },
   {
    "duration": 504,
    "start_time": "2023-06-30T14:25:59.293Z"
   },
   {
    "duration": 5,
    "start_time": "2023-06-30T14:25:59.799Z"
   },
   {
    "duration": 62,
    "start_time": "2023-06-30T14:25:59.806Z"
   },
   {
    "duration": 24,
    "start_time": "2023-06-30T14:25:59.872Z"
   },
   {
    "duration": 722,
    "start_time": "2023-06-30T14:25:59.899Z"
   },
   {
    "duration": 155,
    "start_time": "2023-06-30T14:26:00.623Z"
   },
   {
    "duration": 7,
    "start_time": "2023-06-30T14:26:00.780Z"
   },
   {
    "duration": 60,
    "start_time": "2023-06-30T14:26:00.791Z"
   },
   {
    "duration": 46,
    "start_time": "2023-06-30T14:26:00.854Z"
   },
   {
    "duration": 71,
    "start_time": "2023-06-30T14:26:00.902Z"
   },
   {
    "duration": 208,
    "start_time": "2023-06-30T14:26:00.975Z"
   },
   {
    "duration": 252,
    "start_time": "2023-06-30T14:26:01.185Z"
   },
   {
    "duration": 288,
    "start_time": "2023-06-30T14:26:01.439Z"
   },
   {
    "duration": 14,
    "start_time": "2023-06-30T14:28:58.512Z"
   },
   {
    "duration": 10,
    "start_time": "2023-06-30T14:29:13.144Z"
   },
   {
    "duration": 1378,
    "start_time": "2023-06-30T14:31:27.245Z"
   },
   {
    "duration": 130,
    "start_time": "2023-06-30T14:31:28.625Z"
   },
   {
    "duration": 106,
    "start_time": "2023-06-30T14:31:28.757Z"
   },
   {
    "duration": 137,
    "start_time": "2023-06-30T14:31:28.865Z"
   },
   {
    "duration": 14,
    "start_time": "2023-06-30T14:31:29.005Z"
   },
   {
    "duration": 14,
    "start_time": "2023-06-30T14:31:29.020Z"
   },
   {
    "duration": 17,
    "start_time": "2023-06-30T14:31:29.036Z"
   },
   {
    "duration": 35,
    "start_time": "2023-06-30T14:31:29.055Z"
   },
   {
    "duration": 22,
    "start_time": "2023-06-30T14:31:29.092Z"
   },
   {
    "duration": 33,
    "start_time": "2023-06-30T14:31:29.116Z"
   },
   {
    "duration": 5,
    "start_time": "2023-06-30T14:31:29.151Z"
   },
   {
    "duration": 19,
    "start_time": "2023-06-30T14:31:29.158Z"
   },
   {
    "duration": 11,
    "start_time": "2023-06-30T14:31:29.179Z"
   },
   {
    "duration": 11,
    "start_time": "2023-06-30T14:31:29.193Z"
   },
   {
    "duration": 12,
    "start_time": "2023-06-30T14:31:29.207Z"
   },
   {
    "duration": 5,
    "start_time": "2023-06-30T14:31:29.221Z"
   },
   {
    "duration": 46,
    "start_time": "2023-06-30T14:31:29.228Z"
   },
   {
    "duration": 10,
    "start_time": "2023-06-30T14:31:29.276Z"
   },
   {
    "duration": 12,
    "start_time": "2023-06-30T14:31:29.288Z"
   },
   {
    "duration": 15,
    "start_time": "2023-06-30T14:31:29.302Z"
   },
   {
    "duration": 14,
    "start_time": "2023-06-30T14:31:29.319Z"
   },
   {
    "duration": 27,
    "start_time": "2023-06-30T14:31:29.334Z"
   },
   {
    "duration": 14,
    "start_time": "2023-06-30T14:31:29.364Z"
   },
   {
    "duration": 33,
    "start_time": "2023-06-30T14:31:29.380Z"
   },
   {
    "duration": 35,
    "start_time": "2023-06-30T14:31:29.415Z"
   },
   {
    "duration": 33,
    "start_time": "2023-06-30T14:31:29.452Z"
   },
   {
    "duration": 14,
    "start_time": "2023-06-30T14:31:29.492Z"
   },
   {
    "duration": 15,
    "start_time": "2023-06-30T14:31:29.507Z"
   },
   {
    "duration": 11,
    "start_time": "2023-06-30T14:31:29.524Z"
   },
   {
    "duration": 80,
    "start_time": "2023-06-30T14:31:29.537Z"
   },
   {
    "duration": 75,
    "start_time": "2023-06-30T14:31:29.618Z"
   },
   {
    "duration": 4,
    "start_time": "2023-06-30T14:31:29.695Z"
   },
   {
    "duration": 86,
    "start_time": "2023-06-30T14:31:29.701Z"
   },
   {
    "duration": 10,
    "start_time": "2023-06-30T14:31:29.788Z"
   },
   {
    "duration": 11,
    "start_time": "2023-06-30T14:31:29.800Z"
   },
   {
    "duration": 190,
    "start_time": "2023-06-30T14:31:29.813Z"
   },
   {
    "duration": 156,
    "start_time": "2023-06-30T14:31:30.005Z"
   },
   {
    "duration": 23,
    "start_time": "2023-06-30T14:31:30.164Z"
   },
   {
    "duration": 38,
    "start_time": "2023-06-30T14:31:30.189Z"
   },
   {
    "duration": 374,
    "start_time": "2023-06-30T14:31:30.229Z"
   },
   {
    "duration": 312,
    "start_time": "2023-06-30T14:31:30.607Z"
   },
   {
    "duration": 7,
    "start_time": "2023-06-30T14:31:30.921Z"
   },
   {
    "duration": 125,
    "start_time": "2023-06-30T14:31:30.929Z"
   },
   {
    "duration": 439,
    "start_time": "2023-06-30T14:31:31.056Z"
   },
   {
    "duration": 8,
    "start_time": "2023-06-30T14:31:31.497Z"
   },
   {
    "duration": 380,
    "start_time": "2023-06-30T14:31:31.507Z"
   },
   {
    "duration": 9,
    "start_time": "2023-06-30T14:31:31.889Z"
   },
   {
    "duration": 59,
    "start_time": "2023-06-30T14:31:31.900Z"
   },
   {
    "duration": 354,
    "start_time": "2023-06-30T14:31:31.962Z"
   },
   {
    "duration": 170,
    "start_time": "2023-06-30T14:31:32.319Z"
   },
   {
    "duration": 176,
    "start_time": "2023-06-30T14:31:32.493Z"
   },
   {
    "duration": 6,
    "start_time": "2023-06-30T14:31:32.672Z"
   },
   {
    "duration": 195,
    "start_time": "2023-06-30T14:31:32.680Z"
   },
   {
    "duration": 174,
    "start_time": "2023-06-30T14:31:32.879Z"
   },
   {
    "duration": 12,
    "start_time": "2023-06-30T14:31:33.063Z"
   },
   {
    "duration": 64,
    "start_time": "2023-06-30T14:31:33.077Z"
   },
   {
    "duration": 44,
    "start_time": "2023-06-30T14:31:33.143Z"
   },
   {
    "duration": 392,
    "start_time": "2023-06-30T14:31:33.189Z"
   },
   {
    "duration": 144,
    "start_time": "2023-06-30T14:31:33.586Z"
   },
   {
    "duration": 8,
    "start_time": "2023-06-30T14:31:33.731Z"
   },
   {
    "duration": 55,
    "start_time": "2023-06-30T14:31:33.740Z"
   },
   {
    "duration": 12,
    "start_time": "2023-06-30T14:31:33.797Z"
   },
   {
    "duration": 64,
    "start_time": "2023-06-30T14:31:33.811Z"
   },
   {
    "duration": 14,
    "start_time": "2023-06-30T14:31:33.880Z"
   },
   {
    "duration": 24,
    "start_time": "2023-06-30T14:31:33.896Z"
   },
   {
    "duration": 14,
    "start_time": "2023-06-30T14:31:33.922Z"
   },
   {
    "duration": 1494,
    "start_time": "2023-07-01T06:37:47.503Z"
   },
   {
    "duration": 190,
    "start_time": "2023-07-01T06:37:49.000Z"
   },
   {
    "duration": 177,
    "start_time": "2023-07-01T06:37:49.192Z"
   },
   {
    "duration": 123,
    "start_time": "2023-07-01T06:37:49.372Z"
   },
   {
    "duration": 16,
    "start_time": "2023-07-01T06:37:49.496Z"
   },
   {
    "duration": 14,
    "start_time": "2023-07-01T06:37:49.514Z"
   },
   {
    "duration": 13,
    "start_time": "2023-07-01T06:37:49.530Z"
   },
   {
    "duration": 68,
    "start_time": "2023-07-01T06:37:49.545Z"
   },
   {
    "duration": 13,
    "start_time": "2023-07-01T06:37:49.615Z"
   },
   {
    "duration": 14,
    "start_time": "2023-07-01T06:37:49.632Z"
   },
   {
    "duration": 35,
    "start_time": "2023-07-01T06:37:49.648Z"
   },
   {
    "duration": 41,
    "start_time": "2023-07-01T06:37:49.685Z"
   },
   {
    "duration": 13,
    "start_time": "2023-07-01T06:37:49.728Z"
   },
   {
    "duration": 27,
    "start_time": "2023-07-01T06:37:49.744Z"
   },
   {
    "duration": 33,
    "start_time": "2023-07-01T06:37:49.775Z"
   },
   {
    "duration": 7,
    "start_time": "2023-07-01T06:37:49.810Z"
   },
   {
    "duration": 20,
    "start_time": "2023-07-01T06:37:49.819Z"
   },
   {
    "duration": 10,
    "start_time": "2023-07-01T06:37:49.840Z"
   },
   {
    "duration": 44,
    "start_time": "2023-07-01T06:37:49.852Z"
   },
   {
    "duration": 14,
    "start_time": "2023-07-01T06:37:49.899Z"
   },
   {
    "duration": 16,
    "start_time": "2023-07-01T06:37:49.915Z"
   },
   {
    "duration": 9,
    "start_time": "2023-07-01T06:37:49.933Z"
   },
   {
    "duration": 65,
    "start_time": "2023-07-01T06:37:49.944Z"
   },
   {
    "duration": 33,
    "start_time": "2023-07-01T06:37:50.011Z"
   },
   {
    "duration": 59,
    "start_time": "2023-07-01T06:37:50.047Z"
   },
   {
    "duration": 8,
    "start_time": "2023-07-01T06:37:50.110Z"
   },
   {
    "duration": 12,
    "start_time": "2023-07-01T06:37:50.121Z"
   },
   {
    "duration": 7,
    "start_time": "2023-07-01T06:37:50.138Z"
   },
   {
    "duration": 55,
    "start_time": "2023-07-01T06:37:50.148Z"
   },
   {
    "duration": 93,
    "start_time": "2023-07-01T06:37:50.204Z"
   },
   {
    "duration": 90,
    "start_time": "2023-07-01T06:37:50.300Z"
   },
   {
    "duration": 9,
    "start_time": "2023-07-01T06:37:50.396Z"
   },
   {
    "duration": 92,
    "start_time": "2023-07-01T06:37:50.407Z"
   },
   {
    "duration": 11,
    "start_time": "2023-07-01T06:37:50.501Z"
   },
   {
    "duration": 14,
    "start_time": "2023-07-01T06:37:50.515Z"
   },
   {
    "duration": 245,
    "start_time": "2023-07-01T06:37:50.531Z"
   },
   {
    "duration": 170,
    "start_time": "2023-07-01T06:37:50.787Z"
   },
   {
    "duration": 7,
    "start_time": "2023-07-01T06:37:50.959Z"
   },
   {
    "duration": 58,
    "start_time": "2023-07-01T06:37:50.968Z"
   },
   {
    "duration": 487,
    "start_time": "2023-07-01T06:37:51.028Z"
   },
   {
    "duration": 302,
    "start_time": "2023-07-01T06:37:51.518Z"
   },
   {
    "duration": 7,
    "start_time": "2023-07-01T06:37:51.822Z"
   },
   {
    "duration": 27,
    "start_time": "2023-07-01T06:37:51.832Z"
   },
   {
    "duration": 355,
    "start_time": "2023-07-01T06:37:51.870Z"
   },
   {
    "duration": 7,
    "start_time": "2023-07-01T06:37:52.228Z"
   },
   {
    "duration": 291,
    "start_time": "2023-07-01T06:37:52.237Z"
   },
   {
    "duration": 27,
    "start_time": "2023-07-01T06:37:52.530Z"
   },
   {
    "duration": 56,
    "start_time": "2023-07-01T06:37:52.559Z"
   },
   {
    "duration": 397,
    "start_time": "2023-07-01T06:37:52.618Z"
   },
   {
    "duration": 214,
    "start_time": "2023-07-01T06:37:53.017Z"
   },
   {
    "duration": 264,
    "start_time": "2023-07-01T06:37:53.233Z"
   },
   {
    "duration": 9,
    "start_time": "2023-07-01T06:37:53.499Z"
   },
   {
    "duration": 198,
    "start_time": "2023-07-01T06:37:53.510Z"
   },
   {
    "duration": 193,
    "start_time": "2023-07-01T06:37:53.711Z"
   },
   {
    "duration": 7,
    "start_time": "2023-07-01T06:37:53.906Z"
   },
   {
    "duration": 17,
    "start_time": "2023-07-01T06:37:53.918Z"
   },
   {
    "duration": 26,
    "start_time": "2023-07-01T06:37:53.937Z"
   },
   {
    "duration": 356,
    "start_time": "2023-07-01T06:37:53.970Z"
   },
   {
    "duration": 274,
    "start_time": "2023-07-01T06:37:54.328Z"
   },
   {
    "duration": 10,
    "start_time": "2023-07-01T06:37:54.606Z"
   },
   {
    "duration": 29,
    "start_time": "2023-07-01T06:37:54.618Z"
   },
   {
    "duration": 16,
    "start_time": "2023-07-01T06:37:54.654Z"
   },
   {
    "duration": 38,
    "start_time": "2023-07-01T06:37:54.671Z"
   },
   {
    "duration": 10,
    "start_time": "2023-07-01T06:37:54.711Z"
   },
   {
    "duration": 24,
    "start_time": "2023-07-01T06:37:54.724Z"
   },
   {
    "duration": 30,
    "start_time": "2023-07-01T06:37:54.750Z"
   }
  ],
  "kernelspec": {
   "display_name": "Python 3 (ipykernel)",
   "language": "python",
   "name": "python3"
  },
  "language_info": {
   "codemirror_mode": {
    "name": "ipython",
    "version": 3
   },
   "file_extension": ".py",
   "mimetype": "text/x-python",
   "name": "python",
   "nbconvert_exporter": "python",
   "pygments_lexer": "ipython3",
   "version": "3.11.5"
  },
  "toc": {
   "base_numbering": 1,
   "nav_menu": {},
   "number_sections": true,
   "sideBar": true,
   "skip_h1_title": true,
   "title_cell": "Table of Contents",
   "title_sidebar": "Contents",
   "toc_cell": false,
   "toc_position": {
    "height": "calc(100% - 180px)",
    "left": "10px",
    "top": "150px",
    "width": "165px"
   },
   "toc_section_display": true,
   "toc_window_display": true
  }
 },
 "nbformat": 4,
 "nbformat_minor": 2
}
