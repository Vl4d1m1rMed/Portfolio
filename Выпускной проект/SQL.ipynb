{
 "cells": [
  {
   "cell_type": "markdown",
   "metadata": {
    "toc": true
   },
   "source": [
    "<h1>Содержание<span class=\"tocSkip\"></span></h1>\n",
    "<div class=\"toc\"><ul class=\"toc-item\"><li><span><a href=\"#Описание-задачи\" data-toc-modified-id=\"Описание-задачи-1\"><span class=\"toc-item-num\">1&nbsp;&nbsp;</span>Описание задачи</a></span></li><li><span><a href=\"#Описание-данных\" data-toc-modified-id=\"Описание-данных-2\"><span class=\"toc-item-num\">2&nbsp;&nbsp;</span>Описание данных</a></span></li><li><span><a href=\"#Ответы-на-задания:\" data-toc-modified-id=\"Ответы-на-задания:-3\"><span class=\"toc-item-num\">3&nbsp;&nbsp;</span>Ответы на задания:</a></span><ul class=\"toc-item\"><li><span><a href=\"#Посчитаем-сколько-книг-вышло-после-1-января-2000-года\" data-toc-modified-id=\"Посчитаем-сколько-книг-вышло-после-1-января-2000-года-3.1\"><span class=\"toc-item-num\">3.1&nbsp;&nbsp;</span>Посчитаем сколько книг вышло после 1 января 2000 года</a></span></li><li><span><a href=\"#Для-каждой-книги-посчитаем-количество-обзоров-и-среднюю-оценку;\" data-toc-modified-id=\"Для-каждой-книги-посчитаем-количество-обзоров-и-среднюю-оценку;-3.2\"><span class=\"toc-item-num\">3.2&nbsp;&nbsp;</span>Для каждой книги посчитаем количество обзоров и среднюю оценку;</a></span></li><li><span><a href=\"#Определим-издательство,-которое-выпустило-наибольшее-число-книг-толще-50-страниц-—-так-мы-исключите-из-анализа-брошюры\" data-toc-modified-id=\"Определим-издательство,-которое-выпустило-наибольшее-число-книг-толще-50-страниц-—-так-мы-исключите-из-анализа-брошюры-3.3\"><span class=\"toc-item-num\">3.3&nbsp;&nbsp;</span>Определим издательство, которое выпустило наибольшее число книг толще 50 страниц — так мы исключите из анализа брошюры</a></span></li><li><span><a href=\"#Определим-автора-с-самой-высокой-средней-оценкой-книг-—-учитывая-только-книги-с-50-и-более-оценками\" data-toc-modified-id=\"Определим-автора-с-самой-высокой-средней-оценкой-книг-—-учитывая-только-книги-с-50-и-более-оценками-3.4\"><span class=\"toc-item-num\">3.4&nbsp;&nbsp;</span>Определим автора с самой высокой средней оценкой книг — учитывая только книги с 50 и более оценками</a></span></li><li><span><a href=\"#Посчитаем-среднее-количество-обзоров-от-пользователей,-которые-поставили-больше-48-оценок\" data-toc-modified-id=\"Посчитаем-среднее-количество-обзоров-от-пользователей,-которые-поставили-больше-48-оценок-3.5\"><span class=\"toc-item-num\">3.5&nbsp;&nbsp;</span>Посчитаем среднее количество обзоров от пользователей, которые поставили больше 48 оценок</a></span></li></ul></li></ul></div>"
   ]
  },
  {
   "cell_type": "markdown",
   "metadata": {},
   "source": [
    "## Описание задачи\n",
    "\n",
    "**Цель** - проанализировать базу данных купленного сервиса для чтения книг по подписке для дальнейшего формулирования ценностного предложения для нового продукта.\n",
    "\n",
    "**Задачи:**\n",
    "\n",
    "познакомиться с хранящимися в базе данными,\n",
    "\n",
    "проанализировать результаты запросов.\n",
    "\n",
    "Данные расположены в 5 таблицах, содержащих информацию о книгах, издательствах, авторах, пользовательских оценках и обзорах книг."
   ]
  },
  {
   "cell_type": "markdown",
   "metadata": {},
   "source": [
    "## Описание данных\n",
    "\n",
    "Таблица `books` - содержит данные о книгах:\n",
    "\n",
    "book_id — идентификатор книги;\n",
    "\n",
    "author_id — идентификатор автора;\n",
    "\n",
    "title — название книги;\n",
    "\n",
    "num_pages — количество страниц;\n",
    "\n",
    "publication_date — дата публикации книги;\n",
    "\n",
    "publisher_id — идентификатор издателя.\n",
    "\n",
    "Таблица `authors` - содержит данные об авторах:\n",
    "\n",
    "author_id — идентификатор автора;\n",
    "\n",
    "author — имя автора.\n",
    "\n",
    "Таблица `publishers` - содержит данные об издательствах:\n",
    "\n",
    "publisher_id — идентификатор издательства;\n",
    "\n",
    "publisher — название издательства;\n",
    "\n",
    "Таблица `ratings` - содержит данные о пользовательских оценках книг:\n",
    "\n",
    "rating_id — идентификатор оценки;\n",
    "\n",
    "book_id — идентификатор книги;\n",
    "\n",
    "username — имя пользователя, оставившего оценку;\n",
    "\n",
    "rating — оценка книги.\n",
    "\n",
    "Таблица `reviews` - содержит данные о пользовательских обзорах на книги:  \n",
    "\n",
    "review_id — идентификатор обзора;\n",
    "\n",
    "book_id — идентификатор книги;\n",
    "\n",
    "username — имя пользователя, написавшего обзор;\n",
    "\n",
    "text — текст обзора."
   ]
  },
  {
   "cell_type": "code",
   "execution_count": 1,
   "metadata": {},
   "outputs": [
    {
     "name": "stdout",
     "output_type": "stream",
     "text": [
      "Requirement already satisfied: sqlalchemy in /opt/conda/lib/python3.9/site-packages (1.4.20)\n",
      "Requirement already satisfied: greenlet!=0.4.17 in /opt/conda/lib/python3.9/site-packages (from sqlalchemy) (1.1.0)\n",
      "Requirement already satisfied: psycopg2-binary in /opt/conda/lib/python3.9/site-packages (2.9.2)\n"
     ]
    }
   ],
   "source": [
    "!pip install sqlalchemy\n",
    "!pip install psycopg2-binary"
   ]
  },
  {
   "cell_type": "code",
   "execution_count": 2,
   "metadata": {},
   "outputs": [
    {
     "data": {
      "text/html": [
       "<div>\n",
       "<style scoped>\n",
       "    .dataframe tbody tr th:only-of-type {\n",
       "        vertical-align: middle;\n",
       "    }\n",
       "\n",
       "    .dataframe tbody tr th {\n",
       "        vertical-align: top;\n",
       "    }\n",
       "\n",
       "    .dataframe thead th {\n",
       "        text-align: right;\n",
       "    }\n",
       "</style>\n",
       "<table border=\"1\" class=\"dataframe\">\n",
       "  <thead>\n",
       "    <tr style=\"text-align: right;\">\n",
       "      <th></th>\n",
       "      <th>book_id</th>\n",
       "      <th>author_id</th>\n",
       "      <th>title</th>\n",
       "      <th>num_pages</th>\n",
       "      <th>publication_date</th>\n",
       "      <th>publisher_id</th>\n",
       "    </tr>\n",
       "  </thead>\n",
       "  <tbody>\n",
       "    <tr>\n",
       "      <th>0</th>\n",
       "      <td>1</td>\n",
       "      <td>546</td>\n",
       "      <td>'Salem's Lot</td>\n",
       "      <td>594</td>\n",
       "      <td>2005-11-01</td>\n",
       "      <td>93</td>\n",
       "    </tr>\n",
       "    <tr>\n",
       "      <th>1</th>\n",
       "      <td>2</td>\n",
       "      <td>465</td>\n",
       "      <td>1 000 Places to See Before You Die</td>\n",
       "      <td>992</td>\n",
       "      <td>2003-05-22</td>\n",
       "      <td>336</td>\n",
       "    </tr>\n",
       "    <tr>\n",
       "      <th>2</th>\n",
       "      <td>3</td>\n",
       "      <td>407</td>\n",
       "      <td>13 Little Blue Envelopes (Little Blue Envelope...</td>\n",
       "      <td>322</td>\n",
       "      <td>2010-12-21</td>\n",
       "      <td>135</td>\n",
       "    </tr>\n",
       "    <tr>\n",
       "      <th>3</th>\n",
       "      <td>4</td>\n",
       "      <td>82</td>\n",
       "      <td>1491: New Revelations of the Americas Before C...</td>\n",
       "      <td>541</td>\n",
       "      <td>2006-10-10</td>\n",
       "      <td>309</td>\n",
       "    </tr>\n",
       "    <tr>\n",
       "      <th>4</th>\n",
       "      <td>5</td>\n",
       "      <td>125</td>\n",
       "      <td>1776</td>\n",
       "      <td>386</td>\n",
       "      <td>2006-07-04</td>\n",
       "      <td>268</td>\n",
       "    </tr>\n",
       "  </tbody>\n",
       "</table>\n",
       "</div>"
      ],
      "text/plain": [
       "   book_id  author_id                                              title  \\\n",
       "0        1        546                                       'Salem's Lot   \n",
       "1        2        465                 1 000 Places to See Before You Die   \n",
       "2        3        407  13 Little Blue Envelopes (Little Blue Envelope...   \n",
       "3        4         82  1491: New Revelations of the Americas Before C...   \n",
       "4        5        125                                               1776   \n",
       "\n",
       "   num_pages publication_date  publisher_id  \n",
       "0        594       2005-11-01            93  \n",
       "1        992       2003-05-22           336  \n",
       "2        322       2010-12-21           135  \n",
       "3        541       2006-10-10           309  \n",
       "4        386       2006-07-04           268  "
      ]
     },
     "execution_count": 2,
     "metadata": {},
     "output_type": "execute_result"
    }
   ],
   "source": [
    "# импортируем библиотеки\n",
    "import pandas as pd\n",
    "from sqlalchemy import text, create_engine\n",
    "# устанавливаем параметры\n",
    "db_config = {'user': 'praktikum_student', # имя пользователя\n",
    "'pwd': 'Sdf4$2;d-d30pp', # пароль\n",
    "'host': 'rc1b-wcoijxj3yxfsf3fs.mdb.yandexcloud.net',\n",
    "'port': 6432, # порт подключения\n",
    "'db': 'data-analyst-final-project-db'} # название базы данных\n",
    "connection_string = 'postgresql://{user}:{pwd}@{host}:{port}/{db}'.format(**db_config)\n",
    "# сохраняем коннектор\n",
    "engine = create_engine(connection_string, connect_args={'sslmode':'require'})\n",
    "# чтобы выполнить SQL-запрос, используем Pandas\n",
    "query = '''SELECT * FROM books LIMIT 5'''\n",
    "con=engine.connect()\n",
    "pd.io.sql.read_sql(sql=text(query), con = con)"
   ]
  },
  {
   "cell_type": "code",
   "execution_count": 3,
   "metadata": {},
   "outputs": [
    {
     "data": {
      "text/html": [
       "<div>\n",
       "<style scoped>\n",
       "    .dataframe tbody tr th:only-of-type {\n",
       "        vertical-align: middle;\n",
       "    }\n",
       "\n",
       "    .dataframe tbody tr th {\n",
       "        vertical-align: top;\n",
       "    }\n",
       "\n",
       "    .dataframe thead th {\n",
       "        text-align: right;\n",
       "    }\n",
       "</style>\n",
       "<table border=\"1\" class=\"dataframe\">\n",
       "  <thead>\n",
       "    <tr style=\"text-align: right;\">\n",
       "      <th></th>\n",
       "      <th>author_id</th>\n",
       "      <th>author</th>\n",
       "    </tr>\n",
       "  </thead>\n",
       "  <tbody>\n",
       "    <tr>\n",
       "      <th>0</th>\n",
       "      <td>1</td>\n",
       "      <td>A.S. Byatt</td>\n",
       "    </tr>\n",
       "    <tr>\n",
       "      <th>1</th>\n",
       "      <td>2</td>\n",
       "      <td>Aesop/Laura Harris/Laura Gibbs</td>\n",
       "    </tr>\n",
       "    <tr>\n",
       "      <th>2</th>\n",
       "      <td>3</td>\n",
       "      <td>Agatha Christie</td>\n",
       "    </tr>\n",
       "    <tr>\n",
       "      <th>3</th>\n",
       "      <td>4</td>\n",
       "      <td>Alan Brennert</td>\n",
       "    </tr>\n",
       "    <tr>\n",
       "      <th>4</th>\n",
       "      <td>5</td>\n",
       "      <td>Alan Moore/David   Lloyd</td>\n",
       "    </tr>\n",
       "  </tbody>\n",
       "</table>\n",
       "</div>"
      ],
      "text/plain": [
       "   author_id                          author\n",
       "0          1                      A.S. Byatt\n",
       "1          2  Aesop/Laura Harris/Laura Gibbs\n",
       "2          3                 Agatha Christie\n",
       "3          4                   Alan Brennert\n",
       "4          5        Alan Moore/David   Lloyd"
      ]
     },
     "execution_count": 3,
     "metadata": {},
     "output_type": "execute_result"
    }
   ],
   "source": [
    "query = \\\n",
    "'''\n",
    "SELECT * \n",
    "FROM authors LIMIT 5\n",
    "'''\n",
    "\n",
    "pd.io.sql.read_sql(sql=text(query), con = con)"
   ]
  },
  {
   "cell_type": "code",
   "execution_count": 4,
   "metadata": {},
   "outputs": [
    {
     "data": {
      "text/html": [
       "<div>\n",
       "<style scoped>\n",
       "    .dataframe tbody tr th:only-of-type {\n",
       "        vertical-align: middle;\n",
       "    }\n",
       "\n",
       "    .dataframe tbody tr th {\n",
       "        vertical-align: top;\n",
       "    }\n",
       "\n",
       "    .dataframe thead th {\n",
       "        text-align: right;\n",
       "    }\n",
       "</style>\n",
       "<table border=\"1\" class=\"dataframe\">\n",
       "  <thead>\n",
       "    <tr style=\"text-align: right;\">\n",
       "      <th></th>\n",
       "      <th>publisher_id</th>\n",
       "      <th>publisher</th>\n",
       "    </tr>\n",
       "  </thead>\n",
       "  <tbody>\n",
       "    <tr>\n",
       "      <th>0</th>\n",
       "      <td>1</td>\n",
       "      <td>Ace</td>\n",
       "    </tr>\n",
       "    <tr>\n",
       "      <th>1</th>\n",
       "      <td>2</td>\n",
       "      <td>Ace Book</td>\n",
       "    </tr>\n",
       "    <tr>\n",
       "      <th>2</th>\n",
       "      <td>3</td>\n",
       "      <td>Ace Books</td>\n",
       "    </tr>\n",
       "    <tr>\n",
       "      <th>3</th>\n",
       "      <td>4</td>\n",
       "      <td>Ace Hardcover</td>\n",
       "    </tr>\n",
       "    <tr>\n",
       "      <th>4</th>\n",
       "      <td>5</td>\n",
       "      <td>Addison Wesley Publishing Company</td>\n",
       "    </tr>\n",
       "  </tbody>\n",
       "</table>\n",
       "</div>"
      ],
      "text/plain": [
       "   publisher_id                          publisher\n",
       "0             1                                Ace\n",
       "1             2                           Ace Book\n",
       "2             3                          Ace Books\n",
       "3             4                      Ace Hardcover\n",
       "4             5  Addison Wesley Publishing Company"
      ]
     },
     "execution_count": 4,
     "metadata": {},
     "output_type": "execute_result"
    }
   ],
   "source": [
    "query = \\\n",
    "'''\n",
    "SELECT * \n",
    "FROM publishers LIMIT 5\n",
    "'''\n",
    "\n",
    "pd.io.sql.read_sql(sql=text(query), con = con)"
   ]
  },
  {
   "cell_type": "code",
   "execution_count": 5,
   "metadata": {},
   "outputs": [
    {
     "data": {
      "text/html": [
       "<div>\n",
       "<style scoped>\n",
       "    .dataframe tbody tr th:only-of-type {\n",
       "        vertical-align: middle;\n",
       "    }\n",
       "\n",
       "    .dataframe tbody tr th {\n",
       "        vertical-align: top;\n",
       "    }\n",
       "\n",
       "    .dataframe thead th {\n",
       "        text-align: right;\n",
       "    }\n",
       "</style>\n",
       "<table border=\"1\" class=\"dataframe\">\n",
       "  <thead>\n",
       "    <tr style=\"text-align: right;\">\n",
       "      <th></th>\n",
       "      <th>rating_id</th>\n",
       "      <th>book_id</th>\n",
       "      <th>username</th>\n",
       "      <th>rating</th>\n",
       "    </tr>\n",
       "  </thead>\n",
       "  <tbody>\n",
       "    <tr>\n",
       "      <th>0</th>\n",
       "      <td>1</td>\n",
       "      <td>1</td>\n",
       "      <td>ryanfranco</td>\n",
       "      <td>4</td>\n",
       "    </tr>\n",
       "    <tr>\n",
       "      <th>1</th>\n",
       "      <td>2</td>\n",
       "      <td>1</td>\n",
       "      <td>grantpatricia</td>\n",
       "      <td>2</td>\n",
       "    </tr>\n",
       "    <tr>\n",
       "      <th>2</th>\n",
       "      <td>3</td>\n",
       "      <td>1</td>\n",
       "      <td>brandtandrea</td>\n",
       "      <td>5</td>\n",
       "    </tr>\n",
       "    <tr>\n",
       "      <th>3</th>\n",
       "      <td>4</td>\n",
       "      <td>2</td>\n",
       "      <td>lorichen</td>\n",
       "      <td>3</td>\n",
       "    </tr>\n",
       "    <tr>\n",
       "      <th>4</th>\n",
       "      <td>5</td>\n",
       "      <td>2</td>\n",
       "      <td>mariokeller</td>\n",
       "      <td>2</td>\n",
       "    </tr>\n",
       "  </tbody>\n",
       "</table>\n",
       "</div>"
      ],
      "text/plain": [
       "   rating_id  book_id       username  rating\n",
       "0          1        1     ryanfranco       4\n",
       "1          2        1  grantpatricia       2\n",
       "2          3        1   brandtandrea       5\n",
       "3          4        2       lorichen       3\n",
       "4          5        2    mariokeller       2"
      ]
     },
     "execution_count": 5,
     "metadata": {},
     "output_type": "execute_result"
    }
   ],
   "source": [
    "query = \\\n",
    "'''\n",
    "SELECT * \n",
    "FROM ratings LIMIT 5\n",
    "'''\n",
    "pd.io.sql.read_sql(sql=text(query), con = con)"
   ]
  },
  {
   "cell_type": "code",
   "execution_count": 6,
   "metadata": {},
   "outputs": [
    {
     "data": {
      "text/html": [
       "<div>\n",
       "<style scoped>\n",
       "    .dataframe tbody tr th:only-of-type {\n",
       "        vertical-align: middle;\n",
       "    }\n",
       "\n",
       "    .dataframe tbody tr th {\n",
       "        vertical-align: top;\n",
       "    }\n",
       "\n",
       "    .dataframe thead th {\n",
       "        text-align: right;\n",
       "    }\n",
       "</style>\n",
       "<table border=\"1\" class=\"dataframe\">\n",
       "  <thead>\n",
       "    <tr style=\"text-align: right;\">\n",
       "      <th></th>\n",
       "      <th>review_id</th>\n",
       "      <th>book_id</th>\n",
       "      <th>username</th>\n",
       "      <th>text</th>\n",
       "    </tr>\n",
       "  </thead>\n",
       "  <tbody>\n",
       "    <tr>\n",
       "      <th>0</th>\n",
       "      <td>1</td>\n",
       "      <td>1</td>\n",
       "      <td>brandtandrea</td>\n",
       "      <td>Mention society tell send professor analysis. ...</td>\n",
       "    </tr>\n",
       "    <tr>\n",
       "      <th>1</th>\n",
       "      <td>2</td>\n",
       "      <td>1</td>\n",
       "      <td>ryanfranco</td>\n",
       "      <td>Foot glass pretty audience hit themselves. Amo...</td>\n",
       "    </tr>\n",
       "    <tr>\n",
       "      <th>2</th>\n",
       "      <td>3</td>\n",
       "      <td>2</td>\n",
       "      <td>lorichen</td>\n",
       "      <td>Listen treat keep worry. Miss husband tax but ...</td>\n",
       "    </tr>\n",
       "    <tr>\n",
       "      <th>3</th>\n",
       "      <td>4</td>\n",
       "      <td>3</td>\n",
       "      <td>johnsonamanda</td>\n",
       "      <td>Finally month interesting blue could nature cu...</td>\n",
       "    </tr>\n",
       "    <tr>\n",
       "      <th>4</th>\n",
       "      <td>5</td>\n",
       "      <td>3</td>\n",
       "      <td>scotttamara</td>\n",
       "      <td>Nation purpose heavy give wait song will. List...</td>\n",
       "    </tr>\n",
       "  </tbody>\n",
       "</table>\n",
       "</div>"
      ],
      "text/plain": [
       "   review_id  book_id       username  \\\n",
       "0          1        1   brandtandrea   \n",
       "1          2        1     ryanfranco   \n",
       "2          3        2       lorichen   \n",
       "3          4        3  johnsonamanda   \n",
       "4          5        3    scotttamara   \n",
       "\n",
       "                                                text  \n",
       "0  Mention society tell send professor analysis. ...  \n",
       "1  Foot glass pretty audience hit themselves. Amo...  \n",
       "2  Listen treat keep worry. Miss husband tax but ...  \n",
       "3  Finally month interesting blue could nature cu...  \n",
       "4  Nation purpose heavy give wait song will. List...  "
      ]
     },
     "execution_count": 6,
     "metadata": {},
     "output_type": "execute_result"
    }
   ],
   "source": [
    "query = \\\n",
    "'''\n",
    "SELECT *\n",
    "FROM reviews LIMIT 5\n",
    "'''\n",
    "\n",
    "pd.io.sql.read_sql(sql=text(query), con = con)"
   ]
  },
  {
   "cell_type": "code",
   "execution_count": 7,
   "metadata": {
    "scrolled": true
   },
   "outputs": [
    {
     "data": {
      "text/html": [
       "<div>\n",
       "<style scoped>\n",
       "    .dataframe tbody tr th:only-of-type {\n",
       "        vertical-align: middle;\n",
       "    }\n",
       "\n",
       "    .dataframe tbody tr th {\n",
       "        vertical-align: top;\n",
       "    }\n",
       "\n",
       "    .dataframe thead th {\n",
       "        text-align: right;\n",
       "    }\n",
       "</style>\n",
       "<table border=\"1\" class=\"dataframe\">\n",
       "  <thead>\n",
       "    <tr style=\"text-align: right;\">\n",
       "      <th></th>\n",
       "      <th>review_id</th>\n",
       "      <th>book_id</th>\n",
       "      <th>username</th>\n",
       "      <th>text</th>\n",
       "    </tr>\n",
       "  </thead>\n",
       "  <tbody>\n",
       "    <tr>\n",
       "      <th>0</th>\n",
       "      <td>1</td>\n",
       "      <td>1</td>\n",
       "      <td>brandtandrea</td>\n",
       "      <td>Mention society tell send professor analysis. ...</td>\n",
       "    </tr>\n",
       "    <tr>\n",
       "      <th>1</th>\n",
       "      <td>2</td>\n",
       "      <td>1</td>\n",
       "      <td>ryanfranco</td>\n",
       "      <td>Foot glass pretty audience hit themselves. Amo...</td>\n",
       "    </tr>\n",
       "    <tr>\n",
       "      <th>2</th>\n",
       "      <td>3</td>\n",
       "      <td>2</td>\n",
       "      <td>lorichen</td>\n",
       "      <td>Listen treat keep worry. Miss husband tax but ...</td>\n",
       "    </tr>\n",
       "    <tr>\n",
       "      <th>3</th>\n",
       "      <td>4</td>\n",
       "      <td>3</td>\n",
       "      <td>johnsonamanda</td>\n",
       "      <td>Finally month interesting blue could nature cu...</td>\n",
       "    </tr>\n",
       "    <tr>\n",
       "      <th>4</th>\n",
       "      <td>5</td>\n",
       "      <td>3</td>\n",
       "      <td>scotttamara</td>\n",
       "      <td>Nation purpose heavy give wait song will. List...</td>\n",
       "    </tr>\n",
       "  </tbody>\n",
       "</table>\n",
       "</div>"
      ],
      "text/plain": [
       "   review_id  book_id       username  \\\n",
       "0          1        1   brandtandrea   \n",
       "1          2        1     ryanfranco   \n",
       "2          3        2       lorichen   \n",
       "3          4        3  johnsonamanda   \n",
       "4          5        3    scotttamara   \n",
       "\n",
       "                                                text  \n",
       "0  Mention society tell send professor analysis. ...  \n",
       "1  Foot glass pretty audience hit themselves. Amo...  \n",
       "2  Listen treat keep worry. Miss husband tax but ...  \n",
       "3  Finally month interesting blue could nature cu...  \n",
       "4  Nation purpose heavy give wait song will. List...  "
      ]
     },
     "execution_count": 7,
     "metadata": {},
     "output_type": "execute_result"
    }
   ],
   "source": [
    "query = \\\n",
    "'''\n",
    "SELECT *\n",
    "FROM reviews LIMIT 5\n",
    "'''\n",
    "'''\n",
    "SELECT * \n",
    "FROM ratings LIMIT 5\n",
    "'''\n",
    "pd.io.sql.read_sql(sql=text(query), con = con)"
   ]
  },
  {
   "cell_type": "markdown",
   "metadata": {},
   "source": [
    "## Ответы на задания:"
   ]
  },
  {
   "cell_type": "markdown",
   "metadata": {},
   "source": [
    "### Посчитаем сколько книг вышло после 1 января 2000 года"
   ]
  },
  {
   "cell_type": "code",
   "execution_count": 8,
   "metadata": {},
   "outputs": [
    {
     "data": {
      "text/html": [
       "<div>\n",
       "<style scoped>\n",
       "    .dataframe tbody tr th:only-of-type {\n",
       "        vertical-align: middle;\n",
       "    }\n",
       "\n",
       "    .dataframe tbody tr th {\n",
       "        vertical-align: top;\n",
       "    }\n",
       "\n",
       "    .dataframe thead th {\n",
       "        text-align: right;\n",
       "    }\n",
       "</style>\n",
       "<table border=\"1\" class=\"dataframe\">\n",
       "  <thead>\n",
       "    <tr style=\"text-align: right;\">\n",
       "      <th></th>\n",
       "      <th>count</th>\n",
       "    </tr>\n",
       "  </thead>\n",
       "  <tbody>\n",
       "    <tr>\n",
       "      <th>0</th>\n",
       "      <td>819</td>\n",
       "    </tr>\n",
       "  </tbody>\n",
       "</table>\n",
       "</div>"
      ],
      "text/plain": [
       "   count\n",
       "0    819"
      ]
     },
     "execution_count": 8,
     "metadata": {},
     "output_type": "execute_result"
    }
   ],
   "source": [
    "query = \\\n",
    "'''\n",
    "SELECT COUNT(book_id)\n",
    "FROM books\n",
    "WHERE publication_date > '2000-01-01'\n",
    "'''\n",
    "pd.io.sql.read_sql(sql=text(query), con = con)"
   ]
  },
  {
   "cell_type": "markdown",
   "metadata": {},
   "source": [
    "После 1 января 2000 года вышло 819 книг"
   ]
  },
  {
   "cell_type": "markdown",
   "metadata": {},
   "source": [
    "### Для каждой книги посчитаем количество обзоров и среднюю оценку;"
   ]
  },
  {
   "cell_type": "code",
   "execution_count": 9,
   "metadata": {},
   "outputs": [
    {
     "data": {
      "text/html": [
       "<div>\n",
       "<style scoped>\n",
       "    .dataframe tbody tr th:only-of-type {\n",
       "        vertical-align: middle;\n",
       "    }\n",
       "\n",
       "    .dataframe tbody tr th {\n",
       "        vertical-align: top;\n",
       "    }\n",
       "\n",
       "    .dataframe thead th {\n",
       "        text-align: right;\n",
       "    }\n",
       "</style>\n",
       "<table border=\"1\" class=\"dataframe\">\n",
       "  <thead>\n",
       "    <tr style=\"text-align: right;\">\n",
       "      <th></th>\n",
       "      <th>title</th>\n",
       "      <th>cnt_review</th>\n",
       "      <th>avg_raiting</th>\n",
       "    </tr>\n",
       "  </thead>\n",
       "  <tbody>\n",
       "    <tr>\n",
       "      <th>0</th>\n",
       "      <td>The Body in the Library (Miss Marple  #3)</td>\n",
       "      <td>2.0</td>\n",
       "      <td>4.500000</td>\n",
       "    </tr>\n",
       "    <tr>\n",
       "      <th>1</th>\n",
       "      <td>Galápagos</td>\n",
       "      <td>2.0</td>\n",
       "      <td>4.500000</td>\n",
       "    </tr>\n",
       "    <tr>\n",
       "      <th>2</th>\n",
       "      <td>A Tree Grows in Brooklyn</td>\n",
       "      <td>5.0</td>\n",
       "      <td>4.250000</td>\n",
       "    </tr>\n",
       "    <tr>\n",
       "      <th>3</th>\n",
       "      <td>Undaunted Courage: The Pioneering First Missio...</td>\n",
       "      <td>2.0</td>\n",
       "      <td>4.000000</td>\n",
       "    </tr>\n",
       "    <tr>\n",
       "      <th>4</th>\n",
       "      <td>American Gods (American Gods  #1)</td>\n",
       "      <td>5.0</td>\n",
       "      <td>4.000000</td>\n",
       "    </tr>\n",
       "    <tr>\n",
       "      <th>...</th>\n",
       "      <td>...</td>\n",
       "      <td>...</td>\n",
       "      <td>...</td>\n",
       "    </tr>\n",
       "    <tr>\n",
       "      <th>995</th>\n",
       "      <td>Possession</td>\n",
       "      <td>3.0</td>\n",
       "      <td>4.000000</td>\n",
       "    </tr>\n",
       "    <tr>\n",
       "      <th>996</th>\n",
       "      <td>A Woman of Substance (Emma Harte Saga #1)</td>\n",
       "      <td>2.0</td>\n",
       "      <td>5.000000</td>\n",
       "    </tr>\n",
       "    <tr>\n",
       "      <th>997</th>\n",
       "      <td>Christine</td>\n",
       "      <td>3.0</td>\n",
       "      <td>3.428571</td>\n",
       "    </tr>\n",
       "    <tr>\n",
       "      <th>998</th>\n",
       "      <td>The Magicians' Guild (Black Magician Trilogy  #1)</td>\n",
       "      <td>2.0</td>\n",
       "      <td>3.500000</td>\n",
       "    </tr>\n",
       "    <tr>\n",
       "      <th>999</th>\n",
       "      <td>The Plot Against America</td>\n",
       "      <td>2.0</td>\n",
       "      <td>3.000000</td>\n",
       "    </tr>\n",
       "  </tbody>\n",
       "</table>\n",
       "<p>1000 rows × 3 columns</p>\n",
       "</div>"
      ],
      "text/plain": [
       "                                                 title  cnt_review  \\\n",
       "0            The Body in the Library (Miss Marple  #3)         2.0   \n",
       "1                                            Galápagos         2.0   \n",
       "2                             A Tree Grows in Brooklyn         5.0   \n",
       "3    Undaunted Courage: The Pioneering First Missio...         2.0   \n",
       "4                    American Gods (American Gods  #1)         5.0   \n",
       "..                                                 ...         ...   \n",
       "995                                         Possession         3.0   \n",
       "996          A Woman of Substance (Emma Harte Saga #1)         2.0   \n",
       "997                                          Christine         3.0   \n",
       "998  The Magicians' Guild (Black Magician Trilogy  #1)         2.0   \n",
       "999                           The Plot Against America         2.0   \n",
       "\n",
       "     avg_raiting  \n",
       "0       4.500000  \n",
       "1       4.500000  \n",
       "2       4.250000  \n",
       "3       4.000000  \n",
       "4       4.000000  \n",
       "..           ...  \n",
       "995     4.000000  \n",
       "996     5.000000  \n",
       "997     3.428571  \n",
       "998     3.500000  \n",
       "999     3.000000  \n",
       "\n",
       "[1000 rows x 3 columns]"
      ]
     },
     "execution_count": 9,
     "metadata": {},
     "output_type": "execute_result"
    }
   ],
   "source": [
    "query = ''' SELECT title, SUM(cnt_review) AS cnt_review, AVG(avg_raiting) AS avg_raiting\n",
    "            FROM books \n",
    "            LEFT JOIN (SELECT book_id, COUNT(review_id) AS cnt_review \n",
    "                        FROM reviews\n",
    "                        GROUP BY book_id) AS sub\n",
    "            ON books.book_id = sub.book_id\n",
    "            LEFT JOIN (SELECT book_id, AVG(rating) AS avg_raiting\n",
    "                        FROM ratings \n",
    "                        GROUP BY book_id) AS sub_2\n",
    "            ON books.book_id = sub_2.book_id\n",
    "            GROUP BY books.book_id\n",
    "        '''\n",
    "pd.io.sql.read_sql(query, con = engine)"
   ]
  },
  {
   "cell_type": "markdown",
   "metadata": {},
   "source": [
    "Из таблицы видно, что для большинства книг было написано несколько обзоров и средний рейтинг варьируются."
   ]
  },
  {
   "cell_type": "markdown",
   "metadata": {},
   "source": [
    "### Определим издательство, которое выпустило наибольшее число книг толще 50 страниц — так мы исключите из анализа брошюры"
   ]
  },
  {
   "cell_type": "code",
   "execution_count": 10,
   "metadata": {},
   "outputs": [
    {
     "data": {
      "text/html": [
       "<div>\n",
       "<style scoped>\n",
       "    .dataframe tbody tr th:only-of-type {\n",
       "        vertical-align: middle;\n",
       "    }\n",
       "\n",
       "    .dataframe tbody tr th {\n",
       "        vertical-align: top;\n",
       "    }\n",
       "\n",
       "    .dataframe thead th {\n",
       "        text-align: right;\n",
       "    }\n",
       "</style>\n",
       "<table border=\"1\" class=\"dataframe\">\n",
       "  <thead>\n",
       "    <tr style=\"text-align: right;\">\n",
       "      <th></th>\n",
       "      <th>publisher_id</th>\n",
       "      <th>publisher</th>\n",
       "      <th>count_books</th>\n",
       "    </tr>\n",
       "  </thead>\n",
       "  <tbody>\n",
       "    <tr>\n",
       "      <th>0</th>\n",
       "      <td>212</td>\n",
       "      <td>Penguin Books</td>\n",
       "      <td>42</td>\n",
       "    </tr>\n",
       "  </tbody>\n",
       "</table>\n",
       "</div>"
      ],
      "text/plain": [
       "   publisher_id      publisher  count_books\n",
       "0           212  Penguin Books           42"
      ]
     },
     "execution_count": 10,
     "metadata": {},
     "output_type": "execute_result"
    }
   ],
   "source": [
    "query = '''\n",
    "            SELECT b.publisher_id, p.publisher, COUNT(*) count_books\n",
    "            FROM books b\n",
    "            LEFT JOIN publishers p ON b.publisher_id = p.publisher_id\n",
    "            WHERE num_pages > 50\n",
    "            GROUP BY b.publisher_id, p.publisher\n",
    "            ORDER BY COUNT(*) DESC\n",
    "            LIMIT 1\n",
    "        '''\n",
    "pd.io.sql.read_sql(query, con = engine)"
   ]
  },
  {
   "cell_type": "markdown",
   "metadata": {},
   "source": [
    "Издательство \"Penguin Books\" выпустило 42 книги толще 50 страниц. "
   ]
  },
  {
   "cell_type": "markdown",
   "metadata": {},
   "source": [
    "### Определим автора с самой высокой средней оценкой книг — учитывая только книги с 50 и более оценками"
   ]
  },
  {
   "cell_type": "code",
   "execution_count": 11,
   "metadata": {},
   "outputs": [
    {
     "data": {
      "text/html": [
       "<div>\n",
       "<style scoped>\n",
       "    .dataframe tbody tr th:only-of-type {\n",
       "        vertical-align: middle;\n",
       "    }\n",
       "\n",
       "    .dataframe tbody tr th {\n",
       "        vertical-align: top;\n",
       "    }\n",
       "\n",
       "    .dataframe thead th {\n",
       "        text-align: right;\n",
       "    }\n",
       "</style>\n",
       "<table border=\"1\" class=\"dataframe\">\n",
       "  <thead>\n",
       "    <tr style=\"text-align: right;\">\n",
       "      <th></th>\n",
       "      <th>автор</th>\n",
       "      <th>средний_рейтинг</th>\n",
       "    </tr>\n",
       "  </thead>\n",
       "  <tbody>\n",
       "    <tr>\n",
       "      <th>0</th>\n",
       "      <td>J.K. Rowling/Mary GrandPré</td>\n",
       "      <td>4.287097</td>\n",
       "    </tr>\n",
       "  </tbody>\n",
       "</table>\n",
       "</div>"
      ],
      "text/plain": [
       "                        автор  средний_рейтинг\n",
       "0  J.K. Rowling/Mary GrandPré         4.287097"
      ]
     },
     "execution_count": 11,
     "metadata": {},
     "output_type": "execute_result"
    }
   ],
   "source": [
    "query = '''\n",
    "SELECT\n",
    "    authors.author AS автор,\n",
    "    AVG(ratings.rating) AS средний_рейтинг\n",
    "    FROM ratings\n",
    "    JOIN books ON books.book_id = ratings.book_id\n",
    "    JOIN authors ON books.author_id = authors.author_id\n",
    "    WHERE ratings.book_id IN (\n",
    "       SELECT ratings.book_id\n",
    "       FROM ratings\n",
    "       GROUP BY ratings.book_id\n",
    "       HAVING COUNT(ratings.book_id) >= 50)\n",
    "    GROUP BY authors.author_id\n",
    "    ORDER BY AVG(ratings.rating) DESC\n",
    "    LIMIT 1'''\n",
    "pd.io.sql.read_sql(query, con = engine)"
   ]
  },
  {
   "cell_type": "markdown",
   "metadata": {},
   "source": [
    "Автор с самой высокой оценкой - Джоан Роулинг, автор книг о Гарри Поттере. Это действительно мировой бестселлер вышедший рекордным тиражом."
   ]
  },
  {
   "cell_type": "markdown",
   "metadata": {},
   "source": [
    "### Посчитаем среднее количество обзоров от пользователей, которые поставили больше 48 оценок"
   ]
  },
  {
   "cell_type": "code",
   "execution_count": 12,
   "metadata": {},
   "outputs": [
    {
     "data": {
      "text/html": [
       "<div>\n",
       "<style scoped>\n",
       "    .dataframe tbody tr th:only-of-type {\n",
       "        vertical-align: middle;\n",
       "    }\n",
       "\n",
       "    .dataframe tbody tr th {\n",
       "        vertical-align: top;\n",
       "    }\n",
       "\n",
       "    .dataframe thead th {\n",
       "        text-align: right;\n",
       "    }\n",
       "</style>\n",
       "<table border=\"1\" class=\"dataframe\">\n",
       "  <thead>\n",
       "    <tr style=\"text-align: right;\">\n",
       "      <th></th>\n",
       "      <th>avg_reviews_count</th>\n",
       "    </tr>\n",
       "  </thead>\n",
       "  <tbody>\n",
       "    <tr>\n",
       "      <th>0</th>\n",
       "      <td>24.0</td>\n",
       "    </tr>\n",
       "  </tbody>\n",
       "</table>\n",
       "</div>"
      ],
      "text/plain": [
       "   avg_reviews_count\n",
       "0               24.0"
      ]
     },
     "execution_count": 12,
     "metadata": {},
     "output_type": "execute_result"
    }
   ],
   "source": [
    "query = '''\n",
    "\n",
    "  SELECT AVG (reviews_count) as avg_reviews_count\n",
    "  FROM ( \n",
    "        SELECT username,\n",
    "        COUNT(review_id) as reviews_count\n",
    "        FROM reviews\n",
    "        GROUP BY username\n",
    "        HAVING username IN (\n",
    "                            SELECT username\n",
    "                            FROM ratings\n",
    "                            GROUP BY username\n",
    "                            HAVING COUNT (rating_id) > 48\n",
    "                            )\n",
    "                            \n",
    "                            \n",
    "        ) as reviews\n",
    "  \n",
    "  '''\n",
    "pd.io.sql.read_sql(query, con = engine)"
   ]
  },
  {
   "cell_type": "markdown",
   "metadata": {},
   "source": [
    "Читатели, которые поставили больше 48 оценок, в среднем пишут по 24 обзора"
   ]
  },
  {
   "cell_type": "markdown",
   "metadata": {},
   "source": [
    "**Вывод:**\n",
    "\n",
    "В нашем распоряжении было 5 таблиц:\n",
    "\n",
    "books - содержит 1000 строк и 6 столбцов, содержит данные о книгах;\n",
    "authors - содержит 636 строк и 2 столбца, содержит данные об авторах;\n",
    "publishers - содержит 340 строк, 2 столбца, содержит данные об издательствах;\n",
    "rating - содержит 6456 строк, 4 столбца, содержит данные о пользовательских обзорах;\n",
    "reviews - содержит 2793 строки, 4 столбца, содержит данные о пользовательских обзорах.\n",
    "В ходе работы были даны ответы на 5 поставленных вопросов:\n",
    "\n",
    "Cколько книг вышло после 1 января 2000 года? с 1 января 2000 года, в базе хранится информация о 819 книгах\n",
    "\n",
    "Для каждой книги посчитайте количество обзоров и среднюю оценку: из таблицы видно, что для большинства книг было написано несколько обзоров и средний рейтинг варьируются.\n",
    "\n",
    "Определить издательство, которое выпустило наибольшее число книг толще 50 страниц — таким образом исключим из анализа брошюры. Издательство \"Penguin Books\" выпустило 42 книги толще 50 страниц. \n",
    "\n",
    "Определить автора с самой высокой средней оценкой книг — учитывать только книги с 50 и более оценками. Автор с самой высокой оценкой - Джоан Роулинг, автор книг о Гарри Поттере. Это действительно мировой бестселлер вышедший рекордным тиражом.\n",
    "\n",
    "Посчитать среднее количество обзоров от пользователей, которые поставили больше 50 оценок.Таким образом среднее количество обзоров от активных пользователей. При подсчете было выявлено - 24 обзора."
   ]
  },
  {
   "cell_type": "markdown",
   "metadata": {},
   "source": [
    "1. Выведите таблицу, которая будет содержать по году публикации:\n",
    "количество издательств,\n",
    "выпущенных книг и\n",
    "сколько всего тысяч страниц было в изданных книгах\n",
    "(отобразить только те года, в которых издано более 30 книг)"
   ]
  },
  {
   "cell_type": "code",
   "execution_count": 13,
   "metadata": {},
   "outputs": [
    {
     "data": {
      "text/html": [
       "<div>\n",
       "<style scoped>\n",
       "    .dataframe tbody tr th:only-of-type {\n",
       "        vertical-align: middle;\n",
       "    }\n",
       "\n",
       "    .dataframe tbody tr th {\n",
       "        vertical-align: top;\n",
       "    }\n",
       "\n",
       "    .dataframe thead th {\n",
       "        text-align: right;\n",
       "    }\n",
       "</style>\n",
       "<table border=\"1\" class=\"dataframe\">\n",
       "  <thead>\n",
       "    <tr style=\"text-align: right;\">\n",
       "      <th></th>\n",
       "      <th>publication_year</th>\n",
       "      <th>num_publishers</th>\n",
       "      <th>num_books</th>\n",
       "      <th>total_pages_in_thousands</th>\n",
       "    </tr>\n",
       "  </thead>\n",
       "  <tbody>\n",
       "    <tr>\n",
       "      <th>0</th>\n",
       "      <td>1999.0</td>\n",
       "      <td>26</td>\n",
       "      <td>41</td>\n",
       "      <td>15.763</td>\n",
       "    </tr>\n",
       "    <tr>\n",
       "      <th>1</th>\n",
       "      <td>2000.0</td>\n",
       "      <td>35</td>\n",
       "      <td>38</td>\n",
       "      <td>13.328</td>\n",
       "    </tr>\n",
       "    <tr>\n",
       "      <th>2</th>\n",
       "      <td>2001.0</td>\n",
       "      <td>41</td>\n",
       "      <td>60</td>\n",
       "      <td>21.758</td>\n",
       "    </tr>\n",
       "    <tr>\n",
       "      <th>3</th>\n",
       "      <td>2002.0</td>\n",
       "      <td>62</td>\n",
       "      <td>94</td>\n",
       "      <td>38.597</td>\n",
       "    </tr>\n",
       "    <tr>\n",
       "      <th>4</th>\n",
       "      <td>2003.0</td>\n",
       "      <td>65</td>\n",
       "      <td>105</td>\n",
       "      <td>41.423</td>\n",
       "    </tr>\n",
       "    <tr>\n",
       "      <th>5</th>\n",
       "      <td>2004.0</td>\n",
       "      <td>88</td>\n",
       "      <td>124</td>\n",
       "      <td>46.779</td>\n",
       "    </tr>\n",
       "    <tr>\n",
       "      <th>6</th>\n",
       "      <td>2005.0</td>\n",
       "      <td>89</td>\n",
       "      <td>139</td>\n",
       "      <td>55.967</td>\n",
       "    </tr>\n",
       "    <tr>\n",
       "      <th>7</th>\n",
       "      <td>2006.0</td>\n",
       "      <td>109</td>\n",
       "      <td>184</td>\n",
       "      <td>68.302</td>\n",
       "    </tr>\n",
       "    <tr>\n",
       "      <th>8</th>\n",
       "      <td>2007.0</td>\n",
       "      <td>38</td>\n",
       "      <td>50</td>\n",
       "      <td>18.258</td>\n",
       "    </tr>\n",
       "  </tbody>\n",
       "</table>\n",
       "</div>"
      ],
      "text/plain": [
       "   publication_year  num_publishers  num_books  total_pages_in_thousands\n",
       "0            1999.0              26         41                    15.763\n",
       "1            2000.0              35         38                    13.328\n",
       "2            2001.0              41         60                    21.758\n",
       "3            2002.0              62         94                    38.597\n",
       "4            2003.0              65        105                    41.423\n",
       "5            2004.0              88        124                    46.779\n",
       "6            2005.0              89        139                    55.967\n",
       "7            2006.0             109        184                    68.302\n",
       "8            2007.0              38         50                    18.258"
      ]
     },
     "execution_count": 13,
     "metadata": {},
     "output_type": "execute_result"
    }
   ],
   "source": [
    "query = '''\n",
    "\n",
    "SELECT\n",
    "    EXTRACT(YEAR FROM b.publication_date) AS publication_year,\n",
    "    COUNT(DISTINCT b.publisher_id) AS num_publishers,\n",
    "    COUNT(*) AS num_books,\n",
    "    SUM(b.num_pages) / 1000.0 AS total_pages_in_thousands\n",
    "FROM\n",
    "    books AS b\n",
    "GROUP BY\n",
    "    publication_year\n",
    "HAVING\n",
    "    COUNT(*) > 30\n",
    "ORDER BY\n",
    "    publication_year;\n",
    "'''\n",
    "pd.io.sql.read_sql(query, con = engine)"
   ]
  },
  {
   "cell_type": "markdown",
   "metadata": {},
   "source": [
    "2. Выведите в одной таблице два числа — среднюю оценку тех книг, на которые написало отзывов более 3 человек и отдельно среднюю оценку остальных книг, сделайте выводы какой рейтинг больше"
   ]
  },
  {
   "cell_type": "code",
   "execution_count": 14,
   "metadata": {},
   "outputs": [
    {
     "data": {
      "text/html": [
       "<div>\n",
       "<style scoped>\n",
       "    .dataframe tbody tr th:only-of-type {\n",
       "        vertical-align: middle;\n",
       "    }\n",
       "\n",
       "    .dataframe tbody tr th {\n",
       "        vertical-align: top;\n",
       "    }\n",
       "\n",
       "    .dataframe thead th {\n",
       "        text-align: right;\n",
       "    }\n",
       "</style>\n",
       "<table border=\"1\" class=\"dataframe\">\n",
       "  <thead>\n",
       "    <tr style=\"text-align: right;\">\n",
       "      <th></th>\n",
       "      <th>average_rating</th>\n",
       "    </tr>\n",
       "  </thead>\n",
       "  <tbody>\n",
       "    <tr>\n",
       "      <th>0</th>\n",
       "      <td>3.890909</td>\n",
       "    </tr>\n",
       "    <tr>\n",
       "      <th>1</th>\n",
       "      <td>3.938398</td>\n",
       "    </tr>\n",
       "  </tbody>\n",
       "</table>\n",
       "</div>"
      ],
      "text/plain": [
       "   average_rating\n",
       "0        3.890909\n",
       "1        3.938398"
      ]
     },
     "execution_count": 14,
     "metadata": {},
     "output_type": "execute_result"
    }
   ],
   "source": [
    "query = '''\n",
    "SELECT\n",
    "    AVG(r.rating) AS average_rating\n",
    "FROM\n",
    "    ratings AS r\n",
    "WHERE\n",
    "    r.book_id NOT IN (\n",
    "        SELECT\n",
    "            r2.book_id\n",
    "        FROM\n",
    "            ratings AS r2\n",
    "        GROUP BY\n",
    "            r2.book_id\n",
    "        HAVING\n",
    "            COUNT(DISTINCT r2.username) > 3)\n",
    "UNION\n",
    "\n",
    "SELECT\n",
    "    AVG(r.rating) AS average_rating\n",
    "FROM\n",
    "    ratings AS r\n",
    "WHERE\n",
    "    r.book_id IN (\n",
    "        SELECT\n",
    "            r2.book_id\n",
    "        FROM\n",
    "            ratings AS r2\n",
    "        GROUP BY\n",
    "            r2.book_id\n",
    "        HAVING\n",
    "            COUNT(DISTINCT r2.username) > 3)\n",
    "    \n",
    "'''\n",
    "pd.io.sql.read_sql(query, con = engine)"
   ]
  },
  {
   "cell_type": "markdown",
   "metadata": {},
   "source": [
    "3 Выведите топ семь пользователей по суммарному показателю написанных ревью и поставленных оценок, указывая суммарное количество страниц в книгах, на которые они отреагировали"
   ]
  },
  {
   "cell_type": "code",
   "execution_count": 21,
   "metadata": {
    "scrolled": true
   },
   "outputs": [
    {
     "data": {
      "text/html": [
       "<div>\n",
       "<style scoped>\n",
       "    .dataframe tbody tr th:only-of-type {\n",
       "        vertical-align: middle;\n",
       "    }\n",
       "\n",
       "    .dataframe tbody tr th {\n",
       "        vertical-align: top;\n",
       "    }\n",
       "\n",
       "    .dataframe thead th {\n",
       "        text-align: right;\n",
       "    }\n",
       "</style>\n",
       "<table border=\"1\" class=\"dataframe\">\n",
       "  <thead>\n",
       "    <tr style=\"text-align: right;\">\n",
       "      <th></th>\n",
       "      <th>username</th>\n",
       "      <th>total_sum</th>\n",
       "      <th>total_pages_reviewed</th>\n",
       "    </tr>\n",
       "  </thead>\n",
       "  <tbody>\n",
       "    <tr>\n",
       "      <th>0</th>\n",
       "      <td>martinadam</td>\n",
       "      <td>83</td>\n",
       "      <td>21213</td>\n",
       "    </tr>\n",
       "    <tr>\n",
       "      <th>1</th>\n",
       "      <td>sfitzgerald</td>\n",
       "      <td>83</td>\n",
       "      <td>20938</td>\n",
       "    </tr>\n",
       "    <tr>\n",
       "      <th>2</th>\n",
       "      <td>richard89</td>\n",
       "      <td>81</td>\n",
       "      <td>21013</td>\n",
       "    </tr>\n",
       "    <tr>\n",
       "      <th>3</th>\n",
       "      <td>paul88</td>\n",
       "      <td>78</td>\n",
       "      <td>22060</td>\n",
       "    </tr>\n",
       "    <tr>\n",
       "      <th>4</th>\n",
       "      <td>jennifermiller</td>\n",
       "      <td>78</td>\n",
       "      <td>20932</td>\n",
       "    </tr>\n",
       "    <tr>\n",
       "      <th>5</th>\n",
       "      <td>susan85</td>\n",
       "      <td>78</td>\n",
       "      <td>19266</td>\n",
       "    </tr>\n",
       "    <tr>\n",
       "      <th>6</th>\n",
       "      <td>lesliegibbs</td>\n",
       "      <td>76</td>\n",
       "      <td>18113</td>\n",
       "    </tr>\n",
       "  </tbody>\n",
       "</table>\n",
       "</div>"
      ],
      "text/plain": [
       "         username  total_sum  total_pages_reviewed\n",
       "0      martinadam         83                 21213\n",
       "1     sfitzgerald         83                 20938\n",
       "2       richard89         81                 21013\n",
       "3          paul88         78                 22060\n",
       "4  jennifermiller         78                 20932\n",
       "5         susan85         78                 19266\n",
       "6     lesliegibbs         76                 18113"
      ]
     },
     "execution_count": 21,
     "metadata": {},
     "output_type": "execute_result"
    }
   ],
   "source": [
    "query = '''\n",
    "\n",
    "SELECT username,\n",
    "       total_reviews+count_scores AS total_sum,\n",
    "       total_pages_reviewed\n",
    "FROM\n",
    "(SELECT rat.username,\n",
    "       COUNT(rev.review_id) AS total_reviews,\n",
    "       COUNT(rat.rating_id) AS count_scores,\n",
    "       SUM(num_pages) AS total_pages_reviewed\n",
    "FROM BOOKS AS b\n",
    "LEFT JOIN ratings AS rat ON b.book_id = rat.book_id\n",
    "LEFT JOIN reviews AS rev ON rat.book_id = rev.book_id AND rat.username = rev.username \n",
    "\n",
    "GROUP BY rat.username) AS my_table\n",
    "ORDER BY total_sum DESC\n",
    "LIMIT 7\n",
    "'''\n",
    "pd.io.sql.read_sql(query, con = engine)"
   ]
  }
 ],
 "metadata": {
  "ExecuteTimeLog": [
   {
    "duration": 4733,
    "start_time": "2023-10-07T07:57:22.219Z"
   },
   {
    "duration": 10523,
    "start_time": "2023-10-07T07:57:26.954Z"
   },
   {
    "duration": 29,
    "start_time": "2023-10-07T07:57:37.479Z"
   },
   {
    "duration": 29,
    "start_time": "2023-10-07T07:57:37.510Z"
   },
   {
    "duration": 30,
    "start_time": "2023-10-07T07:57:37.541Z"
   },
   {
    "duration": 31,
    "start_time": "2023-10-07T07:57:37.573Z"
   },
   {
    "duration": 2,
    "start_time": "2023-10-07T07:57:37.606Z"
   },
   {
    "duration": 55,
    "start_time": "2023-10-07T07:57:37.610Z"
   },
   {
    "duration": 113,
    "start_time": "2023-10-07T12:15:47.937Z"
   },
   {
    "duration": 39,
    "start_time": "2023-10-07T12:16:51.796Z"
   },
   {
    "duration": 30,
    "start_time": "2023-10-07T12:20:00.980Z"
   },
   {
    "duration": 8,
    "start_time": "2023-10-07T19:18:10.661Z"
   },
   {
    "duration": 34,
    "start_time": "2023-10-07T19:18:26.765Z"
   },
   {
    "duration": 30,
    "start_time": "2023-10-07T19:18:35.634Z"
   },
   {
    "duration": 4275,
    "start_time": "2023-10-09T19:50:40.879Z"
   },
   {
    "duration": 11601,
    "start_time": "2023-10-09T19:50:45.157Z"
   },
   {
    "duration": 30,
    "start_time": "2023-10-09T19:50:56.760Z"
   },
   {
    "duration": 30,
    "start_time": "2023-10-09T19:50:56.791Z"
   },
   {
    "duration": 31,
    "start_time": "2023-10-09T19:50:56.822Z"
   },
   {
    "duration": 34,
    "start_time": "2023-10-09T19:50:56.855Z"
   },
   {
    "duration": 2,
    "start_time": "2023-10-09T19:50:56.891Z"
   },
   {
    "duration": 36,
    "start_time": "2023-10-09T19:50:56.894Z"
   },
   {
    "duration": 32,
    "start_time": "2023-10-09T19:50:56.931Z"
   },
   {
    "duration": 32,
    "start_time": "2023-10-09T19:50:56.964Z"
   },
   {
    "duration": 182,
    "start_time": "2023-10-09T19:51:07.993Z"
   },
   {
    "duration": 85,
    "start_time": "2023-10-09T19:53:21.694Z"
   },
   {
    "duration": 106,
    "start_time": "2023-10-09T19:54:42.482Z"
   },
   {
    "duration": 3,
    "start_time": "2023-10-09T19:56:31.428Z"
   },
   {
    "duration": 77,
    "start_time": "2023-10-09T19:56:39.813Z"
   },
   {
    "duration": 123,
    "start_time": "2023-10-09T20:01:58.941Z"
   },
   {
    "duration": 4166,
    "start_time": "2023-10-09T20:03:12.618Z"
   },
   {
    "duration": 16443,
    "start_time": "2023-10-09T20:03:16.787Z"
   },
   {
    "duration": 33,
    "start_time": "2023-10-09T20:03:33.235Z"
   },
   {
    "duration": 30,
    "start_time": "2023-10-09T20:03:33.269Z"
   },
   {
    "duration": 31,
    "start_time": "2023-10-09T20:03:33.301Z"
   },
   {
    "duration": 35,
    "start_time": "2023-10-09T20:03:33.334Z"
   },
   {
    "duration": 5,
    "start_time": "2023-10-09T20:03:33.370Z"
   },
   {
    "duration": 40,
    "start_time": "2023-10-09T20:03:33.376Z"
   },
   {
    "duration": 32,
    "start_time": "2023-10-09T20:03:33.419Z"
   },
   {
    "duration": 225,
    "start_time": "2023-10-09T20:03:33.453Z"
   },
   {
    "duration": 76,
    "start_time": "2023-10-09T20:03:33.680Z"
   },
   {
    "duration": 80,
    "start_time": "2023-10-09T20:03:33.757Z"
   },
   {
    "duration": 79,
    "start_time": "2023-10-09T20:03:33.838Z"
   },
   {
    "duration": 4481,
    "start_time": "2023-10-09T20:11:39.336Z"
   },
   {
    "duration": 11143,
    "start_time": "2023-10-09T20:11:43.820Z"
   },
   {
    "duration": 33,
    "start_time": "2023-10-09T20:11:54.965Z"
   },
   {
    "duration": 33,
    "start_time": "2023-10-09T20:11:55.000Z"
   },
   {
    "duration": 34,
    "start_time": "2023-10-09T20:11:55.036Z"
   },
   {
    "duration": 31,
    "start_time": "2023-10-09T20:11:55.072Z"
   },
   {
    "duration": 32,
    "start_time": "2023-10-09T20:11:55.106Z"
   },
   {
    "duration": 31,
    "start_time": "2023-10-09T20:11:55.139Z"
   },
   {
    "duration": 199,
    "start_time": "2023-10-09T20:11:55.171Z"
   },
   {
    "duration": 79,
    "start_time": "2023-10-09T20:11:55.372Z"
   },
   {
    "duration": 82,
    "start_time": "2023-10-09T20:11:55.453Z"
   },
   {
    "duration": 79,
    "start_time": "2023-10-09T20:11:55.537Z"
   },
   {
    "duration": 46,
    "start_time": "2023-10-10T06:20:22.817Z"
   },
   {
    "duration": 6,
    "start_time": "2023-10-10T06:20:25.945Z"
   },
   {
    "duration": 4948,
    "start_time": "2023-10-10T06:20:30.343Z"
   },
   {
    "duration": 10838,
    "start_time": "2023-10-10T06:20:35.293Z"
   },
   {
    "duration": 12,
    "start_time": "2023-10-10T06:20:46.133Z"
   },
   {
    "duration": 9,
    "start_time": "2023-10-10T06:20:46.148Z"
   },
   {
    "duration": 15,
    "start_time": "2023-10-10T06:20:46.158Z"
   },
   {
    "duration": 11,
    "start_time": "2023-10-10T06:20:46.175Z"
   },
   {
    "duration": 23,
    "start_time": "2023-10-10T06:20:46.188Z"
   },
   {
    "duration": 12,
    "start_time": "2023-10-10T06:20:46.214Z"
   },
   {
    "duration": 87,
    "start_time": "2023-10-10T06:20:46.228Z"
   },
   {
    "duration": 16,
    "start_time": "2023-10-10T06:20:46.317Z"
   },
   {
    "duration": 17,
    "start_time": "2023-10-10T06:20:46.335Z"
   },
   {
    "duration": 14,
    "start_time": "2023-10-10T06:20:46.354Z"
   },
   {
    "duration": 86,
    "start_time": "2023-10-10T06:26:34.207Z"
   },
   {
    "duration": 15,
    "start_time": "2023-10-10T06:26:50.174Z"
   },
   {
    "duration": 16,
    "start_time": "2023-10-10T06:27:32.891Z"
   },
   {
    "duration": 174,
    "start_time": "2023-10-10T06:28:19.507Z"
   },
   {
    "duration": 17,
    "start_time": "2023-10-10T06:28:40.833Z"
   },
   {
    "duration": 113,
    "start_time": "2023-10-10T06:28:41.819Z"
   },
   {
    "duration": 117,
    "start_time": "2023-10-10T06:29:36.959Z"
   },
   {
    "duration": 4225,
    "start_time": "2023-10-10T06:29:45.889Z"
   },
   {
    "duration": 9451,
    "start_time": "2023-10-10T06:29:50.117Z"
   },
   {
    "duration": 9,
    "start_time": "2023-10-10T06:29:59.569Z"
   },
   {
    "duration": 21,
    "start_time": "2023-10-10T06:29:59.580Z"
   },
   {
    "duration": 10,
    "start_time": "2023-10-10T06:29:59.603Z"
   },
   {
    "duration": 20,
    "start_time": "2023-10-10T06:29:59.615Z"
   },
   {
    "duration": 26,
    "start_time": "2023-10-10T06:29:59.637Z"
   },
   {
    "duration": 11,
    "start_time": "2023-10-10T06:29:59.665Z"
   },
   {
    "duration": 65,
    "start_time": "2023-10-10T06:29:59.678Z"
   },
   {
    "duration": 12,
    "start_time": "2023-10-10T06:29:59.746Z"
   },
   {
    "duration": 25,
    "start_time": "2023-10-10T06:29:59.760Z"
   },
   {
    "duration": 14,
    "start_time": "2023-10-10T06:29:59.786Z"
   },
   {
    "duration": 16,
    "start_time": "2023-10-10T06:29:59.802Z"
   },
   {
    "duration": 15,
    "start_time": "2023-10-10T06:29:59.819Z"
   },
   {
    "duration": 355,
    "start_time": "2023-10-10T06:29:59.835Z"
   },
   {
    "duration": 49,
    "start_time": "2023-10-10T07:13:39.351Z"
   },
   {
    "duration": 141,
    "start_time": "2023-10-10T07:14:21.497Z"
   },
   {
    "duration": 48,
    "start_time": "2023-10-10T07:14:35.123Z"
   },
   {
    "duration": 26,
    "start_time": "2023-10-10T07:18:02.443Z"
   },
   {
    "duration": 25,
    "start_time": "2023-10-10T07:18:09.922Z"
   },
   {
    "duration": 23,
    "start_time": "2023-10-10T07:18:24.565Z"
   },
   {
    "duration": 52,
    "start_time": "2023-10-11T06:29:51.111Z"
   },
   {
    "duration": 4635,
    "start_time": "2023-10-11T06:30:09.431Z"
   },
   {
    "duration": 14266,
    "start_time": "2023-10-11T06:30:14.068Z"
   },
   {
    "duration": 33,
    "start_time": "2023-10-11T06:30:28.336Z"
   },
   {
    "duration": 31,
    "start_time": "2023-10-11T06:30:28.371Z"
   },
   {
    "duration": 33,
    "start_time": "2023-10-11T06:30:28.403Z"
   },
   {
    "duration": 33,
    "start_time": "2023-10-11T06:30:28.438Z"
   },
   {
    "duration": 31,
    "start_time": "2023-10-11T06:30:28.473Z"
   },
   {
    "duration": 30,
    "start_time": "2023-10-11T06:30:28.505Z"
   },
   {
    "duration": 187,
    "start_time": "2023-10-11T06:30:28.536Z"
   },
   {
    "duration": 77,
    "start_time": "2023-10-11T06:30:28.727Z"
   },
   {
    "duration": 81,
    "start_time": "2023-10-11T06:30:28.806Z"
   },
   {
    "duration": 78,
    "start_time": "2023-10-11T06:30:28.888Z"
   },
   {
    "duration": 78,
    "start_time": "2023-10-11T06:30:28.968Z"
   },
   {
    "duration": 264,
    "start_time": "2023-10-11T06:30:29.048Z"
   },
   {
    "duration": 0,
    "start_time": "2023-10-11T06:30:29.313Z"
   },
   {
    "duration": 0,
    "start_time": "2023-10-11T06:30:29.315Z"
   },
   {
    "duration": 79,
    "start_time": "2023-10-11T06:30:36.179Z"
   },
   {
    "duration": 184,
    "start_time": "2023-10-11T06:31:00.513Z"
   },
   {
    "duration": 388,
    "start_time": "2023-10-11T06:31:29.052Z"
   },
   {
    "duration": 163,
    "start_time": "2023-10-11T06:31:59.347Z"
   },
   {
    "duration": 169,
    "start_time": "2023-10-11T06:32:28.937Z"
   },
   {
    "duration": 80,
    "start_time": "2023-10-11T06:32:42.756Z"
   },
   {
    "duration": 79,
    "start_time": "2023-10-11T06:33:10.168Z"
   },
   {
    "duration": 183,
    "start_time": "2023-10-11T06:42:16.578Z"
   },
   {
    "duration": 87,
    "start_time": "2023-10-11T06:43:34.691Z"
   },
   {
    "duration": 75,
    "start_time": "2023-10-11T07:01:44.549Z"
   },
   {
    "duration": 135,
    "start_time": "2023-10-11T07:04:44.534Z"
   },
   {
    "duration": 906,
    "start_time": "2023-10-11T07:31:25.484Z"
   },
   {
    "duration": 830,
    "start_time": "2023-10-11T07:32:31.724Z"
   },
   {
    "duration": 204,
    "start_time": "2023-10-11T07:36:26.762Z"
   },
   {
    "duration": 145,
    "start_time": "2023-10-11T07:37:14.880Z"
   },
   {
    "duration": 172,
    "start_time": "2023-10-11T07:57:12.569Z"
   },
   {
    "duration": 1155,
    "start_time": "2023-10-11T07:57:41.244Z"
   },
   {
    "duration": 89,
    "start_time": "2023-10-11T08:03:30.130Z"
   },
   {
    "duration": 112,
    "start_time": "2023-10-11T08:03:43.564Z"
   },
   {
    "duration": 233,
    "start_time": "2023-10-11T08:07:04.068Z"
   },
   {
    "duration": 157,
    "start_time": "2023-10-11T08:07:15.492Z"
   },
   {
    "duration": 84,
    "start_time": "2023-10-11T08:08:10.465Z"
   },
   {
    "duration": 83,
    "start_time": "2023-10-11T08:10:01.280Z"
   },
   {
    "duration": 81,
    "start_time": "2023-10-11T08:10:24.993Z"
   },
   {
    "duration": 80,
    "start_time": "2023-10-11T08:11:28.800Z"
   },
   {
    "duration": 89,
    "start_time": "2023-10-11T08:12:29.765Z"
   },
   {
    "duration": 83,
    "start_time": "2023-10-11T08:30:16.228Z"
   },
   {
    "duration": 86,
    "start_time": "2023-10-11T08:30:54.323Z"
   },
   {
    "duration": 85,
    "start_time": "2023-10-11T08:31:12.400Z"
   },
   {
    "duration": 84,
    "start_time": "2023-10-11T08:32:00.745Z"
   },
   {
    "duration": 89,
    "start_time": "2023-10-11T08:32:11.522Z"
   },
   {
    "duration": 84,
    "start_time": "2023-10-11T08:34:19.320Z"
   },
   {
    "duration": 108,
    "start_time": "2023-10-11T11:42:44.680Z"
   },
   {
    "duration": 101,
    "start_time": "2023-10-11T11:42:50.577Z"
   },
   {
    "duration": 4793,
    "start_time": "2023-10-11T11:43:32.174Z"
   },
   {
    "duration": 20065,
    "start_time": "2023-10-11T11:43:36.971Z"
   },
   {
    "duration": 48,
    "start_time": "2023-10-11T11:43:57.037Z"
   },
   {
    "duration": 30,
    "start_time": "2023-10-11T11:43:57.087Z"
   },
   {
    "duration": 38,
    "start_time": "2023-10-11T11:43:57.119Z"
   },
   {
    "duration": 40,
    "start_time": "2023-10-11T11:43:57.160Z"
   },
   {
    "duration": 30,
    "start_time": "2023-10-11T11:43:57.202Z"
   },
   {
    "duration": 45,
    "start_time": "2023-10-11T11:43:57.234Z"
   },
   {
    "duration": 244,
    "start_time": "2023-10-11T11:43:57.281Z"
   },
   {
    "duration": 96,
    "start_time": "2023-10-11T11:43:57.527Z"
   },
   {
    "duration": 94,
    "start_time": "2023-10-11T11:43:57.625Z"
   },
   {
    "duration": 97,
    "start_time": "2023-10-11T11:43:57.721Z"
   },
   {
    "duration": 98,
    "start_time": "2023-10-11T11:43:57.819Z"
   },
   {
    "duration": 109,
    "start_time": "2023-10-11T11:43:57.919Z"
   },
   {
    "duration": 99,
    "start_time": "2023-10-11T11:43:58.030Z"
   },
   {
    "duration": 5003,
    "start_time": "2023-10-11T11:44:56.674Z"
   },
   {
    "duration": 4567,
    "start_time": "2023-10-11T11:45:23.318Z"
   },
   {
    "duration": 15750,
    "start_time": "2023-10-11T11:45:27.887Z"
   },
   {
    "duration": 54,
    "start_time": "2023-10-11T11:45:43.639Z"
   },
   {
    "duration": 29,
    "start_time": "2023-10-11T11:45:43.695Z"
   },
   {
    "duration": 41,
    "start_time": "2023-10-11T11:45:43.725Z"
   },
   {
    "duration": 39,
    "start_time": "2023-10-11T11:45:43.768Z"
   },
   {
    "duration": 34,
    "start_time": "2023-10-11T11:45:43.808Z"
   },
   {
    "duration": 40,
    "start_time": "2023-10-11T11:45:43.844Z"
   },
   {
    "duration": 216,
    "start_time": "2023-10-11T11:45:43.886Z"
   },
   {
    "duration": 91,
    "start_time": "2023-10-11T11:45:44.105Z"
   },
   {
    "duration": 93,
    "start_time": "2023-10-11T11:45:44.198Z"
   },
   {
    "duration": 94,
    "start_time": "2023-10-11T11:45:44.293Z"
   },
   {
    "duration": 123,
    "start_time": "2023-10-11T11:45:44.389Z"
   },
   {
    "duration": 107,
    "start_time": "2023-10-11T11:45:44.514Z"
   },
   {
    "duration": 93,
    "start_time": "2023-10-11T11:45:44.622Z"
   },
   {
    "duration": 44,
    "start_time": "2023-10-11T20:47:44.961Z"
   },
   {
    "duration": 4076,
    "start_time": "2023-10-11T20:47:54.339Z"
   },
   {
    "duration": 9817,
    "start_time": "2023-10-11T20:47:58.417Z"
   },
   {
    "duration": 30,
    "start_time": "2023-10-11T20:48:08.235Z"
   },
   {
    "duration": 29,
    "start_time": "2023-10-11T20:48:08.266Z"
   },
   {
    "duration": 29,
    "start_time": "2023-10-11T20:48:08.297Z"
   },
   {
    "duration": 31,
    "start_time": "2023-10-11T20:48:08.328Z"
   },
   {
    "duration": 29,
    "start_time": "2023-10-11T20:48:08.361Z"
   },
   {
    "duration": 28,
    "start_time": "2023-10-11T20:48:08.392Z"
   },
   {
    "duration": 193,
    "start_time": "2023-10-11T20:48:08.421Z"
   },
   {
    "duration": 76,
    "start_time": "2023-10-11T20:48:08.615Z"
   },
   {
    "duration": 78,
    "start_time": "2023-10-11T20:48:08.693Z"
   },
   {
    "duration": 76,
    "start_time": "2023-10-11T20:48:08.773Z"
   },
   {
    "duration": 79,
    "start_time": "2023-10-11T20:48:08.850Z"
   },
   {
    "duration": 85,
    "start_time": "2023-10-11T20:48:08.930Z"
   },
   {
    "duration": 80,
    "start_time": "2023-10-11T20:48:09.016Z"
   },
   {
    "duration": 81,
    "start_time": "2023-10-11T20:52:40.532Z"
   },
   {
    "duration": 212,
    "start_time": "2023-10-11T20:52:59.723Z"
   },
   {
    "duration": 82,
    "start_time": "2023-10-11T20:53:11.108Z"
   },
   {
    "duration": 4971,
    "start_time": "2023-10-12T05:25:26.878Z"
   },
   {
    "duration": 10500,
    "start_time": "2023-10-12T05:25:31.851Z"
   },
   {
    "duration": 30,
    "start_time": "2023-10-12T05:25:42.353Z"
   },
   {
    "duration": 36,
    "start_time": "2023-10-12T05:25:42.385Z"
   },
   {
    "duration": 33,
    "start_time": "2023-10-12T05:25:42.423Z"
   },
   {
    "duration": 33,
    "start_time": "2023-10-12T05:25:42.457Z"
   },
   {
    "duration": 32,
    "start_time": "2023-10-12T05:25:42.491Z"
   },
   {
    "duration": 31,
    "start_time": "2023-10-12T05:25:42.524Z"
   },
   {
    "duration": 185,
    "start_time": "2023-10-12T05:25:42.556Z"
   },
   {
    "duration": 75,
    "start_time": "2023-10-12T05:25:42.744Z"
   },
   {
    "duration": 79,
    "start_time": "2023-10-12T05:25:42.821Z"
   },
   {
    "duration": 80,
    "start_time": "2023-10-12T05:25:42.902Z"
   },
   {
    "duration": 78,
    "start_time": "2023-10-12T05:25:42.984Z"
   },
   {
    "duration": 100,
    "start_time": "2023-10-12T05:25:43.064Z"
   },
   {
    "duration": 81,
    "start_time": "2023-10-12T05:25:43.166Z"
   },
   {
    "duration": 81,
    "start_time": "2023-10-12T05:26:35.791Z"
   },
   {
    "duration": 80,
    "start_time": "2023-10-12T05:26:46.481Z"
   },
   {
    "duration": 4551,
    "start_time": "2023-10-12T05:26:58.197Z"
   },
   {
    "duration": 13556,
    "start_time": "2023-10-12T05:27:02.750Z"
   },
   {
    "duration": 31,
    "start_time": "2023-10-12T05:27:16.307Z"
   },
   {
    "duration": 31,
    "start_time": "2023-10-12T05:27:16.340Z"
   },
   {
    "duration": 32,
    "start_time": "2023-10-12T05:27:16.373Z"
   },
   {
    "duration": 31,
    "start_time": "2023-10-12T05:27:16.407Z"
   },
   {
    "duration": 31,
    "start_time": "2023-10-12T05:27:16.441Z"
   },
   {
    "duration": 30,
    "start_time": "2023-10-12T05:27:16.474Z"
   },
   {
    "duration": 180,
    "start_time": "2023-10-12T05:27:16.506Z"
   },
   {
    "duration": 76,
    "start_time": "2023-10-12T05:27:16.689Z"
   },
   {
    "duration": 77,
    "start_time": "2023-10-12T05:27:16.767Z"
   },
   {
    "duration": 76,
    "start_time": "2023-10-12T05:27:16.846Z"
   },
   {
    "duration": 78,
    "start_time": "2023-10-12T05:27:16.924Z"
   },
   {
    "duration": 95,
    "start_time": "2023-10-12T05:27:17.004Z"
   },
   {
    "duration": 81,
    "start_time": "2023-10-12T05:27:17.100Z"
   },
   {
    "duration": 80,
    "start_time": "2023-10-12T05:27:52.726Z"
   },
   {
    "duration": 4629,
    "start_time": "2023-10-12T05:28:02.062Z"
   },
   {
    "duration": 11272,
    "start_time": "2023-10-12T05:28:06.694Z"
   },
   {
    "duration": 31,
    "start_time": "2023-10-12T05:28:17.968Z"
   },
   {
    "duration": 42,
    "start_time": "2023-10-12T05:28:18.001Z"
   },
   {
    "duration": 33,
    "start_time": "2023-10-12T05:28:18.046Z"
   },
   {
    "duration": 33,
    "start_time": "2023-10-12T05:28:18.080Z"
   },
   {
    "duration": 36,
    "start_time": "2023-10-12T05:28:18.115Z"
   },
   {
    "duration": 45,
    "start_time": "2023-10-12T05:28:18.153Z"
   },
   {
    "duration": 184,
    "start_time": "2023-10-12T05:28:18.199Z"
   },
   {
    "duration": 78,
    "start_time": "2023-10-12T05:28:18.384Z"
   },
   {
    "duration": 78,
    "start_time": "2023-10-12T05:28:18.464Z"
   },
   {
    "duration": 77,
    "start_time": "2023-10-12T05:28:18.544Z"
   },
   {
    "duration": 80,
    "start_time": "2023-10-12T05:28:18.623Z"
   },
   {
    "duration": 86,
    "start_time": "2023-10-12T05:28:18.707Z"
   },
   {
    "duration": 80,
    "start_time": "2023-10-12T05:28:18.795Z"
   },
   {
    "duration": 81,
    "start_time": "2023-10-12T05:30:37.263Z"
   },
   {
    "duration": 80,
    "start_time": "2023-10-12T05:30:45.427Z"
   },
   {
    "duration": 82,
    "start_time": "2023-10-12T05:36:58.020Z"
   },
   {
    "duration": 82,
    "start_time": "2023-10-12T05:38:25.767Z"
   },
   {
    "duration": 279,
    "start_time": "2023-10-12T05:39:02.860Z"
   },
   {
    "duration": 83,
    "start_time": "2023-10-12T05:39:33.511Z"
   },
   {
    "duration": 210,
    "start_time": "2023-10-12T05:41:34.222Z"
   },
   {
    "duration": 187,
    "start_time": "2023-10-12T05:42:02.685Z"
   },
   {
    "duration": 186,
    "start_time": "2023-10-12T05:44:09.669Z"
   },
   {
    "duration": 4,
    "start_time": "2023-10-12T05:44:57.267Z"
   },
   {
    "duration": 3,
    "start_time": "2023-10-12T05:45:08.232Z"
   },
   {
    "duration": 3,
    "start_time": "2023-10-12T05:45:36.419Z"
   },
   {
    "duration": 82,
    "start_time": "2023-10-12T05:45:59.801Z"
   },
   {
    "duration": 172,
    "start_time": "2023-10-12T05:46:36.722Z"
   },
   {
    "duration": 182,
    "start_time": "2023-10-12T05:48:09.444Z"
   },
   {
    "duration": 88,
    "start_time": "2023-10-12T05:48:21.178Z"
   },
   {
    "duration": 181,
    "start_time": "2023-10-12T05:48:36.745Z"
   },
   {
    "duration": 197,
    "start_time": "2023-10-12T05:49:27.549Z"
   },
   {
    "duration": 4698,
    "start_time": "2023-10-12T05:49:48.841Z"
   },
   {
    "duration": 12513,
    "start_time": "2023-10-12T05:49:53.541Z"
   },
   {
    "duration": 30,
    "start_time": "2023-10-12T05:50:06.056Z"
   },
   {
    "duration": 58,
    "start_time": "2023-10-12T05:50:06.088Z"
   },
   {
    "duration": 48,
    "start_time": "2023-10-12T05:50:06.148Z"
   },
   {
    "duration": 51,
    "start_time": "2023-10-12T05:50:06.198Z"
   },
   {
    "duration": 34,
    "start_time": "2023-10-12T05:50:06.251Z"
   },
   {
    "duration": 31,
    "start_time": "2023-10-12T05:50:06.287Z"
   },
   {
    "duration": 196,
    "start_time": "2023-10-12T05:50:06.321Z"
   },
   {
    "duration": 97,
    "start_time": "2023-10-12T05:50:06.519Z"
   },
   {
    "duration": 78,
    "start_time": "2023-10-12T05:50:06.618Z"
   },
   {
    "duration": 78,
    "start_time": "2023-10-12T05:50:06.698Z"
   },
   {
    "duration": 77,
    "start_time": "2023-10-12T05:50:06.778Z"
   },
   {
    "duration": 84,
    "start_time": "2023-10-12T05:50:06.859Z"
   },
   {
    "duration": 232,
    "start_time": "2023-10-12T05:50:06.944Z"
   },
   {
    "duration": 0,
    "start_time": "2023-10-12T05:50:07.179Z"
   },
   {
    "duration": 0,
    "start_time": "2023-10-12T05:50:07.180Z"
   },
   {
    "duration": 83,
    "start_time": "2023-10-12T05:50:54.362Z"
   },
   {
    "duration": 81,
    "start_time": "2023-10-12T05:52:26.155Z"
   },
   {
    "duration": 203,
    "start_time": "2023-10-12T05:52:32.081Z"
   },
   {
    "duration": 84,
    "start_time": "2023-10-12T05:52:51.083Z"
   },
   {
    "duration": 84,
    "start_time": "2023-10-12T05:53:27.814Z"
   },
   {
    "duration": 81,
    "start_time": "2023-10-12T05:53:39.131Z"
   },
   {
    "duration": 81,
    "start_time": "2023-10-12T05:54:12.106Z"
   }
  ],
  "kernelspec": {
   "display_name": "Python 3 (ipykernel)",
   "language": "python",
   "name": "python3"
  },
  "language_info": {
   "codemirror_mode": {
    "name": "ipython",
    "version": 3
   },
   "file_extension": ".py",
   "mimetype": "text/x-python",
   "name": "python",
   "nbconvert_exporter": "python",
   "pygments_lexer": "ipython3",
   "version": "3.11.5"
  },
  "toc": {
   "base_numbering": 1,
   "nav_menu": {},
   "number_sections": true,
   "sideBar": true,
   "skip_h1_title": true,
   "title_cell": "Содержание",
   "title_sidebar": "Contents",
   "toc_cell": true,
   "toc_position": {},
   "toc_section_display": true,
   "toc_window_display": false
  }
 },
 "nbformat": 4,
 "nbformat_minor": 2
}
