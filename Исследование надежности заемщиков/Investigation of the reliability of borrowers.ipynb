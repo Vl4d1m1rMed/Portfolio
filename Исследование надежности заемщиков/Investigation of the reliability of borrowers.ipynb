{
 "cells": [
  {
   "cell_type": "markdown",
   "id": "386f2ae7",
   "metadata": {
    "deletable": false,
    "editable": false,
    "id": "386f2ae7"
   },
   "source": [
    "# Исследование надежности заемщиков\n"
   ]
  },
  {
   "cell_type": "markdown",
   "id": "ffe86f65",
   "metadata": {
    "deletable": false,
    "editable": false,
    "id": "ffe86f65"
   },
   "source": [
    "Во второй части проекта вы выполните шаги 3 и 4. Их вручную проверит ревьюер.\n",
    "Чтобы вам не пришлось писать код заново для шагов 1 и 2, мы добавили авторские решения в ячейки с кодом. \n",
    "\n"
   ]
  },
  {
   "cell_type": "markdown",
   "id": "26613308",
   "metadata": {
    "deletable": false,
    "editable": false,
    "id": "26613308"
   },
   "source": [
    "## Откройте таблицу и изучите общую информацию о данных"
   ]
  },
  {
   "cell_type": "markdown",
   "id": "3c9f838e",
   "metadata": {
    "deletable": false,
    "editable": false,
    "id": "3c9f838e"
   },
   "source": [
    "**Задание 1. Импортируйте библиотеку pandas. Считайте данные из csv-файла в датафрейм и сохраните в переменную `data`. Путь к файлу:**\n",
    "\n",
    "`/datasets/data.csv`"
   ]
  },
  {
   "cell_type": "code",
   "execution_count": 1,
   "id": "77a68a90",
   "metadata": {
    "deletable": false,
    "id": "77a68a90"
   },
   "outputs": [],
   "source": [
    "import pandas as pd\n",
    "\n",
    "try:\n",
    "    data = pd.read_csv('/datasets/data.csv')\n",
    "except:\n",
    "    data = pd.read_csv('https://code.s3.yandex.net/datasets/data.csv')"
   ]
  },
  {
   "cell_type": "markdown",
   "id": "45365635",
   "metadata": {
    "deletable": false,
    "editable": false,
    "id": "45365635"
   },
   "source": [
    "**Задание 2. Выведите первые 20 строчек датафрейма `data` на экран.**"
   ]
  },
  {
   "cell_type": "code",
   "execution_count": 2,
   "id": "b0451a9a",
   "metadata": {
    "deletable": false,
    "id": "b0451a9a",
    "outputId": "1a8f3ef2-d323-4ec2-ddf7-89670b5944c4"
   },
   "outputs": [
    {
     "data": {
      "text/html": [
       "<div>\n",
       "<style scoped>\n",
       "    .dataframe tbody tr th:only-of-type {\n",
       "        vertical-align: middle;\n",
       "    }\n",
       "\n",
       "    .dataframe tbody tr th {\n",
       "        vertical-align: top;\n",
       "    }\n",
       "\n",
       "    .dataframe thead th {\n",
       "        text-align: right;\n",
       "    }\n",
       "</style>\n",
       "<table border=\"1\" class=\"dataframe\">\n",
       "  <thead>\n",
       "    <tr style=\"text-align: right;\">\n",
       "      <th></th>\n",
       "      <th>children</th>\n",
       "      <th>days_employed</th>\n",
       "      <th>dob_years</th>\n",
       "      <th>education</th>\n",
       "      <th>education_id</th>\n",
       "      <th>family_status</th>\n",
       "      <th>family_status_id</th>\n",
       "      <th>gender</th>\n",
       "      <th>income_type</th>\n",
       "      <th>debt</th>\n",
       "      <th>total_income</th>\n",
       "      <th>purpose</th>\n",
       "    </tr>\n",
       "  </thead>\n",
       "  <tbody>\n",
       "    <tr>\n",
       "      <th>0</th>\n",
       "      <td>1</td>\n",
       "      <td>-8437.673028</td>\n",
       "      <td>42</td>\n",
       "      <td>высшее</td>\n",
       "      <td>0</td>\n",
       "      <td>женат / замужем</td>\n",
       "      <td>0</td>\n",
       "      <td>F</td>\n",
       "      <td>сотрудник</td>\n",
       "      <td>0</td>\n",
       "      <td>253875.639453</td>\n",
       "      <td>покупка жилья</td>\n",
       "    </tr>\n",
       "    <tr>\n",
       "      <th>1</th>\n",
       "      <td>1</td>\n",
       "      <td>-4024.803754</td>\n",
       "      <td>36</td>\n",
       "      <td>среднее</td>\n",
       "      <td>1</td>\n",
       "      <td>женат / замужем</td>\n",
       "      <td>0</td>\n",
       "      <td>F</td>\n",
       "      <td>сотрудник</td>\n",
       "      <td>0</td>\n",
       "      <td>112080.014102</td>\n",
       "      <td>приобретение автомобиля</td>\n",
       "    </tr>\n",
       "    <tr>\n",
       "      <th>2</th>\n",
       "      <td>0</td>\n",
       "      <td>-5623.422610</td>\n",
       "      <td>33</td>\n",
       "      <td>Среднее</td>\n",
       "      <td>1</td>\n",
       "      <td>женат / замужем</td>\n",
       "      <td>0</td>\n",
       "      <td>M</td>\n",
       "      <td>сотрудник</td>\n",
       "      <td>0</td>\n",
       "      <td>145885.952297</td>\n",
       "      <td>покупка жилья</td>\n",
       "    </tr>\n",
       "    <tr>\n",
       "      <th>3</th>\n",
       "      <td>3</td>\n",
       "      <td>-4124.747207</td>\n",
       "      <td>32</td>\n",
       "      <td>среднее</td>\n",
       "      <td>1</td>\n",
       "      <td>женат / замужем</td>\n",
       "      <td>0</td>\n",
       "      <td>M</td>\n",
       "      <td>сотрудник</td>\n",
       "      <td>0</td>\n",
       "      <td>267628.550329</td>\n",
       "      <td>дополнительное образование</td>\n",
       "    </tr>\n",
       "    <tr>\n",
       "      <th>4</th>\n",
       "      <td>0</td>\n",
       "      <td>340266.072047</td>\n",
       "      <td>53</td>\n",
       "      <td>среднее</td>\n",
       "      <td>1</td>\n",
       "      <td>гражданский брак</td>\n",
       "      <td>1</td>\n",
       "      <td>F</td>\n",
       "      <td>пенсионер</td>\n",
       "      <td>0</td>\n",
       "      <td>158616.077870</td>\n",
       "      <td>сыграть свадьбу</td>\n",
       "    </tr>\n",
       "    <tr>\n",
       "      <th>5</th>\n",
       "      <td>0</td>\n",
       "      <td>-926.185831</td>\n",
       "      <td>27</td>\n",
       "      <td>высшее</td>\n",
       "      <td>0</td>\n",
       "      <td>гражданский брак</td>\n",
       "      <td>1</td>\n",
       "      <td>M</td>\n",
       "      <td>компаньон</td>\n",
       "      <td>0</td>\n",
       "      <td>255763.565419</td>\n",
       "      <td>покупка жилья</td>\n",
       "    </tr>\n",
       "    <tr>\n",
       "      <th>6</th>\n",
       "      <td>0</td>\n",
       "      <td>-2879.202052</td>\n",
       "      <td>43</td>\n",
       "      <td>высшее</td>\n",
       "      <td>0</td>\n",
       "      <td>женат / замужем</td>\n",
       "      <td>0</td>\n",
       "      <td>F</td>\n",
       "      <td>компаньон</td>\n",
       "      <td>0</td>\n",
       "      <td>240525.971920</td>\n",
       "      <td>операции с жильем</td>\n",
       "    </tr>\n",
       "    <tr>\n",
       "      <th>7</th>\n",
       "      <td>0</td>\n",
       "      <td>-152.779569</td>\n",
       "      <td>50</td>\n",
       "      <td>СРЕДНЕЕ</td>\n",
       "      <td>1</td>\n",
       "      <td>женат / замужем</td>\n",
       "      <td>0</td>\n",
       "      <td>M</td>\n",
       "      <td>сотрудник</td>\n",
       "      <td>0</td>\n",
       "      <td>135823.934197</td>\n",
       "      <td>образование</td>\n",
       "    </tr>\n",
       "    <tr>\n",
       "      <th>8</th>\n",
       "      <td>2</td>\n",
       "      <td>-6929.865299</td>\n",
       "      <td>35</td>\n",
       "      <td>ВЫСШЕЕ</td>\n",
       "      <td>0</td>\n",
       "      <td>гражданский брак</td>\n",
       "      <td>1</td>\n",
       "      <td>F</td>\n",
       "      <td>сотрудник</td>\n",
       "      <td>0</td>\n",
       "      <td>95856.832424</td>\n",
       "      <td>на проведение свадьбы</td>\n",
       "    </tr>\n",
       "    <tr>\n",
       "      <th>9</th>\n",
       "      <td>0</td>\n",
       "      <td>-2188.756445</td>\n",
       "      <td>41</td>\n",
       "      <td>среднее</td>\n",
       "      <td>1</td>\n",
       "      <td>женат / замужем</td>\n",
       "      <td>0</td>\n",
       "      <td>M</td>\n",
       "      <td>сотрудник</td>\n",
       "      <td>0</td>\n",
       "      <td>144425.938277</td>\n",
       "      <td>покупка жилья для семьи</td>\n",
       "    </tr>\n",
       "    <tr>\n",
       "      <th>10</th>\n",
       "      <td>2</td>\n",
       "      <td>-4171.483647</td>\n",
       "      <td>36</td>\n",
       "      <td>высшее</td>\n",
       "      <td>0</td>\n",
       "      <td>женат / замужем</td>\n",
       "      <td>0</td>\n",
       "      <td>M</td>\n",
       "      <td>компаньон</td>\n",
       "      <td>0</td>\n",
       "      <td>113943.491460</td>\n",
       "      <td>покупка недвижимости</td>\n",
       "    </tr>\n",
       "    <tr>\n",
       "      <th>11</th>\n",
       "      <td>0</td>\n",
       "      <td>-792.701887</td>\n",
       "      <td>40</td>\n",
       "      <td>среднее</td>\n",
       "      <td>1</td>\n",
       "      <td>женат / замужем</td>\n",
       "      <td>0</td>\n",
       "      <td>F</td>\n",
       "      <td>сотрудник</td>\n",
       "      <td>0</td>\n",
       "      <td>77069.234271</td>\n",
       "      <td>покупка коммерческой недвижимости</td>\n",
       "    </tr>\n",
       "    <tr>\n",
       "      <th>12</th>\n",
       "      <td>0</td>\n",
       "      <td>NaN</td>\n",
       "      <td>65</td>\n",
       "      <td>среднее</td>\n",
       "      <td>1</td>\n",
       "      <td>гражданский брак</td>\n",
       "      <td>1</td>\n",
       "      <td>M</td>\n",
       "      <td>пенсионер</td>\n",
       "      <td>0</td>\n",
       "      <td>NaN</td>\n",
       "      <td>сыграть свадьбу</td>\n",
       "    </tr>\n",
       "    <tr>\n",
       "      <th>13</th>\n",
       "      <td>0</td>\n",
       "      <td>-1846.641941</td>\n",
       "      <td>54</td>\n",
       "      <td>неоконченное высшее</td>\n",
       "      <td>2</td>\n",
       "      <td>женат / замужем</td>\n",
       "      <td>0</td>\n",
       "      <td>F</td>\n",
       "      <td>сотрудник</td>\n",
       "      <td>0</td>\n",
       "      <td>130458.228857</td>\n",
       "      <td>приобретение автомобиля</td>\n",
       "    </tr>\n",
       "    <tr>\n",
       "      <th>14</th>\n",
       "      <td>0</td>\n",
       "      <td>-1844.956182</td>\n",
       "      <td>56</td>\n",
       "      <td>высшее</td>\n",
       "      <td>0</td>\n",
       "      <td>гражданский брак</td>\n",
       "      <td>1</td>\n",
       "      <td>F</td>\n",
       "      <td>компаньон</td>\n",
       "      <td>1</td>\n",
       "      <td>165127.911772</td>\n",
       "      <td>покупка жилой недвижимости</td>\n",
       "    </tr>\n",
       "    <tr>\n",
       "      <th>15</th>\n",
       "      <td>1</td>\n",
       "      <td>-972.364419</td>\n",
       "      <td>26</td>\n",
       "      <td>среднее</td>\n",
       "      <td>1</td>\n",
       "      <td>женат / замужем</td>\n",
       "      <td>0</td>\n",
       "      <td>F</td>\n",
       "      <td>сотрудник</td>\n",
       "      <td>0</td>\n",
       "      <td>116820.904450</td>\n",
       "      <td>строительство собственной недвижимости</td>\n",
       "    </tr>\n",
       "    <tr>\n",
       "      <th>16</th>\n",
       "      <td>0</td>\n",
       "      <td>-1719.934226</td>\n",
       "      <td>35</td>\n",
       "      <td>среднее</td>\n",
       "      <td>1</td>\n",
       "      <td>женат / замужем</td>\n",
       "      <td>0</td>\n",
       "      <td>F</td>\n",
       "      <td>сотрудник</td>\n",
       "      <td>0</td>\n",
       "      <td>289202.704229</td>\n",
       "      <td>недвижимость</td>\n",
       "    </tr>\n",
       "    <tr>\n",
       "      <th>17</th>\n",
       "      <td>0</td>\n",
       "      <td>-2369.999720</td>\n",
       "      <td>33</td>\n",
       "      <td>высшее</td>\n",
       "      <td>0</td>\n",
       "      <td>гражданский брак</td>\n",
       "      <td>1</td>\n",
       "      <td>M</td>\n",
       "      <td>сотрудник</td>\n",
       "      <td>0</td>\n",
       "      <td>90410.586745</td>\n",
       "      <td>строительство недвижимости</td>\n",
       "    </tr>\n",
       "    <tr>\n",
       "      <th>18</th>\n",
       "      <td>0</td>\n",
       "      <td>400281.136913</td>\n",
       "      <td>53</td>\n",
       "      <td>среднее</td>\n",
       "      <td>1</td>\n",
       "      <td>вдовец / вдова</td>\n",
       "      <td>2</td>\n",
       "      <td>F</td>\n",
       "      <td>пенсионер</td>\n",
       "      <td>0</td>\n",
       "      <td>56823.777243</td>\n",
       "      <td>на покупку подержанного автомобиля</td>\n",
       "    </tr>\n",
       "    <tr>\n",
       "      <th>19</th>\n",
       "      <td>0</td>\n",
       "      <td>-10038.818549</td>\n",
       "      <td>48</td>\n",
       "      <td>СРЕДНЕЕ</td>\n",
       "      <td>1</td>\n",
       "      <td>в разводе</td>\n",
       "      <td>3</td>\n",
       "      <td>F</td>\n",
       "      <td>сотрудник</td>\n",
       "      <td>0</td>\n",
       "      <td>242831.107982</td>\n",
       "      <td>на покупку своего автомобиля</td>\n",
       "    </tr>\n",
       "  </tbody>\n",
       "</table>\n",
       "</div>"
      ],
      "text/plain": [
       "    children  days_employed  dob_years            education  education_id  \\\n",
       "0          1   -8437.673028         42               высшее             0   \n",
       "1          1   -4024.803754         36              среднее             1   \n",
       "2          0   -5623.422610         33              Среднее             1   \n",
       "3          3   -4124.747207         32              среднее             1   \n",
       "4          0  340266.072047         53              среднее             1   \n",
       "5          0    -926.185831         27               высшее             0   \n",
       "6          0   -2879.202052         43               высшее             0   \n",
       "7          0    -152.779569         50              СРЕДНЕЕ             1   \n",
       "8          2   -6929.865299         35               ВЫСШЕЕ             0   \n",
       "9          0   -2188.756445         41              среднее             1   \n",
       "10         2   -4171.483647         36               высшее             0   \n",
       "11         0    -792.701887         40              среднее             1   \n",
       "12         0            NaN         65              среднее             1   \n",
       "13         0   -1846.641941         54  неоконченное высшее             2   \n",
       "14         0   -1844.956182         56               высшее             0   \n",
       "15         1    -972.364419         26              среднее             1   \n",
       "16         0   -1719.934226         35              среднее             1   \n",
       "17         0   -2369.999720         33               высшее             0   \n",
       "18         0  400281.136913         53              среднее             1   \n",
       "19         0  -10038.818549         48              СРЕДНЕЕ             1   \n",
       "\n",
       "       family_status  family_status_id gender income_type  debt  \\\n",
       "0    женат / замужем                 0      F   сотрудник     0   \n",
       "1    женат / замужем                 0      F   сотрудник     0   \n",
       "2    женат / замужем                 0      M   сотрудник     0   \n",
       "3    женат / замужем                 0      M   сотрудник     0   \n",
       "4   гражданский брак                 1      F   пенсионер     0   \n",
       "5   гражданский брак                 1      M   компаньон     0   \n",
       "6    женат / замужем                 0      F   компаньон     0   \n",
       "7    женат / замужем                 0      M   сотрудник     0   \n",
       "8   гражданский брак                 1      F   сотрудник     0   \n",
       "9    женат / замужем                 0      M   сотрудник     0   \n",
       "10   женат / замужем                 0      M   компаньон     0   \n",
       "11   женат / замужем                 0      F   сотрудник     0   \n",
       "12  гражданский брак                 1      M   пенсионер     0   \n",
       "13   женат / замужем                 0      F   сотрудник     0   \n",
       "14  гражданский брак                 1      F   компаньон     1   \n",
       "15   женат / замужем                 0      F   сотрудник     0   \n",
       "16   женат / замужем                 0      F   сотрудник     0   \n",
       "17  гражданский брак                 1      M   сотрудник     0   \n",
       "18    вдовец / вдова                 2      F   пенсионер     0   \n",
       "19         в разводе                 3      F   сотрудник     0   \n",
       "\n",
       "     total_income                                 purpose  \n",
       "0   253875.639453                           покупка жилья  \n",
       "1   112080.014102                 приобретение автомобиля  \n",
       "2   145885.952297                           покупка жилья  \n",
       "3   267628.550329              дополнительное образование  \n",
       "4   158616.077870                         сыграть свадьбу  \n",
       "5   255763.565419                           покупка жилья  \n",
       "6   240525.971920                       операции с жильем  \n",
       "7   135823.934197                             образование  \n",
       "8    95856.832424                   на проведение свадьбы  \n",
       "9   144425.938277                 покупка жилья для семьи  \n",
       "10  113943.491460                    покупка недвижимости  \n",
       "11   77069.234271       покупка коммерческой недвижимости  \n",
       "12            NaN                         сыграть свадьбу  \n",
       "13  130458.228857                 приобретение автомобиля  \n",
       "14  165127.911772              покупка жилой недвижимости  \n",
       "15  116820.904450  строительство собственной недвижимости  \n",
       "16  289202.704229                            недвижимость  \n",
       "17   90410.586745              строительство недвижимости  \n",
       "18   56823.777243      на покупку подержанного автомобиля  \n",
       "19  242831.107982            на покупку своего автомобиля  "
      ]
     },
     "execution_count": 2,
     "metadata": {},
     "output_type": "execute_result"
    }
   ],
   "source": [
    "data.head(20)"
   ]
  },
  {
   "cell_type": "markdown",
   "id": "0ed8f27f",
   "metadata": {
    "deletable": false,
    "editable": false,
    "id": "0ed8f27f"
   },
   "source": [
    "**Задание 3. Выведите основную информацию о датафрейме с помощью метода `info()`.**"
   ]
  },
  {
   "cell_type": "code",
   "execution_count": 3,
   "id": "ab3f863b",
   "metadata": {
    "deletable": false,
    "id": "ab3f863b",
    "outputId": "15376089-8dad-46c9-b520-c05248d43158"
   },
   "outputs": [
    {
     "name": "stdout",
     "output_type": "stream",
     "text": [
      "<class 'pandas.core.frame.DataFrame'>\n",
      "RangeIndex: 21525 entries, 0 to 21524\n",
      "Data columns (total 12 columns):\n",
      " #   Column            Non-Null Count  Dtype  \n",
      "---  ------            --------------  -----  \n",
      " 0   children          21525 non-null  int64  \n",
      " 1   days_employed     19351 non-null  float64\n",
      " 2   dob_years         21525 non-null  int64  \n",
      " 3   education         21525 non-null  object \n",
      " 4   education_id      21525 non-null  int64  \n",
      " 5   family_status     21525 non-null  object \n",
      " 6   family_status_id  21525 non-null  int64  \n",
      " 7   gender            21525 non-null  object \n",
      " 8   income_type       21525 non-null  object \n",
      " 9   debt              21525 non-null  int64  \n",
      " 10  total_income      19351 non-null  float64\n",
      " 11  purpose           21525 non-null  object \n",
      "dtypes: float64(2), int64(5), object(5)\n",
      "memory usage: 2.0+ MB\n"
     ]
    }
   ],
   "source": [
    "data.info()"
   ]
  },
  {
   "cell_type": "markdown",
   "id": "60e3e22d",
   "metadata": {
    "deletable": false,
    "editable": false,
    "id": "60e3e22d"
   },
   "source": [
    "## Предобработка данных"
   ]
  },
  {
   "cell_type": "markdown",
   "id": "03dc170c",
   "metadata": {
    "deletable": false,
    "editable": false,
    "id": "03dc170c"
   },
   "source": [
    "### Удаление пропусков"
   ]
  },
  {
   "cell_type": "markdown",
   "id": "a4f54eef",
   "metadata": {
    "deletable": false,
    "editable": false,
    "id": "a4f54eef"
   },
   "source": [
    "**Задание 4. Выведите количество пропущенных значений для каждого столбца. Используйте комбинацию двух методов.**"
   ]
  },
  {
   "cell_type": "code",
   "execution_count": 4,
   "id": "2dc372b2",
   "metadata": {
    "deletable": false,
    "id": "2dc372b2",
    "outputId": "81f4d817-781c-465c-ed15-91ce4446810d"
   },
   "outputs": [
    {
     "data": {
      "text/plain": [
       "children               0\n",
       "days_employed       2174\n",
       "dob_years              0\n",
       "education              0\n",
       "education_id           0\n",
       "family_status          0\n",
       "family_status_id       0\n",
       "gender                 0\n",
       "income_type            0\n",
       "debt                   0\n",
       "total_income        2174\n",
       "purpose                0\n",
       "dtype: int64"
      ]
     },
     "execution_count": 4,
     "metadata": {},
     "output_type": "execute_result"
    }
   ],
   "source": [
    "data.isna().sum()"
   ]
  },
  {
   "cell_type": "markdown",
   "id": "14f011b1",
   "metadata": {
    "deletable": false,
    "editable": false,
    "id": "14f011b1"
   },
   "source": [
    "**Задание 5. В двух столбцах есть пропущенные значения. Один из них — `days_employed`. Пропуски в этом столбце вы обработаете на следующем этапе. Другой столбец с пропущенными значениями — `total_income` — хранит данные о доходах. На сумму дохода сильнее всего влияет тип занятости, поэтому заполнить пропуски в этом столбце нужно медианным значением по каждому типу из столбца `income_type`. Например, у человека с типом занятости `сотрудник` пропуск в столбце `total_income` должен быть заполнен медианным доходом среди всех записей с тем же типом.**"
   ]
  },
  {
   "cell_type": "code",
   "execution_count": 5,
   "id": "bdabfb6e",
   "metadata": {
    "deletable": false,
    "id": "bdabfb6e"
   },
   "outputs": [],
   "source": [
    "for t in data['income_type'].unique():\n",
    "    data.loc[(data['income_type'] == t) & (data['total_income'].isna()), 'total_income'] = \\\n",
    "    data.loc[(data['income_type'] == t), 'total_income'].median()"
   ]
  },
  {
   "cell_type": "markdown",
   "id": "5be34059",
   "metadata": {
    "deletable": false,
    "editable": false,
    "id": "5be34059"
   },
   "source": [
    "### Обработка аномальных значений"
   ]
  },
  {
   "cell_type": "markdown",
   "id": "a87606cb",
   "metadata": {
    "deletable": false,
    "editable": false,
    "id": "a87606cb"
   },
   "source": [
    "**Задание 6. В данных могут встречаться артефакты (аномалии) — значения, которые не отражают действительность и появились по какой-то ошибке. таким артефактом будет отрицательное количество дней трудового стажа в столбце `days_employed`. Для реальных данных это нормально. Обработайте значения в этом столбце: замените все отрицательные значения положительными с помощью метода `abs()`.**"
   ]
  },
  {
   "cell_type": "code",
   "execution_count": 6,
   "id": "020c46cc",
   "metadata": {
    "deletable": false,
    "id": "020c46cc"
   },
   "outputs": [],
   "source": [
    "data['days_employed'] = data['days_employed'].abs()"
   ]
  },
  {
   "cell_type": "markdown",
   "id": "45538a3a",
   "metadata": {
    "deletable": false,
    "editable": false,
    "id": "45538a3a"
   },
   "source": [
    "**Задание 7. Для каждого типа занятости выведите медианное значение трудового стажа `days_employed` в днях.**"
   ]
  },
  {
   "cell_type": "code",
   "execution_count": 7,
   "id": "cd3e6328",
   "metadata": {
    "deletable": false,
    "id": "cd3e6328",
    "outputId": "801ef80e-522b-4668-f34e-565af7432bcf"
   },
   "outputs": [
    {
     "data": {
      "text/plain": [
       "income_type\n",
       "безработный        366413.652744\n",
       "в декрете            3296.759962\n",
       "госслужащий          2689.368353\n",
       "компаньон            1547.382223\n",
       "пенсионер          365213.306266\n",
       "предприниматель       520.848083\n",
       "сотрудник            1574.202821\n",
       "студент               578.751554\n",
       "Name: days_employed, dtype: float64"
      ]
     },
     "execution_count": 7,
     "metadata": {},
     "output_type": "execute_result"
    }
   ],
   "source": [
    "data.groupby('income_type')['days_employed'].agg('median')"
   ]
  },
  {
   "cell_type": "markdown",
   "id": "90c5f058",
   "metadata": {
    "deletable": false,
    "editable": false,
    "id": "90c5f058"
   },
   "source": [
    "У двух типов (безработные и пенсионеры) получатся аномально большие значения. Исправить такие значения сложно, поэтому оставьте их как есть."
   ]
  },
  {
   "cell_type": "markdown",
   "id": "9652e50d",
   "metadata": {
    "deletable": false,
    "editable": false,
    "id": "9652e50d"
   },
   "source": [
    "**Задание 8. Выведите перечень уникальных значений столбца `children`.**"
   ]
  },
  {
   "cell_type": "code",
   "execution_count": 8,
   "id": "dbb37b8e",
   "metadata": {
    "deletable": false,
    "id": "dbb37b8e",
    "outputId": "6975b15c-7f95-4697-d16d-a0c79b657b03"
   },
   "outputs": [
    {
     "data": {
      "text/plain": [
       "array([ 1,  0,  3,  2, -1,  4, 20,  5])"
      ]
     },
     "execution_count": 8,
     "metadata": {},
     "output_type": "execute_result"
    }
   ],
   "source": [
    "data['children'].unique()"
   ]
  },
  {
   "cell_type": "markdown",
   "id": "2b8b0715",
   "metadata": {
    "deletable": false,
    "editable": false,
    "id": "2b8b0715"
   },
   "source": [
    "**Задание 9. В столбце `children` есть два аномальных значения. Удалите строки, в которых встречаются такие аномальные значения из датафрейма `data`.**"
   ]
  },
  {
   "cell_type": "code",
   "execution_count": 9,
   "id": "20009df8",
   "metadata": {
    "deletable": false,
    "id": "20009df8"
   },
   "outputs": [],
   "source": [
    "data = data[(data['children'] != -1) & (data['children'] != 20)]"
   ]
  },
  {
   "cell_type": "markdown",
   "id": "8c6ac9f1",
   "metadata": {
    "deletable": false,
    "editable": false,
    "id": "8c6ac9f1"
   },
   "source": [
    "**Задание 10. Ещё раз выведите перечень уникальных значений столбца `children`, чтобы убедиться, что артефакты удалены.**"
   ]
  },
  {
   "cell_type": "code",
   "execution_count": 10,
   "id": "07337b81",
   "metadata": {
    "deletable": false,
    "id": "07337b81",
    "outputId": "b2097101-d49d-44d9-901b-32a65c9463d1"
   },
   "outputs": [
    {
     "data": {
      "text/plain": [
       "array([1, 0, 3, 2, 4, 5])"
      ]
     },
     "execution_count": 10,
     "metadata": {},
     "output_type": "execute_result"
    }
   ],
   "source": [
    "data['children'].unique()"
   ]
  },
  {
   "cell_type": "markdown",
   "id": "ee3f52d4",
   "metadata": {
    "deletable": false,
    "editable": false,
    "id": "ee3f52d4"
   },
   "source": [
    "### Удаление пропусков (продолжение)"
   ]
  },
  {
   "cell_type": "markdown",
   "id": "a700b0e4",
   "metadata": {
    "deletable": false,
    "editable": false,
    "id": "a700b0e4"
   },
   "source": [
    "**Задание 11. Заполните пропуски в столбце `days_employed` медианными значениями по каждого типа занятости `income_type`.**"
   ]
  },
  {
   "cell_type": "code",
   "execution_count": 11,
   "id": "61946b83",
   "metadata": {
    "deletable": false,
    "id": "61946b83"
   },
   "outputs": [],
   "source": [
    "for t in data['income_type'].unique():\n",
    "    data.loc[(data['income_type'] == t) & (data['days_employed'].isna()), 'days_employed'] = \\\n",
    "    data.loc[(data['income_type'] == t), 'days_employed'].median()"
   ]
  },
  {
   "cell_type": "markdown",
   "id": "550dcd9b",
   "metadata": {
    "deletable": false,
    "editable": false,
    "id": "550dcd9b"
   },
   "source": [
    "**Задание 12. Убедитесь, что все пропуски заполнены. Проверьте себя и ещё раз выведите количество пропущенных значений для каждого столбца с помощью двух методов.**"
   ]
  },
  {
   "cell_type": "code",
   "execution_count": 12,
   "id": "937c7014",
   "metadata": {
    "deletable": false,
    "id": "937c7014",
    "outputId": "8da1e4e1-358e-4e87-98c9-f261bce0a7b2"
   },
   "outputs": [
    {
     "data": {
      "text/plain": [
       "children            0\n",
       "days_employed       0\n",
       "dob_years           0\n",
       "education           0\n",
       "education_id        0\n",
       "family_status       0\n",
       "family_status_id    0\n",
       "gender              0\n",
       "income_type         0\n",
       "debt                0\n",
       "total_income        0\n",
       "purpose             0\n",
       "dtype: int64"
      ]
     },
     "execution_count": 12,
     "metadata": {},
     "output_type": "execute_result"
    }
   ],
   "source": [
    "data.isna().sum()"
   ]
  },
  {
   "cell_type": "markdown",
   "id": "d522e295",
   "metadata": {
    "deletable": false,
    "editable": false,
    "id": "d522e295"
   },
   "source": [
    "### Изменение типов данных"
   ]
  },
  {
   "cell_type": "markdown",
   "id": "c229c581",
   "metadata": {
    "deletable": false,
    "editable": false,
    "id": "c229c581"
   },
   "source": [
    "**Задание 13. Замените вещественный тип данных в столбце `total_income` на целочисленный с помощью метода `astype()`.**"
   ]
  },
  {
   "cell_type": "code",
   "execution_count": 13,
   "id": "31036462",
   "metadata": {
    "deletable": false,
    "id": "31036462"
   },
   "outputs": [],
   "source": [
    "data['total_income'] = data['total_income'].astype(int)"
   ]
  },
  {
   "cell_type": "markdown",
   "id": "b8e3d1d9",
   "metadata": {
    "deletable": false,
    "editable": false,
    "id": "b8e3d1d9"
   },
   "source": [
    "### Обработка дубликатов"
   ]
  },
  {
   "cell_type": "markdown",
   "id": "9be53c49",
   "metadata": {
    "deletable": false,
    "editable": false,
    "id": "9be53c49"
   },
   "source": [
    "**Задание 14. Обработайте неявные дубликаты в столбце `education`. В этом столбце есть одни и те же значения, но записанные по-разному: с использованием заглавных и строчных букв. Приведите их к нижнему регистру.**"
   ]
  },
  {
   "cell_type": "code",
   "execution_count": 14,
   "id": "d89e73e1",
   "metadata": {
    "deletable": false,
    "id": "d89e73e1"
   },
   "outputs": [],
   "source": [
    "data['education'] = data['education'].str.lower()"
   ]
  },
  {
   "cell_type": "markdown",
   "id": "01d4500e",
   "metadata": {
    "deletable": false,
    "editable": false,
    "id": "01d4500e"
   },
   "source": [
    "**Задание 15. Выведите на экран количество строк-дубликатов в данных. Если такие строки присутствуют, удалите их.**"
   ]
  },
  {
   "cell_type": "code",
   "execution_count": 15,
   "id": "e10efb23",
   "metadata": {
    "deletable": false,
    "id": "e10efb23",
    "outputId": "9684deba-1934-42d1-99e1-cda61740f822"
   },
   "outputs": [
    {
     "data": {
      "text/plain": [
       "71"
      ]
     },
     "execution_count": 15,
     "metadata": {},
     "output_type": "execute_result"
    }
   ],
   "source": [
    "data.duplicated().sum()"
   ]
  },
  {
   "cell_type": "code",
   "execution_count": 16,
   "id": "df853f20",
   "metadata": {
    "deletable": false,
    "id": "df853f20"
   },
   "outputs": [],
   "source": [
    "data = data.drop_duplicates()"
   ]
  },
  {
   "cell_type": "markdown",
   "id": "627be38f",
   "metadata": {
    "deletable": false,
    "editable": false,
    "id": "627be38f"
   },
   "source": [
    "### Категоризация данных"
   ]
  },
  {
   "cell_type": "markdown",
   "id": "4684c3e0",
   "metadata": {
    "deletable": false,
    "editable": false,
    "id": "4684c3e0"
   },
   "source": [
    "**Задание 16. На основании диапазонов, указанных ниже, создайте в датафрейме `data` столбец `total_income_category` с категориями:**\n",
    "\n",
    "- 0–30000 — `'E'`;\n",
    "- 30001–50000 — `'D'`;\n",
    "- 50001–200000 — `'C'`;\n",
    "- 200001–1000000 — `'B'`;\n",
    "- 1000001 и выше — `'A'`.\n",
    "\n",
    "\n",
    "**Например, кредитополучателю с доходом 25000 нужно назначить категорию `'E'`, а клиенту, получающему 235000, — `'B'`. Используйте собственную функцию с именем `categorize_income()` и метод `apply()`.**"
   ]
  },
  {
   "cell_type": "code",
   "execution_count": 17,
   "id": "78965238",
   "metadata": {
    "deletable": false,
    "id": "78965238"
   },
   "outputs": [],
   "source": [
    "def categorize_income(income):\n",
    "    try:\n",
    "        if 0 <= income <= 30000:\n",
    "            return 'E - доход до 30000' \n",
    "        elif 30001 <= income <= 50000:\n",
    "            return 'D - доход до 50000'\n",
    "        elif 50001 <= income <= 200000:\n",
    "            return 'C - доход до 200000'\n",
    "        elif 200001 <= income <= 1000000:\n",
    "            return 'B - доход до 1000000'\n",
    "        elif income >= 1000001:\n",
    "            return 'A - доход больше 1000000'\n",
    "    except:\n",
    "        pass"
   ]
  },
  {
   "cell_type": "code",
   "execution_count": 18,
   "id": "0980ada1",
   "metadata": {
    "deletable": false,
    "id": "0980ada1"
   },
   "outputs": [],
   "source": [
    "data['total_income_category'] = data['total_income'].apply(categorize_income)"
   ]
  },
  {
   "cell_type": "markdown",
   "id": "9917bba0",
   "metadata": {
    "deletable": false,
    "editable": false,
    "id": "9917bba0"
   },
   "source": [
    "**Задание 17. Выведите на экран перечень уникальных целей взятия кредита из столбца `purpose`.**"
   ]
  },
  {
   "cell_type": "code",
   "execution_count": 19,
   "id": "ee07b65e",
   "metadata": {
    "deletable": false,
    "id": "ee07b65e",
    "outputId": "673c12d9-7d7e-4ae0-9812-c622c89dd244"
   },
   "outputs": [
    {
     "data": {
      "text/plain": [
       "array(['покупка жилья', 'приобретение автомобиля',\n",
       "       'дополнительное образование', 'сыграть свадьбу',\n",
       "       'операции с жильем', 'образование', 'на проведение свадьбы',\n",
       "       'покупка жилья для семьи', 'покупка недвижимости',\n",
       "       'покупка коммерческой недвижимости', 'покупка жилой недвижимости',\n",
       "       'строительство собственной недвижимости', 'недвижимость',\n",
       "       'строительство недвижимости', 'на покупку подержанного автомобиля',\n",
       "       'на покупку своего автомобиля',\n",
       "       'операции с коммерческой недвижимостью',\n",
       "       'строительство жилой недвижимости', 'жилье',\n",
       "       'операции со своей недвижимостью', 'автомобили',\n",
       "       'заняться образованием', 'сделка с подержанным автомобилем',\n",
       "       'получение образования', 'автомобиль', 'свадьба',\n",
       "       'получение дополнительного образования', 'покупка своего жилья',\n",
       "       'операции с недвижимостью', 'получение высшего образования',\n",
       "       'свой автомобиль', 'сделка с автомобилем',\n",
       "       'профильное образование', 'высшее образование',\n",
       "       'покупка жилья для сдачи', 'на покупку автомобиля', 'ремонт жилью',\n",
       "       'заняться высшим образованием'], dtype=object)"
      ]
     },
     "execution_count": 19,
     "metadata": {},
     "output_type": "execute_result"
    }
   ],
   "source": [
    "data['purpose'].unique()"
   ]
  },
  {
   "cell_type": "markdown",
   "id": "52b79d56",
   "metadata": {
    "deletable": false,
    "editable": false,
    "id": "52b79d56"
   },
   "source": [
    "**Задание 18. Создайте функцию, которая на основании данных из столбца `purpose` сформирует новый столбец `purpose_category`, в который войдут следующие категории:**\n",
    "\n",
    "- `'операции с автомобилем'`,\n",
    "- `'операции с недвижимостью'`,\n",
    "- `'проведение свадьбы'`,\n",
    "- `'получение образования'`.\n",
    "\n",
    "**Например, если в столбце `purpose` находится подстрока `'на покупку автомобиля'`, то в столбце `purpose_category` должна появиться строка `'операции с автомобилем'`.**\n",
    "\n",
    "**Используйте собственную функцию с именем `categorize_purpose()` и метод `apply()`. Изучите данные в столбце `purpose` и определите, какие подстроки помогут вам правильно определить категорию.**"
   ]
  },
  {
   "cell_type": "code",
   "execution_count": 20,
   "id": "be41da5d",
   "metadata": {
    "deletable": false,
    "id": "be41da5d"
   },
   "outputs": [],
   "source": [
    "def categorize_purpose(row):\n",
    "    try:\n",
    "        if 'автом' in row:\n",
    "            return 'операции с автомобилем'\n",
    "        elif 'жил' in row or 'недвиж' in row:\n",
    "            return 'операции с недвижимостью'\n",
    "        elif 'свад' in row:\n",
    "            return 'проведение свадьбы'\n",
    "        elif 'образов' in row:\n",
    "            return 'получение образования'\n",
    "    except:\n",
    "        return 'нет категории'"
   ]
  },
  {
   "cell_type": "code",
   "execution_count": 21,
   "id": "94c4a19a",
   "metadata": {
    "deletable": false,
    "id": "94c4a19a"
   },
   "outputs": [],
   "source": [
    "data['purpose_category'] = data['purpose'].apply(categorize_purpose)"
   ]
  },
  {
   "cell_type": "markdown",
   "id": "3d596c34",
   "metadata": {
    "deletable": false,
    "editable": false,
    "id": "3d596c34"
   },
   "source": [
    "### Шаг 3. Исследуйте данные и ответьте на вопросы"
   ]
  },
  {
   "cell_type": "markdown",
   "id": "648db036",
   "metadata": {
    "deletable": false,
    "editable": false,
    "id": "648db036"
   },
   "source": [
    "#### 3.1 Есть ли зависимость между количеством детей и возвратом кредита в срок?"
   ]
  },
  {
   "cell_type": "code",
   "execution_count": 32,
   "id": "7fcff25e",
   "metadata": {
    "deletable": false,
    "id": "7fcff25e"
   },
   "outputs": [],
   "source": [
    "# Ваш код будет здесь. Вы можете создавать новые ячейки.\n",
    "\n",
    "data_children = data.pivot_table(index='children', values='debt', aggfunc=['count', 'sum', 'mean'])"
   ]
  },
  {
   "cell_type": "code",
   "execution_count": 33,
   "id": "177b41d7",
   "metadata": {},
   "outputs": [],
   "source": [
    "data_children.columns=['count', 'sum', 'mean']"
   ]
  },
  {
   "cell_type": "code",
   "execution_count": 31,
   "id": "d48e600d",
   "metadata": {},
   "outputs": [
    {
     "data": {
      "text/html": [
       "<style  type=\"text/css\" >\n",
       "</style><table id=\"T_ac081_\" ><thead>    <tr>        <th class=\"blank level0\" ></th>        <th class=\"col_heading level0 col0\" >count</th>        <th class=\"col_heading level0 col1\" >sum</th>        <th class=\"col_heading level0 col2\" >mean</th>    </tr>    <tr>        <th class=\"index_name level0\" >children</th>        <th class=\"blank\" ></th>        <th class=\"blank\" ></th>        <th class=\"blank\" ></th>    </tr></thead><tbody>\n",
       "                <tr>\n",
       "                        <th id=\"T_ac081_level0_row0\" class=\"row_heading level0 row0\" >0</th>\n",
       "                        <td id=\"T_ac081_row0_col0\" class=\"data row0 col0\" >14091</td>\n",
       "                        <td id=\"T_ac081_row0_col1\" class=\"data row0 col1\" >1063</td>\n",
       "                        <td id=\"T_ac081_row0_col2\" class=\"data row0 col2\" >7.54%</td>\n",
       "            </tr>\n",
       "            <tr>\n",
       "                        <th id=\"T_ac081_level0_row1\" class=\"row_heading level0 row1\" >1</th>\n",
       "                        <td id=\"T_ac081_row1_col0\" class=\"data row1 col0\" >4808</td>\n",
       "                        <td id=\"T_ac081_row1_col1\" class=\"data row1 col1\" >444</td>\n",
       "                        <td id=\"T_ac081_row1_col2\" class=\"data row1 col2\" >9.23%</td>\n",
       "            </tr>\n",
       "            <tr>\n",
       "                        <th id=\"T_ac081_level0_row2\" class=\"row_heading level0 row2\" >2</th>\n",
       "                        <td id=\"T_ac081_row2_col0\" class=\"data row2 col0\" >2052</td>\n",
       "                        <td id=\"T_ac081_row2_col1\" class=\"data row2 col1\" >194</td>\n",
       "                        <td id=\"T_ac081_row2_col2\" class=\"data row2 col2\" >9.45%</td>\n",
       "            </tr>\n",
       "            <tr>\n",
       "                        <th id=\"T_ac081_level0_row3\" class=\"row_heading level0 row3\" >3</th>\n",
       "                        <td id=\"T_ac081_row3_col0\" class=\"data row3 col0\" >330</td>\n",
       "                        <td id=\"T_ac081_row3_col1\" class=\"data row3 col1\" >27</td>\n",
       "                        <td id=\"T_ac081_row3_col2\" class=\"data row3 col2\" >8.18%</td>\n",
       "            </tr>\n",
       "            <tr>\n",
       "                        <th id=\"T_ac081_level0_row4\" class=\"row_heading level0 row4\" >4</th>\n",
       "                        <td id=\"T_ac081_row4_col0\" class=\"data row4 col0\" >41</td>\n",
       "                        <td id=\"T_ac081_row4_col1\" class=\"data row4 col1\" >4</td>\n",
       "                        <td id=\"T_ac081_row4_col2\" class=\"data row4 col2\" >9.76%</td>\n",
       "            </tr>\n",
       "            <tr>\n",
       "                        <th id=\"T_ac081_level0_row5\" class=\"row_heading level0 row5\" >5</th>\n",
       "                        <td id=\"T_ac081_row5_col0\" class=\"data row5 col0\" >9</td>\n",
       "                        <td id=\"T_ac081_row5_col1\" class=\"data row5 col1\" >0</td>\n",
       "                        <td id=\"T_ac081_row5_col2\" class=\"data row5 col2\" >0.00%</td>\n",
       "            </tr>\n",
       "    </tbody></table>"
      ],
      "text/plain": [
       "<pandas.io.formats.style.Styler at 0x7f1dd6224ac0>"
      ]
     },
     "execution_count": 31,
     "metadata": {},
     "output_type": "execute_result"
    }
   ],
   "source": [
    "data_children.style.format({'mean':'{:.2%}'})"
   ]
  },
  {
   "cell_type": "markdown",
   "id": "2eb9088e",
   "metadata": {
    "deletable": false,
    "id": "2eb9088e"
   },
   "source": [
    "**Вывод:** Да, зависимость есть.\n",
    "\n",
    "Больше всего должников среди заемщиков с 4-мя детьми, а именно 9.76% от общего числа выданных кредитов. Заемщики с 2-мя детьми не возвращали кредиты в срок в 9.45% случаев. С 1-м ребенком в 9.23% случаев. С 3-мя детьми в 8.18% случаев.\n",
    "\n",
    "Без детей не вернули кредиты в срок 7.54% заемщиков. \n",
    "\n",
    "В процентном соотношении заемщики с 5-ю детьми возвращали все 100% кредитов в срок.\n",
    "\n",
    "По скольку выборка по заемщикам с 5-ю детьми недостаточная, для однозначных выводов по возвратам для данной категории, можно с высокой долей вероятности констатировать только, что заемщики без детей наиболее благонадежные в плане возврата кредитов."
   ]
  },
  {
   "cell_type": "markdown",
   "id": "74c9b3a7",
   "metadata": {
    "deletable": false,
    "editable": false,
    "id": "74c9b3a7"
   },
   "source": [
    "#### 3.2 Есть ли зависимость между семейным положением и возвратом кредита в срок?"
   ]
  },
  {
   "cell_type": "code",
   "execution_count": 44,
   "id": "8098ab3b",
   "metadata": {
    "deletable": false,
    "id": "8098ab3b"
   },
   "outputs": [],
   "source": [
    "# Ваш код будет здесь. Вы можете создавать новые ячейки.\n",
    "\n",
    "data_family = data.pivot_table(index='family_status', values='debt', aggfunc=['count', 'sum', 'mean'])"
   ]
  },
  {
   "cell_type": "code",
   "execution_count": 45,
   "id": "1fa2a0b7",
   "metadata": {},
   "outputs": [],
   "source": [
    "data_family.columns=['count', 'sum', 'mean']"
   ]
  },
  {
   "cell_type": "code",
   "execution_count": 46,
   "id": "f713f1d9",
   "metadata": {},
   "outputs": [
    {
     "data": {
      "text/html": [
       "<style  type=\"text/css\" >\n",
       "</style><table id=\"T_09fc3_\" ><thead>    <tr>        <th class=\"blank level0\" ></th>        <th class=\"col_heading level0 col0\" >count</th>        <th class=\"col_heading level0 col1\" >sum</th>        <th class=\"col_heading level0 col2\" >mean</th>    </tr>    <tr>        <th class=\"index_name level0\" >family_status</th>        <th class=\"blank\" ></th>        <th class=\"blank\" ></th>        <th class=\"blank\" ></th>    </tr></thead><tbody>\n",
       "                <tr>\n",
       "                        <th id=\"T_09fc3_level0_row0\" class=\"row_heading level0 row0\" >Не женат / не замужем</th>\n",
       "                        <td id=\"T_09fc3_row0_col0\" class=\"data row0 col0\" >2796</td>\n",
       "                        <td id=\"T_09fc3_row0_col1\" class=\"data row0 col1\" >273</td>\n",
       "                        <td id=\"T_09fc3_row0_col2\" class=\"data row0 col2\" >9.76%</td>\n",
       "            </tr>\n",
       "            <tr>\n",
       "                        <th id=\"T_09fc3_level0_row1\" class=\"row_heading level0 row1\" >в разводе</th>\n",
       "                        <td id=\"T_09fc3_row1_col0\" class=\"data row1 col0\" >1189</td>\n",
       "                        <td id=\"T_09fc3_row1_col1\" class=\"data row1 col1\" >84</td>\n",
       "                        <td id=\"T_09fc3_row1_col2\" class=\"data row1 col2\" >7.06%</td>\n",
       "            </tr>\n",
       "            <tr>\n",
       "                        <th id=\"T_09fc3_level0_row2\" class=\"row_heading level0 row2\" >вдовец / вдова</th>\n",
       "                        <td id=\"T_09fc3_row2_col0\" class=\"data row2 col0\" >951</td>\n",
       "                        <td id=\"T_09fc3_row2_col1\" class=\"data row2 col1\" >63</td>\n",
       "                        <td id=\"T_09fc3_row2_col2\" class=\"data row2 col2\" >6.62%</td>\n",
       "            </tr>\n",
       "            <tr>\n",
       "                        <th id=\"T_09fc3_level0_row3\" class=\"row_heading level0 row3\" >гражданский брак</th>\n",
       "                        <td id=\"T_09fc3_row3_col0\" class=\"data row3 col0\" >4134</td>\n",
       "                        <td id=\"T_09fc3_row3_col1\" class=\"data row3 col1\" >385</td>\n",
       "                        <td id=\"T_09fc3_row3_col2\" class=\"data row3 col2\" >9.31%</td>\n",
       "            </tr>\n",
       "            <tr>\n",
       "                        <th id=\"T_09fc3_level0_row4\" class=\"row_heading level0 row4\" >женат / замужем</th>\n",
       "                        <td id=\"T_09fc3_row4_col0\" class=\"data row4 col0\" >12261</td>\n",
       "                        <td id=\"T_09fc3_row4_col1\" class=\"data row4 col1\" >927</td>\n",
       "                        <td id=\"T_09fc3_row4_col2\" class=\"data row4 col2\" >7.56%</td>\n",
       "            </tr>\n",
       "    </tbody></table>"
      ],
      "text/plain": [
       "<pandas.io.formats.style.Styler at 0x7f1d6b639d60>"
      ]
     },
     "execution_count": 46,
     "metadata": {},
     "output_type": "execute_result"
    }
   ],
   "source": [
    "data_family.style.format({'mean':'{:.2%}'})"
   ]
  },
  {
   "cell_type": "markdown",
   "id": "c389ca63",
   "metadata": {
    "deletable": false,
    "id": "c389ca63"
   },
   "source": [
    "**Вывод:** Зависимость между семейным положением и возвратом кредита в срок, тоже прослеживается.\n",
    "  \n",
    "Не женатые/не замужние хуже всего возвращают в срок, не вернули - 9.76% от общего числа выданных кредитов. \n",
    "  \n",
    "Заемщики состоящие в гражданском браке не вернули в 9.31% случаев. Женатые/замужние в 7.56%случаев. Состоящие в разводе в 7.06% случаев.\n",
    "\n",
    "Вдовцы/вдовы в 6.62%случаев.\n",
    "\n",
    "Следовательно вдовцы и вдовы самые благонадежные плательщики."
   ]
  },
  {
   "cell_type": "markdown",
   "id": "9529de68",
   "metadata": {
    "deletable": false,
    "editable": false,
    "id": "9529de68"
   },
   "source": [
    "#### 3.3 Есть ли зависимость между уровнем дохода и возвратом кредита в срок?"
   ]
  },
  {
   "cell_type": "code",
   "execution_count": 34,
   "id": "8787f44a",
   "metadata": {
    "deletable": false,
    "id": "8787f44a"
   },
   "outputs": [],
   "source": [
    "# Ваш код будет здесь. Вы можете создавать новые ячейки.\n",
    "\n",
    "data_income_category = data.pivot_table(index='total_income_category', values='debt', \\\n",
    "                                        aggfunc=['count','sum','mean'])"
   ]
  },
  {
   "cell_type": "code",
   "execution_count": 35,
   "id": "3036e07c",
   "metadata": {},
   "outputs": [],
   "source": [
    "data_income_category.columns=['count','sum','mean']"
   ]
  },
  {
   "cell_type": "code",
   "execution_count": 36,
   "id": "6460efba",
   "metadata": {},
   "outputs": [
    {
     "data": {
      "text/html": [
       "<style  type=\"text/css\" >\n",
       "</style><table id=\"T_a3b7d_\" ><thead>    <tr>        <th class=\"blank level0\" ></th>        <th class=\"col_heading level0 col0\" >count</th>        <th class=\"col_heading level0 col1\" >sum</th>        <th class=\"col_heading level0 col2\" >mean</th>    </tr>    <tr>        <th class=\"index_name level0\" >total_income_category</th>        <th class=\"blank\" ></th>        <th class=\"blank\" ></th>        <th class=\"blank\" ></th>    </tr></thead><tbody>\n",
       "                <tr>\n",
       "                        <th id=\"T_a3b7d_level0_row0\" class=\"row_heading level0 row0\" >A - доход больше 1000000</th>\n",
       "                        <td id=\"T_a3b7d_row0_col0\" class=\"data row0 col0\" >25</td>\n",
       "                        <td id=\"T_a3b7d_row0_col1\" class=\"data row0 col1\" >2</td>\n",
       "                        <td id=\"T_a3b7d_row0_col2\" class=\"data row0 col2\" >8.00%</td>\n",
       "            </tr>\n",
       "            <tr>\n",
       "                        <th id=\"T_a3b7d_level0_row1\" class=\"row_heading level0 row1\" >B - доход до 1000000</th>\n",
       "                        <td id=\"T_a3b7d_row1_col0\" class=\"data row1 col0\" >5014</td>\n",
       "                        <td id=\"T_a3b7d_row1_col1\" class=\"data row1 col1\" >354</td>\n",
       "                        <td id=\"T_a3b7d_row1_col2\" class=\"data row1 col2\" >7.06%</td>\n",
       "            </tr>\n",
       "            <tr>\n",
       "                        <th id=\"T_a3b7d_level0_row2\" class=\"row_heading level0 row2\" >C - доход до 200000</th>\n",
       "                        <td id=\"T_a3b7d_row2_col0\" class=\"data row2 col0\" >15921</td>\n",
       "                        <td id=\"T_a3b7d_row2_col1\" class=\"data row2 col1\" >1353</td>\n",
       "                        <td id=\"T_a3b7d_row2_col2\" class=\"data row2 col2\" >8.50%</td>\n",
       "            </tr>\n",
       "            <tr>\n",
       "                        <th id=\"T_a3b7d_level0_row3\" class=\"row_heading level0 row3\" >D - доход до 50000</th>\n",
       "                        <td id=\"T_a3b7d_row3_col0\" class=\"data row3 col0\" >349</td>\n",
       "                        <td id=\"T_a3b7d_row3_col1\" class=\"data row3 col1\" >21</td>\n",
       "                        <td id=\"T_a3b7d_row3_col2\" class=\"data row3 col2\" >6.02%</td>\n",
       "            </tr>\n",
       "            <tr>\n",
       "                        <th id=\"T_a3b7d_level0_row4\" class=\"row_heading level0 row4\" >E - доход до 30000</th>\n",
       "                        <td id=\"T_a3b7d_row4_col0\" class=\"data row4 col0\" >22</td>\n",
       "                        <td id=\"T_a3b7d_row4_col1\" class=\"data row4 col1\" >2</td>\n",
       "                        <td id=\"T_a3b7d_row4_col2\" class=\"data row4 col2\" >9.09%</td>\n",
       "            </tr>\n",
       "    </tbody></table>"
      ],
      "text/plain": [
       "<pandas.io.formats.style.Styler at 0x7f1dd61f8a60>"
      ]
     },
     "execution_count": 36,
     "metadata": {},
     "output_type": "execute_result"
    }
   ],
   "source": [
    "data_income_category.style.format({'mean':'{:.2%}'})"
   ]
  },
  {
   "cell_type": "markdown",
   "id": "6dd14b57",
   "metadata": {
    "deletable": false,
    "id": "6dd14b57"
   },
   "source": [
    "**Вывод:** Заемщики с доходом до 30000р больше всех не возвращали в срок, а именно в 9.09% случаев.\n",
    "\n",
    "заемщики с доходом от 50000 до 200000 не возвращали в срок в 8.50% случаев. Заемщики с доходом свыше 1000000 не возвращали в 8% случаев. заемщики с доходо от 200000 до 1000000 не возвращали в 7.06% случаев.\n",
    "\n",
    "Заемщики с доходом от 30000 до 50000р. самые благонадежные, процент не возвратов  в срок 6.02% Близки по не возвратам категории до 30000р и от 50000 до 200000 разница 0.59%. И разница между заемщиками с самым низким доходом и самым высоким всего 1.09%.\n",
    "\n"
   ]
  },
  {
   "cell_type": "markdown",
   "id": "1dcc9b12",
   "metadata": {
    "deletable": false,
    "editable": false,
    "id": "1dcc9b12"
   },
   "source": [
    "#### 3.4 Как разные цели кредита влияют на его возврат в срок?"
   ]
  },
  {
   "cell_type": "code",
   "execution_count": 37,
   "id": "c602bc8b",
   "metadata": {
    "deletable": false,
    "id": "c602bc8b"
   },
   "outputs": [],
   "source": [
    "# Ваш код будет здесь. Вы можете создавать новые ячейки.\n",
    "\n",
    "data_purpose = data.pivot_table(index='purpose_category', values='debt', aggfunc=['count','sum','mean'])"
   ]
  },
  {
   "cell_type": "code",
   "execution_count": 38,
   "id": "010eada7",
   "metadata": {},
   "outputs": [],
   "source": [
    "data_purpose.columns=['count', 'sum', 'mean']"
   ]
  },
  {
   "cell_type": "code",
   "execution_count": 39,
   "id": "cf5e40cb",
   "metadata": {},
   "outputs": [
    {
     "data": {
      "text/html": [
       "<style  type=\"text/css\" >\n",
       "</style><table id=\"T_35311_\" ><thead>    <tr>        <th class=\"blank level0\" ></th>        <th class=\"col_heading level0 col0\" >count</th>        <th class=\"col_heading level0 col1\" >sum</th>        <th class=\"col_heading level0 col2\" >mean</th>    </tr>    <tr>        <th class=\"index_name level0\" >purpose_category</th>        <th class=\"blank\" ></th>        <th class=\"blank\" ></th>        <th class=\"blank\" ></th>    </tr></thead><tbody>\n",
       "                <tr>\n",
       "                        <th id=\"T_35311_level0_row0\" class=\"row_heading level0 row0\" >операции с автомобилем</th>\n",
       "                        <td id=\"T_35311_row0_col0\" class=\"data row0 col0\" >4279</td>\n",
       "                        <td id=\"T_35311_row0_col1\" class=\"data row0 col1\" >400</td>\n",
       "                        <td id=\"T_35311_row0_col2\" class=\"data row0 col2\" >9.35%</td>\n",
       "            </tr>\n",
       "            <tr>\n",
       "                        <th id=\"T_35311_level0_row1\" class=\"row_heading level0 row1\" >операции с недвижимостью</th>\n",
       "                        <td id=\"T_35311_row1_col0\" class=\"data row1 col0\" >10751</td>\n",
       "                        <td id=\"T_35311_row1_col1\" class=\"data row1 col1\" >780</td>\n",
       "                        <td id=\"T_35311_row1_col2\" class=\"data row1 col2\" >7.26%</td>\n",
       "            </tr>\n",
       "            <tr>\n",
       "                        <th id=\"T_35311_level0_row2\" class=\"row_heading level0 row2\" >получение образования</th>\n",
       "                        <td id=\"T_35311_row2_col0\" class=\"data row2 col0\" >3988</td>\n",
       "                        <td id=\"T_35311_row2_col1\" class=\"data row2 col1\" >369</td>\n",
       "                        <td id=\"T_35311_row2_col2\" class=\"data row2 col2\" >9.25%</td>\n",
       "            </tr>\n",
       "            <tr>\n",
       "                        <th id=\"T_35311_level0_row3\" class=\"row_heading level0 row3\" >проведение свадьбы</th>\n",
       "                        <td id=\"T_35311_row3_col0\" class=\"data row3 col0\" >2313</td>\n",
       "                        <td id=\"T_35311_row3_col1\" class=\"data row3 col1\" >183</td>\n",
       "                        <td id=\"T_35311_row3_col2\" class=\"data row3 col2\" >7.91%</td>\n",
       "            </tr>\n",
       "    </tbody></table>"
      ],
      "text/plain": [
       "<pandas.io.formats.style.Styler at 0x7f1dd61c9f70>"
      ]
     },
     "execution_count": 39,
     "metadata": {},
     "output_type": "execute_result"
    }
   ],
   "source": [
    "data_purpose.style.format({'mean':'{:.2%}'})"
   ]
  },
  {
   "cell_type": "markdown",
   "id": "cf05ed63",
   "metadata": {
    "deletable": false,
    "id": "cf05ed63"
   },
   "source": [
    "**Вывод:** Заемщики берущие кредит на операции с автомобилем и получение образования чаще не возвращают вовремя кредит в 9.35% и 9.25% случаев соответственно.\n",
    "\n",
    "Заемщики берущие кредит на свадьбу не возвращали в 7.91% случаев.\n",
    "\n",
    "Самые благонадежные заемщики те кто брал кредит на операции с недвижимостью, процент не возвратов 7.26%"
   ]
  },
  {
   "cell_type": "markdown",
   "id": "46c1f10b",
   "metadata": {
    "deletable": false,
    "editable": false,
    "id": "46c1f10b"
   },
   "source": [
    "#### 3.5 Приведите возможные причины появления пропусков в исходных данных."
   ]
  },
  {
   "cell_type": "markdown",
   "id": "3697d2a9",
   "metadata": {
    "deletable": false,
    "id": "3697d2a9"
   },
   "source": [
    "*Ответ:* Ошибки при переносе данных, отсутствие возможности получения некоторых исходных данных, ошибки при внесении, техничекие сбои."
   ]
  },
  {
   "cell_type": "markdown",
   "id": "3137d257",
   "metadata": {
    "deletable": false,
    "editable": false,
    "id": "3137d257"
   },
   "source": [
    "#### 3.6 Объясните, почему заполнить пропуски медианным значением — лучшее решение для количественных переменных."
   ]
  },
  {
   "cell_type": "markdown",
   "id": "cf40012a",
   "metadata": {
    "deletable": false,
    "id": "cf40012a"
   },
   "source": [
    "*Ответ:*  Медианные значения в отличии от средних покажут более точную картину. Если в исходных данных есть сильно отличающиеся максимальные или минимальные значения, средний показатель сдвинется в сторону увеличения или уменьшения, что приведет к ошибочным выводам."
   ]
  },
  {
   "cell_type": "markdown",
   "id": "57bc304e",
   "metadata": {
    "deletable": false,
    "editable": false,
    "id": "57bc304e"
   },
   "source": [
    "### Шаг 4: общий вывод."
   ]
  },
  {
   "cell_type": "markdown",
   "id": "1ab75d1c",
   "metadata": {
    "deletable": false,
    "id": "1ab75d1c"
   },
   "source": [
    "\n",
    "\n",
    "Если исследовать взаимосвязь между количеством детей и возвратом кредитов в срок, то:\n",
    "\n",
    "больше всего должников среди заемщиков с 4-мя детьми, а именно 9.76% от общего числа выданных кредитов. Заемщики с 2-мя детьми не возвращали кредиты в срок в 9.45% случаев. С 1-м ребенком в 9.23% случаев. С 3-мя детьми в 8.18% случаев.\n",
    "\n",
    "Без детей не вернули кредиты в срок 7.54% заемщиков. \n",
    "\n",
    "В процентном соотношении заемщики с 5-ю детьми возвращали все 100% кредитов в срок.\n",
    "\n",
    "По скольку выборка по заемщикам с 5-ю детьми недостаточная, для однозначных выводов по возвратам для данной категории, можно с высокой долей вероятности констатировать только, что заемщики без детей наиболее благонадежные в плане возврата кредитов.\n",
    "\n",
    "\n",
    "Зависимость между семейным положением и возвратом кредита в срок, тоже прослеживается:\n",
    "  \n",
    "не женатые/не замужние хуже всего возвращают в срок, не вернули - 9.76% от общего числа выданных кредитов. Заемщики состоящие в гражданском браке не вернули в 9.31% случаев. Женатые/замужние в 7.56%случаев. Состоящие в разводе в 7.06% случаев.\n",
    "\n",
    "Вдовцы/вдовы в 6.62%случаев.\n",
    "\n",
    "Следовательно вдовцы и вдовы самые благонадежные плательщики.\n",
    "\n",
    "\n",
    "Исходя из данных об уровне доходя заемщиков:\n",
    "\n",
    "заемщики с доходом до 30000р больше всех не возвращали в срок, а именно в 9.09% случаев.\n",
    "\n",
    "заемщики с доходом от 50000 до 200000 не возвращали в срок в 8.50% случаев. Заемщики с доходом свыше 1000000 не возвращали в 8% случаев. заемщики с доходо от 200000 до 1000000 не возвращали в 7.06% случаев.\n",
    "\n",
    "Заемщики с доходом от 30000 до 50000р. самые благонадежные, процент невозвратов  в срок 6.02% Близки по невозвратам категории до 30000р и от 50000 до 200000 разница 0.59%. И разница между заемщиками с самым низким доходом и самым высоким всего 1.09%.\n",
    "\n",
    "\n",
    "В зависимости от целей кредита, количество возвратов кредитов в срок так же отличается:\n",
    "\n",
    "заемщики берущие кредит на операции с автомобилем и получение образования чаще не возвращают вовремя кредит в 9.35% и 9.25% случаев соответственно.\n",
    "\n",
    "Заемщики берущие кредит на свадьбу не возвращали в 7.91% случаев.\n",
    "\n",
    "Самые благонадежные заемщики те кто брал кредит на операции с недвижимостью, процент невозвратов 7.26%\n"
   ]
  }
 ],
 "metadata": {
  "ExecuteTimeLog": [
   {
    "duration": 3,
    "start_time": "2023-02-18T15:48:34.487Z"
   },
   {
    "duration": 75,
    "start_time": "2023-02-18T15:54:12.221Z"
   },
   {
    "duration": 70,
    "start_time": "2023-02-18T15:54:27.382Z"
   },
   {
    "duration": 85,
    "start_time": "2023-02-18T15:54:32.151Z"
   },
   {
    "duration": 84,
    "start_time": "2023-02-18T15:54:35.427Z"
   },
   {
    "duration": 663,
    "start_time": "2023-02-18T15:54:43.128Z"
   },
   {
    "duration": 21,
    "start_time": "2023-02-18T15:54:43.793Z"
   },
   {
    "duration": 16,
    "start_time": "2023-02-18T15:54:43.816Z"
   },
   {
    "duration": 9,
    "start_time": "2023-02-18T15:54:43.833Z"
   },
   {
    "duration": 56,
    "start_time": "2023-02-18T15:54:43.843Z"
   },
   {
    "duration": 4,
    "start_time": "2023-02-18T15:54:43.900Z"
   },
   {
    "duration": 10,
    "start_time": "2023-02-18T15:54:43.906Z"
   },
   {
    "duration": 4,
    "start_time": "2023-02-18T15:54:43.918Z"
   },
   {
    "duration": 9,
    "start_time": "2023-02-18T15:54:43.924Z"
   },
   {
    "duration": 4,
    "start_time": "2023-02-18T15:54:43.936Z"
   },
   {
    "duration": 64,
    "start_time": "2023-02-18T15:54:43.942Z"
   },
   {
    "duration": 9,
    "start_time": "2023-02-18T15:54:44.008Z"
   },
   {
    "duration": 3,
    "start_time": "2023-02-18T15:54:44.019Z"
   },
   {
    "duration": 11,
    "start_time": "2023-02-18T15:54:44.024Z"
   },
   {
    "duration": 19,
    "start_time": "2023-02-18T15:54:44.036Z"
   },
   {
    "duration": 42,
    "start_time": "2023-02-18T15:54:44.057Z"
   },
   {
    "duration": 3,
    "start_time": "2023-02-18T15:54:44.101Z"
   },
   {
    "duration": 14,
    "start_time": "2023-02-18T15:54:44.106Z"
   },
   {
    "duration": 5,
    "start_time": "2023-02-18T15:54:44.122Z"
   },
   {
    "duration": 4,
    "start_time": "2023-02-18T15:54:44.129Z"
   },
   {
    "duration": 11,
    "start_time": "2023-02-18T15:54:44.135Z"
   },
   {
    "duration": 76,
    "start_time": "2023-02-18T15:54:44.147Z"
   },
   {
    "duration": 0,
    "start_time": "2023-02-18T15:54:44.225Z"
   },
   {
    "duration": 0,
    "start_time": "2023-02-18T15:54:44.226Z"
   },
   {
    "duration": 0,
    "start_time": "2023-02-18T15:54:44.227Z"
   },
   {
    "duration": 62,
    "start_time": "2023-02-18T15:54:59.617Z"
   },
   {
    "duration": 7,
    "start_time": "2023-02-18T15:55:40.315Z"
   },
   {
    "duration": 9,
    "start_time": "2023-02-18T15:55:51.203Z"
   },
   {
    "duration": 7,
    "start_time": "2023-02-18T15:56:05.438Z"
   },
   {
    "duration": 7,
    "start_time": "2023-02-18T16:30:36.966Z"
   },
   {
    "duration": 21,
    "start_time": "2023-02-18T16:30:49.433Z"
   },
   {
    "duration": 19,
    "start_time": "2023-02-18T16:30:54.597Z"
   },
   {
    "duration": 33,
    "start_time": "2023-02-18T16:31:04.837Z"
   },
   {
    "duration": 42,
    "start_time": "2023-02-18T16:32:01.942Z"
   },
   {
    "duration": 42,
    "start_time": "2023-02-18T16:32:31.692Z"
   },
   {
    "duration": 13,
    "start_time": "2023-02-18T16:34:17.710Z"
   },
   {
    "duration": 93,
    "start_time": "2023-02-18T16:38:52.813Z"
   },
   {
    "duration": 25,
    "start_time": "2023-02-18T16:39:11.771Z"
   },
   {
    "duration": 20,
    "start_time": "2023-02-18T16:40:14.469Z"
   },
   {
    "duration": 28,
    "start_time": "2023-02-18T17:56:47.933Z"
   },
   {
    "duration": 89,
    "start_time": "2023-02-18T17:58:41.273Z"
   },
   {
    "duration": 20,
    "start_time": "2023-02-18T17:58:55.548Z"
   },
   {
    "duration": 95,
    "start_time": "2023-02-18T18:00:48.261Z"
   },
   {
    "duration": 37,
    "start_time": "2023-02-18T18:01:04.781Z"
   },
   {
    "duration": 13,
    "start_time": "2023-02-18T18:01:58.520Z"
   },
   {
    "duration": 104,
    "start_time": "2023-02-18T18:08:31.933Z"
   },
   {
    "duration": 66,
    "start_time": "2023-02-18T18:08:49.432Z"
   },
   {
    "duration": 8,
    "start_time": "2023-02-18T18:09:01.592Z"
   },
   {
    "duration": 20,
    "start_time": "2023-02-18T18:09:16.013Z"
   },
   {
    "duration": 20,
    "start_time": "2023-02-18T18:16:04.962Z"
   },
   {
    "duration": 12,
    "start_time": "2023-02-18T18:25:35.629Z"
   },
   {
    "duration": 11,
    "start_time": "2023-02-18T18:26:07.339Z"
   },
   {
    "duration": 71,
    "start_time": "2023-02-18T18:34:27.439Z"
   },
   {
    "duration": 71,
    "start_time": "2023-02-18T18:34:33.432Z"
   },
   {
    "duration": 72,
    "start_time": "2023-02-18T18:34:43.220Z"
   },
   {
    "duration": 27,
    "start_time": "2023-02-18T18:35:20.029Z"
   },
   {
    "duration": 45,
    "start_time": "2023-02-18T18:36:54.225Z"
   },
   {
    "duration": 43,
    "start_time": "2023-02-18T18:40:10.181Z"
   },
   {
    "duration": 5,
    "start_time": "2023-02-18T18:40:20.709Z"
   },
   {
    "duration": 27,
    "start_time": "2023-02-18T18:40:27.205Z"
   },
   {
    "duration": 77,
    "start_time": "2023-02-18T18:51:06.872Z"
   },
   {
    "duration": 75,
    "start_time": "2023-02-18T18:51:16.943Z"
   },
   {
    "duration": 74,
    "start_time": "2023-02-18T18:52:27.321Z"
   },
   {
    "duration": 877,
    "start_time": "2023-02-18T18:52:47.222Z"
   },
   {
    "duration": 55,
    "start_time": "2023-02-18T18:53:46.792Z"
   },
   {
    "duration": 37,
    "start_time": "2023-02-18T18:53:55.562Z"
   },
   {
    "duration": 35,
    "start_time": "2023-02-18T18:54:13.258Z"
   },
   {
    "duration": 71,
    "start_time": "2023-02-18T18:56:50.408Z"
   },
   {
    "duration": 24,
    "start_time": "2023-02-18T18:57:03.179Z"
   },
   {
    "duration": 22,
    "start_time": "2023-02-18T18:58:32.274Z"
   },
   {
    "duration": 23,
    "start_time": "2023-02-18T19:03:09.142Z"
   },
   {
    "duration": 24,
    "start_time": "2023-02-18T19:03:18.049Z"
   },
   {
    "duration": 24,
    "start_time": "2023-02-18T19:03:37.243Z"
   },
   {
    "duration": 22,
    "start_time": "2023-02-18T19:04:14.087Z"
   },
   {
    "duration": 22,
    "start_time": "2023-02-18T19:04:25.615Z"
   },
   {
    "duration": 24,
    "start_time": "2023-02-18T19:04:50.806Z"
   },
   {
    "duration": 26,
    "start_time": "2023-02-18T19:05:03.494Z"
   },
   {
    "duration": 30,
    "start_time": "2023-02-18T19:08:25.989Z"
   },
   {
    "duration": 40,
    "start_time": "2023-02-18T19:44:01.442Z"
   },
   {
    "duration": 30,
    "start_time": "2023-02-18T19:44:09.442Z"
   },
   {
    "duration": 89,
    "start_time": "2023-02-18T20:19:16.746Z"
   },
   {
    "duration": 90,
    "start_time": "2023-02-18T20:37:54.851Z"
   },
   {
    "duration": 51,
    "start_time": "2023-02-18T20:40:15.879Z"
   },
   {
    "duration": 8,
    "start_time": "2023-02-18T20:41:00.582Z"
   },
   {
    "duration": 38,
    "start_time": "2023-02-18T20:43:04.432Z"
   },
   {
    "duration": 29,
    "start_time": "2023-02-18T20:43:20.033Z"
   },
   {
    "duration": 32,
    "start_time": "2023-02-18T20:43:32.370Z"
   },
   {
    "duration": 29,
    "start_time": "2023-02-18T20:43:40.329Z"
   },
   {
    "duration": 71,
    "start_time": "2023-02-18T20:44:13.284Z"
   },
   {
    "duration": 27,
    "start_time": "2023-02-18T20:44:42.837Z"
   },
   {
    "duration": 72,
    "start_time": "2023-02-18T20:49:19.276Z"
   },
   {
    "duration": 27,
    "start_time": "2023-02-18T20:49:53.413Z"
   },
   {
    "duration": 19,
    "start_time": "2023-02-18T20:55:47.225Z"
   },
   {
    "duration": 14,
    "start_time": "2023-02-18T20:56:12.985Z"
   },
   {
    "duration": 38,
    "start_time": "2023-02-18T20:56:31.714Z"
   },
   {
    "duration": 27,
    "start_time": "2023-02-18T20:59:17.886Z"
   },
   {
    "duration": 12,
    "start_time": "2023-02-19T10:11:55.377Z"
   },
   {
    "duration": 49,
    "start_time": "2023-02-19T10:11:56.210Z"
   },
   {
    "duration": 762,
    "start_time": "2023-02-19T10:12:05.725Z"
   },
   {
    "duration": 21,
    "start_time": "2023-02-19T10:12:06.489Z"
   },
   {
    "duration": 51,
    "start_time": "2023-02-19T10:12:06.511Z"
   },
   {
    "duration": 14,
    "start_time": "2023-02-19T10:12:06.564Z"
   },
   {
    "duration": 60,
    "start_time": "2023-02-19T10:12:06.579Z"
   },
   {
    "duration": 3,
    "start_time": "2023-02-19T10:12:06.640Z"
   },
   {
    "duration": 51,
    "start_time": "2023-02-19T10:12:06.645Z"
   },
   {
    "duration": 28,
    "start_time": "2023-02-19T10:12:06.698Z"
   },
   {
    "duration": 47,
    "start_time": "2023-02-19T10:12:06.728Z"
   },
   {
    "duration": 15,
    "start_time": "2023-02-19T10:12:06.777Z"
   },
   {
    "duration": 72,
    "start_time": "2023-02-19T10:12:06.793Z"
   },
   {
    "duration": 11,
    "start_time": "2023-02-19T10:12:06.867Z"
   },
   {
    "duration": 35,
    "start_time": "2023-02-19T10:12:06.880Z"
   },
   {
    "duration": 30,
    "start_time": "2023-02-19T10:12:06.917Z"
   },
   {
    "duration": 41,
    "start_time": "2023-02-19T10:12:06.949Z"
   },
   {
    "duration": 29,
    "start_time": "2023-02-19T10:12:06.992Z"
   },
   {
    "duration": 4,
    "start_time": "2023-02-19T10:12:07.023Z"
   },
   {
    "duration": 79,
    "start_time": "2023-02-19T10:12:07.029Z"
   },
   {
    "duration": 41,
    "start_time": "2023-02-19T10:12:07.110Z"
   },
   {
    "duration": 59,
    "start_time": "2023-02-19T10:12:07.155Z"
   },
   {
    "duration": 30,
    "start_time": "2023-02-19T10:12:07.216Z"
   },
   {
    "duration": 510,
    "start_time": "2023-02-19T10:12:07.250Z"
   },
   {
    "duration": 28,
    "start_time": "2023-02-19T10:12:07.762Z"
   },
   {
    "duration": 28,
    "start_time": "2023-02-19T10:12:07.791Z"
   },
   {
    "duration": 19,
    "start_time": "2023-02-19T10:12:07.820Z"
   },
   {
    "duration": 10,
    "start_time": "2023-02-19T10:12:16.179Z"
   },
   {
    "duration": 24,
    "start_time": "2023-02-19T10:24:22.070Z"
   },
   {
    "duration": 27,
    "start_time": "2023-02-19T10:24:41.669Z"
   },
   {
    "duration": 88,
    "start_time": "2023-02-19T10:28:19.906Z"
   },
   {
    "duration": 76,
    "start_time": "2023-02-19T10:28:44.109Z"
   },
   {
    "duration": 27,
    "start_time": "2023-02-19T10:38:52.795Z"
   },
   {
    "duration": 38,
    "start_time": "2023-02-19T14:38:30.090Z"
   },
   {
    "duration": 26,
    "start_time": "2023-02-19T14:38:47.584Z"
   },
   {
    "duration": 82,
    "start_time": "2023-02-19T14:41:12.770Z"
   },
   {
    "duration": 68,
    "start_time": "2023-02-19T14:41:23.718Z"
   },
   {
    "duration": 72,
    "start_time": "2023-02-19T14:41:36.806Z"
   },
   {
    "duration": 29,
    "start_time": "2023-02-19T14:46:13.333Z"
   },
   {
    "duration": 27,
    "start_time": "2023-02-19T14:46:21.426Z"
   },
   {
    "duration": 27,
    "start_time": "2023-02-19T14:46:36.251Z"
   },
   {
    "duration": 27,
    "start_time": "2023-02-19T14:48:03.571Z"
   },
   {
    "duration": 30,
    "start_time": "2023-02-19T14:48:14.099Z"
   },
   {
    "duration": 26,
    "start_time": "2023-02-19T14:51:22.465Z"
   },
   {
    "duration": 9,
    "start_time": "2023-02-19T15:28:33.593Z"
   },
   {
    "duration": 11,
    "start_time": "2023-02-19T15:28:45.930Z"
   },
   {
    "duration": 24,
    "start_time": "2023-02-19T15:28:57.794Z"
   },
   {
    "duration": 26,
    "start_time": "2023-02-19T15:29:41.807Z"
   },
   {
    "duration": 32,
    "start_time": "2023-02-19T15:29:53.258Z"
   },
   {
    "duration": 50,
    "start_time": "2023-02-19T15:30:26.729Z"
   },
   {
    "duration": 53,
    "start_time": "2023-02-19T15:31:39.323Z"
   },
   {
    "duration": 57,
    "start_time": "2023-02-19T15:31:44.704Z"
   },
   {
    "duration": 56,
    "start_time": "2023-02-19T15:32:09.094Z"
   },
   {
    "duration": 50,
    "start_time": "2023-02-19T15:32:52.071Z"
   },
   {
    "duration": 39,
    "start_time": "2023-02-19T15:33:17.842Z"
   },
   {
    "duration": 38,
    "start_time": "2023-02-19T15:33:20.946Z"
   },
   {
    "duration": 39,
    "start_time": "2023-02-19T15:33:27.750Z"
   },
   {
    "duration": 52,
    "start_time": "2023-02-19T15:33:39.052Z"
   },
   {
    "duration": 48,
    "start_time": "2023-02-19T15:33:48.470Z"
   },
   {
    "duration": 32,
    "start_time": "2023-02-19T15:33:54.448Z"
   },
   {
    "duration": 50,
    "start_time": "2023-02-19T15:35:54.425Z"
   },
   {
    "duration": 29,
    "start_time": "2023-02-19T15:36:16.386Z"
   },
   {
    "duration": 38,
    "start_time": "2023-02-19T15:36:19.534Z"
   },
   {
    "duration": 30,
    "start_time": "2023-02-19T15:36:22.348Z"
   },
   {
    "duration": 517,
    "start_time": "2023-02-19T15:36:30.232Z"
   },
   {
    "duration": 32,
    "start_time": "2023-02-19T15:36:30.752Z"
   },
   {
    "duration": 41,
    "start_time": "2023-02-19T15:36:30.786Z"
   },
   {
    "duration": 25,
    "start_time": "2023-02-19T15:36:30.830Z"
   },
   {
    "duration": 88,
    "start_time": "2023-02-19T15:36:30.857Z"
   },
   {
    "duration": 15,
    "start_time": "2023-02-19T15:36:30.947Z"
   },
   {
    "duration": 145,
    "start_time": "2023-02-19T15:36:30.964Z"
   },
   {
    "duration": 44,
    "start_time": "2023-02-19T15:36:31.111Z"
   },
   {
    "duration": 69,
    "start_time": "2023-02-19T15:36:31.157Z"
   },
   {
    "duration": 206,
    "start_time": "2023-02-19T15:36:31.229Z"
   },
   {
    "duration": 237,
    "start_time": "2023-02-19T15:36:31.438Z"
   },
   {
    "duration": 125,
    "start_time": "2023-02-19T15:36:31.678Z"
   },
   {
    "duration": 37,
    "start_time": "2023-02-19T15:36:31.806Z"
   },
   {
    "duration": 46,
    "start_time": "2023-02-19T15:36:31.846Z"
   },
   {
    "duration": 60,
    "start_time": "2023-02-19T15:36:31.894Z"
   },
   {
    "duration": 62,
    "start_time": "2023-02-19T15:36:31.956Z"
   },
   {
    "duration": 5,
    "start_time": "2023-02-19T15:36:32.020Z"
   },
   {
    "duration": 30,
    "start_time": "2023-02-19T15:36:32.028Z"
   },
   {
    "duration": 18,
    "start_time": "2023-02-19T15:36:32.060Z"
   },
   {
    "duration": 19,
    "start_time": "2023-02-19T15:36:32.080Z"
   },
   {
    "duration": 16,
    "start_time": "2023-02-19T15:36:32.101Z"
   },
   {
    "duration": 342,
    "start_time": "2023-02-19T15:36:32.120Z"
   },
   {
    "duration": 38,
    "start_time": "2023-02-19T15:36:32.463Z"
   },
   {
    "duration": 50,
    "start_time": "2023-02-19T15:36:32.503Z"
   },
   {
    "duration": 107,
    "start_time": "2023-02-19T15:36:32.555Z"
   },
   {
    "duration": 37,
    "start_time": "2023-02-19T15:36:39.049Z"
   },
   {
    "duration": 31,
    "start_time": "2023-02-19T15:38:24.729Z"
   },
   {
    "duration": 36,
    "start_time": "2023-02-19T15:38:33.380Z"
   },
   {
    "duration": 52,
    "start_time": "2023-02-19T15:38:54.295Z"
   },
   {
    "duration": 32,
    "start_time": "2023-02-19T15:39:27.641Z"
   },
   {
    "duration": 9,
    "start_time": "2023-02-19T15:40:34.838Z"
   },
   {
    "duration": 36,
    "start_time": "2023-02-19T15:40:57.127Z"
   },
   {
    "duration": 34,
    "start_time": "2023-02-19T15:41:00.089Z"
   },
   {
    "duration": 33,
    "start_time": "2023-02-19T15:41:17.082Z"
   },
   {
    "duration": 39,
    "start_time": "2023-02-19T15:41:35.529Z"
   },
   {
    "duration": 29,
    "start_time": "2023-02-19T15:52:11.080Z"
   },
   {
    "duration": 27,
    "start_time": "2023-02-19T15:52:20.370Z"
   },
   {
    "duration": 29,
    "start_time": "2023-02-19T15:52:28.536Z"
   },
   {
    "duration": 28,
    "start_time": "2023-02-19T15:53:03.113Z"
   },
   {
    "duration": 27,
    "start_time": "2023-02-19T15:53:08.028Z"
   },
   {
    "duration": 26,
    "start_time": "2023-02-19T15:53:15.436Z"
   },
   {
    "duration": 26,
    "start_time": "2023-02-19T15:53:16.844Z"
   },
   {
    "duration": 29,
    "start_time": "2023-02-19T15:53:18.011Z"
   },
   {
    "duration": 32,
    "start_time": "2023-02-19T15:53:31.110Z"
   },
   {
    "duration": 27,
    "start_time": "2023-02-19T15:58:02.094Z"
   },
   {
    "duration": 22,
    "start_time": "2023-02-19T16:24:22.589Z"
   },
   {
    "duration": 35,
    "start_time": "2023-02-19T16:24:25.453Z"
   },
   {
    "duration": 28,
    "start_time": "2023-02-19T16:24:28.831Z"
   },
   {
    "duration": 475,
    "start_time": "2023-02-20T13:18:12.055Z"
   },
   {
    "duration": 31,
    "start_time": "2023-02-20T13:18:12.533Z"
   },
   {
    "duration": 19,
    "start_time": "2023-02-20T13:18:12.566Z"
   },
   {
    "duration": 15,
    "start_time": "2023-02-20T13:18:12.587Z"
   },
   {
    "duration": 70,
    "start_time": "2023-02-20T13:18:12.605Z"
   },
   {
    "duration": 8,
    "start_time": "2023-02-20T13:18:12.677Z"
   },
   {
    "duration": 22,
    "start_time": "2023-02-20T13:18:12.689Z"
   },
   {
    "duration": 17,
    "start_time": "2023-02-20T13:18:12.713Z"
   },
   {
    "duration": 12,
    "start_time": "2023-02-20T13:18:12.732Z"
   },
   {
    "duration": 4,
    "start_time": "2023-02-20T13:18:12.746Z"
   },
   {
    "duration": 37,
    "start_time": "2023-02-20T13:18:12.752Z"
   },
   {
    "duration": 11,
    "start_time": "2023-02-20T13:18:12.790Z"
   },
   {
    "duration": 5,
    "start_time": "2023-02-20T13:18:12.802Z"
   },
   {
    "duration": 39,
    "start_time": "2023-02-20T13:18:12.810Z"
   },
   {
    "duration": 32,
    "start_time": "2023-02-20T13:18:12.852Z"
   },
   {
    "duration": 21,
    "start_time": "2023-02-20T13:18:12.886Z"
   },
   {
    "duration": 13,
    "start_time": "2023-02-20T13:18:12.910Z"
   },
   {
    "duration": 36,
    "start_time": "2023-02-20T13:18:12.929Z"
   },
   {
    "duration": 13,
    "start_time": "2023-02-20T13:18:12.967Z"
   },
   {
    "duration": 7,
    "start_time": "2023-02-20T13:18:12.982Z"
   },
   {
    "duration": 22,
    "start_time": "2023-02-20T13:18:12.991Z"
   },
   {
    "duration": 506,
    "start_time": "2023-02-20T13:18:13.015Z"
   },
   {
    "duration": 38,
    "start_time": "2023-02-20T13:18:13.523Z"
   },
   {
    "duration": 28,
    "start_time": "2023-02-20T13:18:13.563Z"
   },
   {
    "duration": 48,
    "start_time": "2023-02-20T13:18:13.593Z"
   },
   {
    "duration": 48,
    "start_time": "2023-02-20T20:10:03.155Z"
   },
   {
    "duration": 7,
    "start_time": "2023-02-20T20:10:11.313Z"
   },
   {
    "duration": 1089,
    "start_time": "2023-02-20T20:10:47.558Z"
   },
   {
    "duration": 28,
    "start_time": "2023-02-20T20:10:48.649Z"
   },
   {
    "duration": 32,
    "start_time": "2023-02-20T20:10:48.678Z"
   },
   {
    "duration": 11,
    "start_time": "2023-02-20T20:10:48.713Z"
   },
   {
    "duration": 41,
    "start_time": "2023-02-20T20:10:48.726Z"
   },
   {
    "duration": 4,
    "start_time": "2023-02-20T20:10:48.769Z"
   },
   {
    "duration": 13,
    "start_time": "2023-02-20T20:10:48.774Z"
   },
   {
    "duration": 5,
    "start_time": "2023-02-20T20:10:48.789Z"
   },
   {
    "duration": 30,
    "start_time": "2023-02-20T20:10:48.796Z"
   },
   {
    "duration": 5,
    "start_time": "2023-02-20T20:10:48.830Z"
   },
   {
    "duration": 39,
    "start_time": "2023-02-20T20:10:48.837Z"
   },
   {
    "duration": 11,
    "start_time": "2023-02-20T20:10:48.878Z"
   },
   {
    "duration": 31,
    "start_time": "2023-02-20T20:10:48.891Z"
   },
   {
    "duration": 12,
    "start_time": "2023-02-20T20:10:48.924Z"
   },
   {
    "duration": 20,
    "start_time": "2023-02-20T20:10:48.938Z"
   },
   {
    "duration": 18,
    "start_time": "2023-02-20T20:10:48.960Z"
   },
   {
    "duration": 4,
    "start_time": "2023-02-20T20:10:48.980Z"
   },
   {
    "duration": 17,
    "start_time": "2023-02-20T20:10:49.020Z"
   },
   {
    "duration": 13,
    "start_time": "2023-02-20T20:10:49.040Z"
   },
   {
    "duration": 4,
    "start_time": "2023-02-20T20:10:49.056Z"
   },
   {
    "duration": 16,
    "start_time": "2023-02-20T20:10:49.062Z"
   },
   {
    "duration": 522,
    "start_time": "2023-02-20T20:10:49.081Z"
   },
   {
    "duration": 40,
    "start_time": "2023-02-20T20:10:49.605Z"
   },
   {
    "duration": 30,
    "start_time": "2023-02-20T20:10:49.647Z"
   },
   {
    "duration": 51,
    "start_time": "2023-02-20T20:10:49.680Z"
   },
   {
    "duration": 33,
    "start_time": "2023-02-20T20:10:58.060Z"
   },
   {
    "duration": 28,
    "start_time": "2023-02-20T20:11:01.538Z"
   },
   {
    "duration": 34,
    "start_time": "2023-02-20T20:11:02.336Z"
   },
   {
    "duration": 29,
    "start_time": "2023-02-20T20:11:02.922Z"
   },
   {
    "duration": 3,
    "start_time": "2023-02-20T20:18:09.233Z"
   },
   {
    "duration": 6,
    "start_time": "2023-02-20T20:18:25.552Z"
   },
   {
    "duration": 26,
    "start_time": "2023-02-20T20:18:38.713Z"
   },
   {
    "duration": 3,
    "start_time": "2023-02-20T20:18:42.546Z"
   },
   {
    "duration": 26,
    "start_time": "2023-02-20T20:20:02.534Z"
   },
   {
    "duration": 3,
    "start_time": "2023-02-20T20:20:03.370Z"
   },
   {
    "duration": 7,
    "start_time": "2023-02-20T20:20:04.175Z"
   },
   {
    "duration": 23,
    "start_time": "2023-02-20T20:20:29.937Z"
   },
   {
    "duration": 2,
    "start_time": "2023-02-20T20:20:31.756Z"
   },
   {
    "duration": 6,
    "start_time": "2023-02-20T20:20:32.159Z"
   },
   {
    "duration": 68,
    "start_time": "2023-02-20T20:21:38.132Z"
   },
   {
    "duration": 27,
    "start_time": "2023-02-20T20:21:46.310Z"
   },
   {
    "duration": 3,
    "start_time": "2023-02-20T20:21:47.126Z"
   },
   {
    "duration": 8,
    "start_time": "2023-02-20T20:21:47.806Z"
   },
   {
    "duration": 24,
    "start_time": "2023-02-20T20:21:56.580Z"
   },
   {
    "duration": 3,
    "start_time": "2023-02-20T20:21:57.153Z"
   },
   {
    "duration": 6,
    "start_time": "2023-02-20T20:21:57.671Z"
   },
   {
    "duration": 343,
    "start_time": "2023-02-21T14:55:25.819Z"
   },
   {
    "duration": 100,
    "start_time": "2023-02-21T15:12:54.100Z"
   }
  ],
  "colab": {
   "provenance": []
  },
  "kernelspec": {
   "display_name": "Python 3 (ipykernel)",
   "language": "python",
   "name": "python3"
  },
  "language_info": {
   "codemirror_mode": {
    "name": "ipython",
    "version": 3
   },
   "file_extension": ".py",
   "mimetype": "text/x-python",
   "name": "python",
   "nbconvert_exporter": "python",
   "pygments_lexer": "ipython3",
   "version": "3.11.5"
  },
  "toc": {
   "base_numbering": 1,
   "nav_menu": {},
   "number_sections": true,
   "sideBar": true,
   "skip_h1_title": true,
   "title_cell": "Table of Contents",
   "title_sidebar": "Contents",
   "toc_cell": false,
   "toc_position": {},
   "toc_section_display": true,
   "toc_window_display": true
  }
 },
 "nbformat": 4,
 "nbformat_minor": 5
}
